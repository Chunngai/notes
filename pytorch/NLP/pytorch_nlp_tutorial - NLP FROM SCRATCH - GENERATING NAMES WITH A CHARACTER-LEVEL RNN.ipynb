{
 "cells": [
  {
   "cell_type": "markdown",
   "metadata": {},
   "source": [
    "## Prepareing the Data"
   ]
  },
  {
   "cell_type": "code",
   "execution_count": 1,
   "metadata": {},
   "outputs": [],
   "source": [
    "import string\n",
    "\n",
    "letters = string.ascii_letters + \" .,;'-\"\n",
    "n_letters = len(letters)\n",
    "\n",
    "language_names = {}\n",
    "languages = []\n",
    "n_languages = 0"
   ]
  },
  {
   "cell_type": "code",
   "execution_count": 2,
   "metadata": {},
   "outputs": [],
   "source": [
    "import glob\n",
    "\n",
    "def find_files(path):\n",
    "    return glob.glob(path)"
   ]
  },
  {
   "cell_type": "code",
   "execution_count": 3,
   "metadata": {},
   "outputs": [],
   "source": [
    "import unicodedata\n",
    "\n",
    "def unicode_2_ascii(unicode_string):\n",
    "    ascii_string = \"\"\n",
    "    \n",
    "    for char in unicodedata.normalize(\"NFD\", unicode_string):\n",
    "        if unicodedata.category(char) != \"Mn\" and char in letters:\n",
    "            ascii_string += char\n",
    "            \n",
    "    return ascii_string"
   ]
  },
  {
   "cell_type": "code",
   "execution_count": 4,
   "metadata": {},
   "outputs": [],
   "source": [
    "def read_names(file_name):\n",
    "    with open(file_name, encoding=\"utf-8\") as f:\n",
    "        file_data = f.read()\n",
    "        \n",
    "    names = file_data.strip().split('\\n')\n",
    "    names = [unicode_2_ascii(name) for name in names]\n",
    "    \n",
    "    return names"
   ]
  },
  {
   "cell_type": "code",
   "execution_count": 5,
   "metadata": {},
   "outputs": [],
   "source": [
    "import os\n",
    "\n",
    "for file_name in find_files(\"data/names/*.txt\"):\n",
    "    language = os.path.splitext(os.path.basename(file_name))[0]\n",
    "    names = read_names(file_name)\n",
    "    \n",
    "    language_names[language] = names\n",
    "    \n",
    "languages = list(language_names.keys())\n",
    "n_languages = len(languages)"
   ]
  },
  {
   "cell_type": "markdown",
   "metadata": {},
   "source": [
    " "
   ]
  },
  {
   "cell_type": "markdown",
   "metadata": {},
   "source": [
    "## Creating the Network"
   ]
  },
  {
   "cell_type": "code",
   "execution_count": 6,
   "metadata": {},
   "outputs": [],
   "source": [
    "import torch\n",
    "import torch.nn as nn\n",
    "\n",
    "class RNN(nn.Module):\n",
    "    def __init__(self, input_size, hidden_size, output_size):\n",
    "        super(RNN, self).__init__()\n",
    "        \n",
    "        self.hidden_size = hidden_size\n",
    "        \n",
    "        self.i2h = nn.Linear(n_languages + input_size + hidden_size, hidden_size)\n",
    "        self.i2o = nn.Linear(n_languages + input_size + hidden_size, output_size)\n",
    "        \n",
    "        self.o2o = nn.Linear(hidden_size + output_size, output_size)\n",
    "        self.dropout = nn.Dropout(0.1)\n",
    "        self.softmax = nn.LogSoftmax(dim=1)\n",
    "        \n",
    "    def forward(self, language, input_, hidden):\n",
    "        input_combined = torch.cat((language, input_, hidden), 1)\n",
    "        \n",
    "        hidden = self.i2h(input_combined)\n",
    "        output = self.i2o(input_combined)\n",
    "        \n",
    "        output_combined = torch.cat((hidden, output), 1)\n",
    "        \n",
    "        output = self.o2o(output_combined)\n",
    "        output = self.dropout(output)\n",
    "        output = self.softmax(output)\n",
    "        \n",
    "        return output, hidden\n",
    "    \n",
    "    def init_hidden(self):\n",
    "        return torch.zeros(1, self.hidden_size)"
   ]
  },
  {
   "cell_type": "code",
   "execution_count": 7,
   "metadata": {},
   "outputs": [],
   "source": [
    "rnn = RNN(n_letters, 128, n_letters)"
   ]
  },
  {
   "cell_type": "markdown",
   "metadata": {},
   "source": [
    " "
   ]
  },
  {
   "cell_type": "markdown",
   "metadata": {},
   "source": [
    "## Training"
   ]
  },
  {
   "cell_type": "markdown",
   "metadata": {},
   "source": [
    "### Preparing for Training"
   ]
  },
  {
   "cell_type": "code",
   "execution_count": 8,
   "metadata": {},
   "outputs": [],
   "source": [
    "import random\n",
    "\n",
    "def random_choice(list_):\n",
    "    return list_[random.randint(0, len(list_) - 1)]"
   ]
  },
  {
   "cell_type": "code",
   "execution_count": 9,
   "metadata": {},
   "outputs": [],
   "source": [
    "def random_training_pair():\n",
    "    language = random_choice(languages)\n",
    "    name = random_choice(language_names[language])\n",
    "    \n",
    "    return language, name"
   ]
  },
  {
   "cell_type": "code",
   "execution_count": 10,
   "metadata": {},
   "outputs": [],
   "source": [
    "def language_tensor(language):\n",
    "    language_idx = languages.index(language)\n",
    "    \n",
    "    tensor = torch.zeros(1, n_languages)\n",
    "    tensor[0][language_idx] = 1\n",
    "    \n",
    "    return tensor"
   ]
  },
  {
   "cell_type": "code",
   "execution_count": 11,
   "metadata": {},
   "outputs": [],
   "source": [
    "def input_tensor(input_):\n",
    "    tensor = torch.zeros(len(input_), 1, n_letters)\n",
    "    \n",
    "    for i in range(len(input_)):\n",
    "        char = input_[i]\n",
    "        \n",
    "        tensor[i][0][letters.index(char)] = 1\n",
    "        \n",
    "    return tensor"
   ]
  },
  {
   "cell_type": "code",
   "execution_count": 12,
   "metadata": {},
   "outputs": [],
   "source": [
    "def target_tensor(name):\n",
    "    letter_idxs = [letters.index(name[i]) for i in range(1, len(name))]\n",
    "    letter_idxs.append(n_letters - 1)  # EOS\n",
    "    \n",
    "    return torch.tensor(letter_idxs, dtype=torch.long).unsqueeze_(-1)"
   ]
  },
  {
   "cell_type": "code",
   "execution_count": 13,
   "metadata": {},
   "outputs": [],
   "source": [
    "def random_training_example():\n",
    "    language, name = random_training_pair()\n",
    "    \n",
    "    language = language_tensor(language)\n",
    "    input_name = input_tensor(name)\n",
    "    target_name = target_tensor(name)\n",
    "    \n",
    "    return language, input_name, target_name"
   ]
  },
  {
   "cell_type": "markdown",
   "metadata": {},
   "source": [
    "### Training the Network\n",
    "In contrast to classification, where only the last output is used, we are making a prediction at every step, so we are calculating loss at every step."
   ]
  },
  {
   "cell_type": "code",
   "execution_count": 14,
   "metadata": {},
   "outputs": [],
   "source": [
    "n_iters = 100_000\n",
    "\n",
    "print_every = 5_000\n",
    "plot_every = 500\n",
    "losses = []"
   ]
  },
  {
   "cell_type": "code",
   "execution_count": 15,
   "metadata": {},
   "outputs": [],
   "source": [
    "criterion = nn.NLLLoss()"
   ]
  },
  {
   "cell_type": "code",
   "execution_count": 16,
   "metadata": {},
   "outputs": [],
   "source": [
    "import torch.optim as optim\n",
    "\n",
    "optimizer = optim.SGD(rnn.parameters(), lr=0.005)"
   ]
  },
  {
   "cell_type": "code",
   "execution_count": 17,
   "metadata": {},
   "outputs": [],
   "source": [
    "def train(language_tensor, input_line_tensor, target_line_tensor):    \n",
    "    hidden = rnn.init_hidden()\n",
    "    \n",
    "    rnn.zero_grad()\n",
    "    \n",
    "    loss = 0\n",
    "    for i in range(input_line_tensor.size()[0]):\n",
    "        output, hidden = rnn(language_tensor, input_line_tensor[i], hidden)\n",
    "        \n",
    "        loss_ = criterion(output, target_line_tensor[i])\n",
    "        loss += loss_\n",
    "        \n",
    "    loss.backward()\n",
    "    \n",
    "    optimizer.step()\n",
    "    \n",
    "    return output, loss.item() / input_line_tensor.size()[0]"
   ]
  },
  {
   "cell_type": "code",
   "execution_count": 18,
   "metadata": {},
   "outputs": [],
   "source": [
    "import time\n",
    "\n",
    "def time_since(since):\n",
    "    now = time.time()\n",
    "    \n",
    "    total_secs = now - since\n",
    "    \n",
    "    minutes = int(total_secs / 60)\n",
    "    seconds = total_secs - minutes * 60\n",
    "    \n",
    "    return f\"{minutes:.0f}m {seconds:.0f}s\""
   ]
  },
  {
   "cell_type": "code",
   "execution_count": 19,
   "metadata": {},
   "outputs": [],
   "source": [
    "import matplotlib.pyplot as plt\n",
    "\n",
    "def plot_losses(losses):\n",
    "    plt.plot(losses)\n",
    "    plt.show()"
   ]
  },
  {
   "cell_type": "code",
   "execution_count": 20,
   "metadata": {},
   "outputs": [
    {
     "name": "stdout",
     "output_type": "stream",
     "text": [
      "0m 13s (5000 5%) 2.6762\n",
      "0m 28s (10000 10%) 1.4358\n",
      "0m 43s (15000 15%) 4.2015\n",
      "0m 59s (20000 20%) 2.1646\n",
      "1m 13s (25000 25%) 1.5673\n",
      "1m 27s (30000 30%) 2.6783\n",
      "1m 40s (35000 35%) 1.8770\n",
      "1m 54s (40000 40%) 2.4832\n",
      "2m 8s (45000 45%) 3.1461\n",
      "2m 21s (50000 50%) 2.6114\n",
      "2m 35s (55000 55%) 2.6303\n",
      "2m 49s (60000 60%) 2.8389\n",
      "3m 4s (65000 65%) 2.3217\n",
      "3m 19s (70000 70%) 1.8398\n",
      "3m 33s (75000 75%) 3.0189\n",
      "3m 47s (80000 80%) 1.8619\n",
      "4m 2s (85000 85%) 2.9715\n",
      "4m 17s (90000 90%) 2.2235\n",
      "4m 32s (95000 95%) 1.8178\n",
      "4m 46s (100000 100%) 1.8213\n"
     ]
    },
    {
     "data": {
      "image/png": "[encoded data removed]",
      "text/plain": [
       "<Figure size 432x288 with 1 Axes>"
      ]
     },
     "metadata": {
      "needs_background": "light"
     },
     "output_type": "display_data"
    }
   ],
   "source": [
    "total_loss = 0\n",
    "start = time.time()\n",
    "\n",
    "for iteration in range(1, n_iters + 1):\n",
    "    language, input_, target = random_training_example()\n",
    "    \n",
    "    output, loss = train(language, input_, target)\n",
    "    \n",
    "    if iteration % print_every == 0:\n",
    "        print(f\"{time_since(start)} ({iteration:.0f} {iteration / n_iters:.0%}) {loss:.4f}\")\n",
    "    \n",
    "    total_loss += loss\n",
    "    if iteration % plot_every == 0:\n",
    "        losses.append(total_loss / plot_every)\n",
    "        total_loss = 0\n",
    "        \n",
    "plot_losses(losses)"
   ]
  },
  {
   "cell_type": "markdown",
   "metadata": {},
   "source": [
    " "
   ]
  },
  {
   "cell_type": "markdown",
   "metadata": {},
   "source": [
    "## Sampling the Network"
   ]
  },
  {
   "cell_type": "code",
   "execution_count": 21,
   "metadata": {},
   "outputs": [],
   "source": [
    "max_length = 20"
   ]
  },
  {
   "cell_type": "code",
   "execution_count": 22,
   "metadata": {},
   "outputs": [],
   "source": [
    "def sample(language, start_letter=\"A\"):\n",
    "    with torch.no_grad():\n",
    "        language = language_tensor(language)\n",
    "        input_ = input_tensor(start_letter)\n",
    "        \n",
    "        output_name = start_letter\n",
    "        \n",
    "        hidden = rnn.init_hidden()\n",
    "                \n",
    "        for i in range(max_length):\n",
    "            output, hidden = rnn(language, input_[0], hidden)\n",
    "            \n",
    "            _, top_idxs = output.topk(1)\n",
    "            top_idx = top_idxs[0][0]\n",
    "            \n",
    "            if top_idx == n_letters - 1:\n",
    "                break\n",
    "            else:\n",
    "                letter = letters[top_idx]\n",
    "                output_name += letter\n",
    "            \n",
    "            input_ = input_tensor(letter)\n",
    "            \n",
    "        return output_name"
   ]
  },
  {
   "cell_type": "code",
   "execution_count": 23,
   "metadata": {},
   "outputs": [],
   "source": [
    "def samples(language, start_letters=\"ABC\"):\n",
    "    for start_letter in start_letters:\n",
    "        print(sample(language, start_letter))\n",
    "    print()"
   ]
  },
  {
   "cell_type": "code",
   "execution_count": 24,
   "metadata": {},
   "outputs": [
    {
     "name": "stdout",
     "output_type": "stream",
     "text": [
      "Roskov\n",
      "Urishav\n",
      "Sakov\n",
      "\n",
      "Gring\n",
      "Echerter\n",
      "Romer\n",
      "\n",
      "Salo\n",
      "Parrai\n",
      "Abara\n",
      "\n",
      "Cha\n",
      "Han\n",
      "Ina\n",
      "\n"
     ]
    }
   ],
   "source": [
    "samples('Russian', 'RUS')\n",
    "\n",
    "samples('German', 'GER')\n",
    "\n",
    "samples('Spanish', 'SPA')\n",
    "\n",
    "samples('Chinese', 'CHI')"
   ]
  },
  {
   "cell_type": "code",
   "execution_count": null,
   "metadata": {},
   "outputs": [],
   "source": []
  }
 ],
 "metadata": {
  "kernelspec": {
   "display_name": "Python 3",
   "language": "python",
   "name": "python3"
  },
  "language_info": {
   "codemirror_mode": {
    "name": "ipython",
    "version": 3
   },
   "file_extension": ".py",
   "mimetype": "text/x-python",
   "name": "python",
   "nbconvert_exporter": "python",
   "pygments_lexer": "ipython3",
   "version": "3.7.5"
  }
 },
 "nbformat": 4,
 "nbformat_minor": 4
}
