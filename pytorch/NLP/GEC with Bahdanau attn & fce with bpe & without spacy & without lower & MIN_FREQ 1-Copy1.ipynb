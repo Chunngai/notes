{
 "cells": [
  {
   "cell_type": "markdown",
   "metadata": {},
   "source": [
    "## Prepare for Data"
   ]
  },
  {
   "cell_type": "code",
   "execution_count": 1,
   "metadata": {},
   "outputs": [],
   "source": [
    "from torchtext.datasets import TranslationDataset\n",
    "\n",
    "class GEC_DATASET(TranslationDataset):\n",
    "    @classmethod\n",
    "    def splits(cls, \n",
    "               exts, \n",
    "               fields, \n",
    "               root, \n",
    "               train=\"train\", \n",
    "               validation=\"dev\", \n",
    "               test=\"test\", \n",
    "               **kwargs):\n",
    "        \n",
    "        return super(GEC_DATASET, cls).splits(exts=exts, \n",
    "                                      fields=fields,\n",
    "                                      path=root, \n",
    "                                      root=root,\n",
    "                                      train=train, \n",
    "                                      validation=validation, \n",
    "                                      test=test,\n",
    "                                      **kwargs)"
   ]
  },
  {
   "cell_type": "code",
   "execution_count": 2,
   "metadata": {},
   "outputs": [],
   "source": [
    "from torchtext.data import Field\n",
    "from torchtext.data import BucketIterator\n",
    "\n",
    "def prepare_data(root):\n",
    "    src_field = Field(init_token=\"<sos>\", eos_token=\"<eos>\", tokenize=lambda sentence: sentence.split(' '))\n",
    "    trg_field = Field(init_token=\"<sos>\", eos_token=\"<eos>\", tokenize=lambda sentence: sentence.split(' '))\n",
    "    \n",
    "    #? Should be lower?\n",
    "    \n",
    "    train_set, valid_set, test_set = GEC_DATASET.splits(exts=('.src', '.trg'), \n",
    "                                                        fields=(src_field, trg_field),\n",
    "                                                        root=root,\n",
    "                                                        filter_pred=lambda sentence: \n",
    "                                                        len(vars(sentence)['src']) < MAX_LEN \n",
    "                                                        and len(vars(sentence)['trg']) < MAX_LEN)\n",
    "\n",
    "    src_field.build_vocab(train_set, min_freq=MIN_FREQ)\n",
    "    trg_field.build_vocab(train_set, min_freq=MIN_FREQ)\n",
    "\n",
    "    train_iter, valid_iter, test_iter = BucketIterator.splits(\n",
    "        datasets=(train_set, valid_set, test_set), \n",
    "        batch_size=BATCH_SIZE,\n",
    "        device=DEVICE)\n",
    "    \n",
    "    return src_field, trg_field, train_iter, valid_iter, test_iter, train_set, valid_set, test_set"
   ]
  },
  {
   "cell_type": "markdown",
   "metadata": {},
   "source": [
    " "
   ]
  },
  {
   "cell_type": "markdown",
   "metadata": {},
   "source": [
    "## Building the Model"
   ]
  },
  {
   "cell_type": "markdown",
   "metadata": {},
   "source": [
    "### Encoder"
   ]
  },
  {
   "cell_type": "code",
   "execution_count": 3,
   "metadata": {},
   "outputs": [],
   "source": [
    "import torch.nn as nn\n",
    "import torch.nn.functional as F\n",
    "\n",
    "class Encoder(nn.Module):\n",
    "    def __init__(self, src_vocab_size):  \n",
    "        super().__init__()\n",
    "        \n",
    "        self.embedding = nn.Embedding(src_vocab_size, ENC_EMB_DIM)\n",
    "        self.dropout = nn.Dropout(ENC_DROPOUT)  #+ dropout\n",
    "        \n",
    "        self.gru = nn.GRU(ENC_EMB_DIM, ENC_HID_DIM, bidirectional=True)\n",
    "        \n",
    "        self.fc = nn.Linear(ENC_HID_DIM * 2, DEC_HID_DIM)\n",
    "        \n",
    "    def forward(self, inputs):\n",
    "        # (in)  inputs: [src_len, batch_size]\n",
    "        # (out) outputs: [src_len, batch_size, enc_hid_dim * 2]\n",
    "        # (out) hidden: [batch_size, dec_hid_dim]\n",
    "        \n",
    "        # (in)  inputs\n",
    "        # (out) embedded: [src_len, batch_size, enc_emb_dim]\n",
    "        embedded = self.dropout(\n",
    "            self.embedding(inputs))\n",
    "        \n",
    "        # (in)  embedded\n",
    "        # (out) outputs: [src_len, batch_size, enc_hid_dim * 2]\n",
    "        # (out) hiddens: [2, batch_size, enc_hid_dim]\n",
    "        outputs, hiddens = self.gru(embedded)\n",
    "        \n",
    "        # (in)  hiddens\n",
    "        # (out) hidden: [batch_size, dec_hid_dim]\n",
    "        hidden = torch.tanh(\n",
    "            self.fc(\n",
    "                torch.cat((hiddens[0], \n",
    "                           hiddens[1]), dim=1)))\n",
    "        \n",
    "        return outputs, hidden"
   ]
  },
  {
   "cell_type": "markdown",
   "metadata": {},
   "source": [
    "### Attention"
   ]
  },
  {
   "cell_type": "code",
   "execution_count": 4,
   "metadata": {},
   "outputs": [],
   "source": [
    "class Attn(nn.Module):\n",
    "    def __init__(self):\n",
    "        super().__init__()\n",
    "        \n",
    "        self.fc = nn.Linear(DEC_HID_DIM + ENC_HID_DIM * 2, ATTN_V_DIM)\n",
    "        self.v = nn.Parameter(torch.rand(1, ATTN_V_DIM))\n",
    "        \n",
    "    def forward(self, decoder_hidden, encoder_outputs):\n",
    "        # (in)  decoder_hidden: [batch_size, dec_hid_dim]\n",
    "        # (in)  encoder_outputs: [src_len, batch_size, enc_hid_dim * 2]\n",
    "        # (out) attn: [batch_size, src_len]\n",
    "        \n",
    "        # (in)  decoder_hidden\n",
    "        # (in)  encoder_outputs\n",
    "        # (out) energy: [batch_size, src_len, attn_v_dim]\n",
    "        energy = torch.tanh(\n",
    "            self.fc(\n",
    "                torch.cat((\n",
    "                    decoder_hidden.unsqueeze(1).repeat(1, encoder_outputs.size()[0], 1), \n",
    "                    encoder_outputs.permute(1, 0, 2)), dim=2)))\n",
    "        \n",
    "        # (in)  v: [1, attn_v_dim]\n",
    "        # (in)  energy\n",
    "        # (out) attn: [batch_size, src_len]\n",
    "        attn = F.softmax(self.v.unsqueeze(0).repeat(energy.size()[0], 1, 1).bmm(energy.permute(0, 2, 1)), dim=2).squeeze(1)  #m\n",
    "        \n",
    "        return attn"
   ]
  },
  {
   "cell_type": "markdown",
   "metadata": {},
   "source": [
    "### Decoder"
   ]
  },
  {
   "cell_type": "code",
   "execution_count": 5,
   "metadata": {},
   "outputs": [],
   "source": [
    "class Decoder(nn.Module):\n",
    "    def __init__(self, trg_vocab_size):  \n",
    "        super().__init__()\n",
    "        \n",
    "        self.embedding = nn.Embedding(trg_vocab_size, DEC_EMB_DIM)\n",
    "        self.dropout = nn.Dropout(DEC_DROPOUT)  #+ dropout\n",
    "        \n",
    "        self.attn = Attn()\n",
    "        \n",
    "        self.gru = nn.GRU(DEC_EMB_DIM + ENC_HID_DIM * 2, DEC_HID_DIM)\n",
    "        \n",
    "        self.fc = nn.Linear(DEC_EMB_DIM + ENC_HID_DIM * 2 + DEC_HID_DIM, trg_vocab_size)\n",
    "        \n",
    "    def forward(self, last_output, decoder_hidden, encoder_outputs):\n",
    "        # (in)  last_output: [batch_size]\n",
    "        # (in)  decoder_hidden: [batch_size, dec_hid_dim]\n",
    "        # (in)  encoder_outputs: [src_len, batch_size, enc_hid_dim * 2]\n",
    "        #!(out) decoder_outputs: [batch_size, trg_vocab_size]\n",
    "        # (out) decoder_hidden: [batch_size, dec_hid_dim]\n",
    "        \n",
    "        # (in)  last_output\n",
    "        # (out) embedded: [batch_size, dec_emb_dim]\n",
    "        embedded = self.dropout(\n",
    "            self.embedding(last_output))\n",
    "        \n",
    "        # (in)  decoder_hidden\n",
    "        # (in)  encoder_outputs\n",
    "        # (out) attn: [batch_size, src_len]\n",
    "        attn = self.attn(decoder_hidden, encoder_outputs)\n",
    "        # (in)  attn\n",
    "        # (in)  encoder_outputs\n",
    "        # (out) context: [batch, enc_hid_dim * 2]\n",
    "        context = attn.unsqueeze(1).bmm(encoder_outputs.permute(1, 0, 2)).squeeze(1)\n",
    "\n",
    "        # (in)  embedded\n",
    "        # (in)  context\n",
    "        # (in)  decoder_hidden\n",
    "        # (out) outputs: [1, batch_size, dec_hid_dim]\n",
    "        # (out) decoder_hidden: [1, batch_size, dec_hid_dim]\n",
    "        outputs, decoder_hidden = self.gru(\n",
    "            torch.cat((embedded.unsqueeze(0), \n",
    "                       context.unsqueeze(0)), dim=2), \n",
    "            decoder_hidden.unsqueeze(0))\n",
    "        \n",
    "        # (in)  embedded\n",
    "        # (in)  context\n",
    "        # (in)  decoder_hidden\n",
    "        # (out) decoder_outputs: [batch_size, trg_vocab_size]\n",
    "        decoder_outputs = self.fc(\n",
    "            torch.cat((embedded, \n",
    "                       context, \n",
    "                       decoder_hidden.squeeze(0)), dim=1))\n",
    "        \n",
    "        return decoder_outputs, decoder_hidden.squeeze(0), attn"
   ]
  },
  {
   "cell_type": "markdown",
   "metadata": {},
   "source": [
    "### Seq2Seq"
   ]
  },
  {
   "cell_type": "code",
   "execution_count": 6,
   "metadata": {},
   "outputs": [],
   "source": [
    "import random\n",
    "\n",
    "class Seq2Seq(nn.Module):\n",
    "    def __init__(self, src_vocab_size, trg_vocab_size):\n",
    "        super().__init__()\n",
    "        \n",
    "        self.encoder = Encoder(src_vocab_size)\n",
    "        self.decoder = Decoder(trg_vocab_size)\n",
    "        \n",
    "        self.trg_vocab_size = trg_vocab_size\n",
    "        \n",
    "    def forward(self, inputs, trgs, teacher_forcing_ratio=0.5):\n",
    "        # (in)  inputs: [src_len, batch_size]\n",
    "        # (in)  trgs: [trg_len, batch_size]\n",
    "        # (out) outputs: [trg_len, batch_size, trg_vocab_size]\n",
    "        \n",
    "        # seq len of inputs and trgs may not always be the same\n",
    "                \n",
    "        # Encode.\n",
    "        # (in)  inputs\n",
    "        # (out) encoder_outputs: [src_len, batch_size, enc_hid_dim * 2]\n",
    "        # (out) decoder_hidden: [batch_size, dec_hid_dim]\n",
    "        encoder_outputs, decoder_hidden = self.encoder(inputs)\n",
    "        \n",
    "        # Decode.\n",
    "        trg_len = trgs.size()[0]\n",
    "        batch_size = trgs.size()[1]\n",
    "        \n",
    "        outputs = torch.zeros(trg_len, batch_size, self.trg_vocab_size, device=DEVICE)\n",
    "\n",
    "        decoder_outputs = trgs[0]\n",
    "        for t in range(1, trg_len):\n",
    "            # (in)  decoder_output: [batch_size]\n",
    "            # (in)  decoder_hidden\n",
    "            # (in)  encoder_outputs\n",
    "            #!(out) decoder_outputs: [batch_size, trg_vocab_size]\n",
    "            # (out) decoder_hidden: [batch_size, dec_hid_dim]\n",
    "            decoder_outputs, decoder_hidden, _ = self.decoder(decoder_outputs, \n",
    "                                                           decoder_hidden, \n",
    "                                                           encoder_outputs)\n",
    "            \n",
    "            outputs[t] = decoder_outputs\n",
    "            \n",
    "            decoder_outputs = decoder_outputs.argmax(dim=1) if teacher_forcing_ratio <= random.random() else trgs[t]\n",
    "            \n",
    "        return outputs"
   ]
  },
  {
   "cell_type": "code",
   "execution_count": 7,
   "metadata": {},
   "outputs": [],
   "source": [
    "def init_weights(m):  #+ init weights\n",
    "    for name, param in m.named_parameters():\n",
    "        if 'weight' in name:\n",
    "            nn.init.normal_(param.data, mean=0, std=0.01)\n",
    "        else:\n",
    "            nn.init.constant_(param.data, 0)"
   ]
  },
  {
   "cell_type": "markdown",
   "metadata": {},
   "source": [
    " "
   ]
  },
  {
   "cell_type": "markdown",
   "metadata": {},
   "source": [
    "## Training and Validating"
   ]
  },
  {
   "cell_type": "code",
   "execution_count": 8,
   "metadata": {},
   "outputs": [],
   "source": [
    "def _train(train_iter, model, criterion, optimizer):\n",
    "    \n",
    "    train_loss = 0\n",
    "    \n",
    "    model.train()\n",
    "    \n",
    "    for batch in train_iter:\n",
    "        \n",
    "        # Gets data.\n",
    "        srcs = batch.src\n",
    "        trgs = batch.trg\n",
    "        \n",
    "        # Forward.\n",
    "        outputs = model(srcs, trgs)\n",
    "        \n",
    "        # Loss.\n",
    "        loss = criterion(outputs[1:].view(-1, outputs.size()[-1]), \n",
    "                         trgs[1:].view(-1))  #m\n",
    "        \n",
    "        # Backward.\n",
    "        loss.backward()\n",
    "        \n",
    "        torch.nn.utils.clip_grad_norm_(model.parameters(), CLIP)  #+\n",
    "        \n",
    "        # Updates params\n",
    "        optimizer.step()\n",
    "        # Zeros grad.\n",
    "        optimizer.zero_grad()\n",
    "        \n",
    "        train_loss += loss.item()\n",
    "        \n",
    "    return train_loss / len(train_iter)"
   ]
  },
  {
   "cell_type": "code",
   "execution_count": 9,
   "metadata": {},
   "outputs": [],
   "source": [
    "def _evaluate(data_iter, model, criterion):\n",
    "    \n",
    "    eval_loss = 0\n",
    "    \n",
    "    model.eval()\n",
    "    \n",
    "    with torch.no_grad():\n",
    "        for batch in data_iter:\n",
    "\n",
    "            # Gets data.\n",
    "            srcs = batch.src\n",
    "            trgs = batch.trg\n",
    "\n",
    "            # Forward.\n",
    "            outputs = model(srcs, trgs, 0)\n",
    "\n",
    "            # Loss.\n",
    "            loss = criterion(outputs[1:].view(-1, outputs.size()[-1]), \n",
    "                             trgs[1:].view(-1))  #m\n",
    "\n",
    "            eval_loss += loss.item()\n",
    "        \n",
    "        return eval_loss / len(data_iter)"
   ]
  },
  {
   "cell_type": "code",
   "execution_count": 10,
   "metadata": {},
   "outputs": [],
   "source": [
    "def time_track(start, end):\n",
    "    \n",
    "    elapsed_time = end - start\n",
    "    \n",
    "    mins = int(elapsed_time / 60)\n",
    "    secs = int(elapsed_time % 60)\n",
    "    \n",
    "    return f\"{mins:>2}mins {secs:>2}secs\""
   ]
  },
  {
   "cell_type": "code",
   "execution_count": 11,
   "metadata": {},
   "outputs": [],
   "source": [
    "import time\n",
    "import math\n",
    "import copy\n",
    "\n",
    "def train(train_iter, valid_iter, model, criterion, optimizer):\n",
    "        \n",
    "    min_valid_loss = float(\"inf\")  #+\n",
    "    \n",
    "    for epoch in range(N_EPOCHS):\n",
    "        \n",
    "        start = time.time()\n",
    "        \n",
    "        train_loss = _train(train_iter, model, criterion, optimizer)\n",
    "        valid_loss = _evaluate(valid_iter, model, criterion)\n",
    "    \n",
    "        end = time.time()\n",
    "        \n",
    "        print(f\"epoch: {epoch + 1:02}, time: {time_track(start, end)}\")\n",
    "        print(f\"train loss: {train_loss:.3f}, train ppl: {math.exp(train_loss):.3f}\")\n",
    "        print(f\"valid loss: {valid_loss:.3f}, valid ppl: {math.exp(valid_loss):.3f}\")\n",
    "        \n",
    "        if valid_loss < min_valid_loss:  #+\n",
    "            min_valid_loss = valid_loss\n",
    "            torch.save(model.state_dict(), PT)\n",
    "            \n",
    "    print()"
   ]
  },
  {
   "cell_type": "markdown",
   "metadata": {},
   "source": [
    " "
   ]
  },
  {
   "cell_type": "markdown",
   "metadata": {},
   "source": [
    "## Testing"
   ]
  },
  {
   "cell_type": "code",
   "execution_count": 12,
   "metadata": {},
   "outputs": [],
   "source": [
    "def test(test_iter, model, criterion):\n",
    "    model.load_state_dict(torch.load(PT))\n",
    "    \n",
    "    test_loss = _evaluate(test_iter, model, criterion)\n",
    "\n",
    "    print(f\"test loss: {test_loss:.3f}, test ppl: {math.exp(test_loss):.3f}\")\n",
    "    print()"
   ]
  },
  {
   "cell_type": "markdown",
   "metadata": {},
   "source": [
    " "
   ]
  },
  {
   "cell_type": "markdown",
   "metadata": {},
   "source": [
    "## Inference  #+"
   ]
  },
  {
   "cell_type": "markdown",
   "metadata": {},
   "source": [
    " "
   ]
  },
  {
   "cell_type": "code",
   "execution_count": 13,
   "metadata": {},
   "outputs": [],
   "source": [
    "def correct_sentence(sentence, src_field, trg_field, model):\n",
    "    \n",
    "    model.eval()\n",
    "        \n",
    "    if isinstance(sentence, str):\n",
    "        tokens = [token for token in sentence.split(' ')]\n",
    "    else:\n",
    "        tokens = sentence\n",
    "\n",
    "    tokens = [src_field.init_token] + tokens + [src_field.eos_token]\n",
    "        \n",
    "    src_indexes = [src_field.vocab.stoi[token] for token in tokens]\n",
    "    src_tensor = torch.tensor(src_indexes, dtype=torch.long, device=DEVICE).unsqueeze(1)\n",
    "    \n",
    "    with torch.no_grad():\n",
    "        encoder_outputs, hidden = model.encoder(src_tensor)\n",
    "        \n",
    "    trg_indexes = [trg_field.vocab.stoi[trg_field.init_token]]\n",
    "    attentions = torch.zeros(MAX_LEN, 1, len(src_indexes), device=DEVICE)\n",
    "    \n",
    "    for i in range(MAX_LEN):\n",
    "\n",
    "        trg_tensor = torch.tensor([trg_indexes[-1]], dtype=torch.long, device=DEVICE)\n",
    "                \n",
    "        with torch.no_grad():\n",
    "            output, hidden, attention = model.decoder(trg_tensor, hidden, encoder_outputs)\n",
    "            \n",
    "        pred_token = output.argmax(1).item()\n",
    "        \n",
    "        trg_indexes.append(pred_token)\n",
    "        attentions[i] = attention\n",
    "\n",
    "        if pred_token == trg_field.vocab.stoi[trg_field.eos_token]:\n",
    "            break\n",
    "    \n",
    "    trg_tokens = [trg_field.vocab.itos[i] for i in trg_indexes]\n",
    "    \n",
    "    return trg_tokens[1:], attentions[:len(trg_tokens)-1]"
   ]
  },
  {
   "cell_type": "code",
   "execution_count": 14,
   "metadata": {},
   "outputs": [],
   "source": [
    "def display_attention(sentence, correction, attention):\n",
    "    pass"
   ]
  },
  {
   "cell_type": "code",
   "execution_count": 15,
   "metadata": {},
   "outputs": [],
   "source": [
    "import random\n",
    "\n",
    "def inference(dataset, src_field, trg_field, model):\n",
    "    \n",
    "    for _ in range(10):\n",
    "        example_idx = random.randint(1, len(dataset))\n",
    "        \n",
    "        src = vars(dataset.examples[example_idx])['src']\n",
    "        trg = vars(dataset.examples[example_idx])['trg']\n",
    "\n",
    "        print(f\"src = {' '.join(src)}\")\n",
    "        print(f\"trg = {' '.join(trg)}\")\n",
    "        \n",
    "        correction, attention = correct_sentence(src, src_field, trg_field, model)\n",
    "        \n",
    "        print(f\"out = {' '.join(correction[:-1])}\")\n",
    "        \n",
    "        print('---')\n",
    "        \n",
    "#         display_attention(src, correction, attention)\n",
    "    \n",
    "    print()"
   ]
  },
  {
   "cell_type": "markdown",
   "metadata": {},
   "source": [
    " "
   ]
  },
  {
   "cell_type": "markdown",
   "metadata": {},
   "source": [
    "## BLEU #+"
   ]
  },
  {
   "cell_type": "code",
   "execution_count": 16,
   "metadata": {},
   "outputs": [],
   "source": [
    "from torchtext.data.metrics import bleu_score\n",
    "\n",
    "def calculate_bleu(data, src_field, trg_field, model):\n",
    "    \n",
    "    trgs = []\n",
    "    outs = []\n",
    "    \n",
    "    for datum in data:\n",
    "        \n",
    "        src = vars(datum)['src']\n",
    "        trg = vars(datum)['trg']\n",
    "        \n",
    "        out, _ = correct_sentence(src, src_field, trg_field, model)\n",
    "        \n",
    "        #cut off <eos> token\n",
    "        out = out[:-1]\n",
    "        \n",
    "        outs.append(out)\n",
    "        trgs.append([trg])\n",
    "        \n",
    "    return bleu_score(outs, trgs)"
   ]
  },
  {
   "cell_type": "markdown",
   "metadata": {},
   "source": [
    " "
   ]
  },
  {
   "cell_type": "markdown",
   "metadata": {},
   "source": [
    "## Main"
   ]
  },
  {
   "cell_type": "code",
   "execution_count": 17,
   "metadata": {},
   "outputs": [
    {
     "name": "stdout",
     "output_type": "stream",
     "text": [
      "epoch: 01, time:  5mins 11secs\n",
      "train loss: 5.511, train ppl: 247.399\n",
      "valid loss: 5.212, valid ppl: 183.479\n",
      "epoch: 02, time:  5mins 12secs\n",
      "train loss: 4.007, train ppl: 55.002\n",
      "valid loss: 3.489, valid ppl: 32.766\n",
      "epoch: 03, time:  5mins 13secs\n",
      "train loss: 2.875, train ppl: 17.723\n",
      "valid loss: 2.881, valid ppl: 17.832\n",
      "epoch: 04, time:  5mins 13secs\n",
      "train loss: 2.182, train ppl: 8.861\n",
      "valid loss: 2.636, valid ppl: 13.951\n",
      "epoch: 05, time:  5mins 13secs\n",
      "train loss: 1.770, train ppl: 5.869\n",
      "valid loss: 2.494, valid ppl: 12.109\n",
      "epoch: 06, time:  5mins 11secs\n",
      "train loss: 1.484, train ppl: 4.412\n",
      "valid loss: 2.374, valid ppl: 10.741\n",
      "epoch: 07, time:  5mins 14secs\n",
      "train loss: 1.275, train ppl: 3.579\n",
      "valid loss: 2.338, valid ppl: 10.364\n",
      "epoch: 08, time:  5mins 13secs\n",
      "train loss: 1.110, train ppl: 3.035\n",
      "valid loss: 2.380, valid ppl: 10.808\n",
      "epoch: 09, time:  5mins 11secs\n",
      "train loss: 0.969, train ppl: 2.635\n",
      "valid loss: 2.321, valid ppl: 10.184\n",
      "epoch: 10, time:  5mins 14secs\n",
      "train loss: 0.857, train ppl: 2.356\n",
      "valid loss: 2.387, valid ppl: 10.878\n",
      "\n",
      "test loss: 3.099, test ppl: 22.167\n",
      "\n"
     ]
    }
   ],
   "source": [
    "import torch\n",
    "import torch.optim as optim\n",
    "\n",
    "if __name__ == '__main__':\n",
    "    DEVICE = torch.device(\"cuda\") if torch.cuda.is_available() else torch.device(\"cpu\")\n",
    "    DATASET = \"../data/fce with bpe\"\n",
    "    \n",
    "    # Prepares for data.\n",
    "    ROOT = f\"{DATASET}/parallel\"\n",
    "    MAX_LEN = 100\n",
    "    MIN_FREQ = 1\n",
    "    BATCH_SIZE = 32\n",
    "\n",
    "    src_field, trg_field, train_iter, valid_iter, test_iter, train_set, valid_set, test_set = prepare_data(root=ROOT)\n",
    "    \n",
    "    # Model.\n",
    "    ENC_EMB_DIM = 600\n",
    "    ENC_HID_DIM = 1_000\n",
    "    ENC_DROPOUT = 0.7\n",
    "\n",
    "    DEC_EMB_DIM = 600\n",
    "    DEC_HID_DIM = 1_000\n",
    "    DEC_DROPOUT = 0.7\n",
    "    \n",
    "    ATTN_V_DIM = 1_000  #m\n",
    "    \n",
    "    model = Seq2Seq(len(src_field.vocab), len(trg_field.vocab)).to(DEVICE)\n",
    "    model.apply(init_weights)\n",
    "    \n",
    "    # Criterion.\n",
    "    criterion = nn.CrossEntropyLoss(ignore_index=trg_field.vocab.stoi[\"<pad>\"])\n",
    "    \n",
    "    # Optimizer.\n",
    "    LR = 0.0002\n",
    "    \n",
    "    optimizer = optim.Adam(model.parameters(), lr=LR)  #n Decreasing lr makes the change of valid_loss slowlier, thus easier to get the optimal?\n",
    "    \n",
    "    # Trains and validates.\n",
    "    N_EPOCHS = 10\n",
    "    CLIP = 1  #+\n",
    "    PT = f\"{DATASET}.pt\"\n",
    "    \n",
    "    train(train_iter, valid_iter, model, criterion, optimizer)\n",
    "    \n",
    "    # Tests.\n",
    "    test(test_iter, model, criterion)"
   ]
  },
  {
   "cell_type": "code",
   "execution_count": 18,
   "metadata": {},
   "outputs": [
    {
     "name": "stdout",
     "output_type": "stream",
     "text": [
      "training inference\n",
      "src = On balance some people still like shopping even if it is not always enjoyable and they have to stand in a long queue to buy something .\n",
      "trg = On balance some people still like shopping even if it is not always enjoyable and they have to stand in a long queue to buy something .\n",
      "out = On balance some people still like shopping even if it is not always enjoyable and they have to stand in a long queue to buy something .\n",
      "---\n",
      "src = The easy access to information and the new ways of communicating with other people help me save time that I can spend doing whatever I want to .\n",
      "trg = E@@ as@@ y access to information and the new ways of communicating with other people help me save time that I can spend doing whatever I want to .\n",
      "out = The easy access to information and the new ways of communicating with other people help me save time that I can spend doing whatever I want to .\n",
      "---\n",
      "src = It was perfectly terrible evening out .\n",
      "trg = It was a perfectly terrible evening out .\n",
      "out = It was a terrible terrible evening out .\n",
      "---\n",
      "src = It is not only a good fun to see the new fashions and things but also dec@@ rease the money in my pocket .\n",
      "trg = It is not only good fun to see the new fashions and things but it also dec@@ reas@@ es the amount of money in my pocket .\n",
      "out = It is not only a good fun to see the new fashions and things but also dec@@ reas@@ the money in my pocket .\n",
      "---\n",
      "src = Unfortunately , Pat was n't very good at keeping secrets .\n",
      "trg = Unfortunately , Pat was n't very good at keeping secrets .\n",
      "out = Unfortunately , Pat was n't very good at keeping secrets .\n",
      "---\n",
      "src = What I 'm talking about are the computer , which now can be found in almost every home and of course , the mobile phone !\n",
      "trg = What I 'm talking about are the computers , which now can be found in almost every home , and , of course , the mobile phone !\n",
      "out = What I 'm talking about are the computer , which now can be found in almost every home and of course , the mobile phone !\n",
      "---\n",
      "src = I am looking forward to hear from you .\n",
      "trg = I am looking forward to hearing from you .\n",
      "out = I am looking forward to hearing from you .\n",
      "---\n",
      "src = Dear Sir or Madam\n",
      "trg = Dear Sir or Madam\n",
      "out = Dear Sir or Madam\n",
      "---\n",
      "src = The ticket for the show is included .\n",
      "trg = The ticket for the show is enclosed .\n",
      "out = The ticket for the show is enclosed .\n",
      "---\n",
      "src = And is it ne@@ se@@ ss@@ ary to bring money , will we need them ?\n",
      "trg = And is it necessary to bring money , will we need it ?\n",
      "out = And is it necessary to bring money , will we need them ?\n",
      "---\n",
      "\n"
     ]
    }
   ],
   "source": [
    "print(\"training inference\")\n",
    "inference(train_set, src_field, trg_field, model)"
   ]
  },
  {
   "cell_type": "code",
   "execution_count": 19,
   "metadata": {},
   "outputs": [
    {
     "name": "stdout",
     "output_type": "stream",
     "text": [
      "validating inference\n",
      "src = It was a summer night and all the citi@@ zens , as well as tourists , had the opportunity to attend .\n",
      "trg = It was a summer night and all the citi@@ zens , as well as tourists , had the opportunity to attend .\n",
      "out = It was a summer night and all the decoration ance , as well as , , the the opportunity to attend .\n",
      "---\n",
      "src = The evening was a horrible surprise , completely different from the promise written in the advertisement .\n",
      "trg = The evening was a horrible surprise , completely different from what was promised in the advertisement .\n",
      "out = The evening was a horrible surprise , completely different from the employees written in the advertisement .\n",
      "---\n",
      "src = I am very keen on photography .\n",
      "trg = I am very keen on photography .\n",
      "out = I am very keen on photography .\n",
      "---\n",
      "src = However my family 's members do less communicate with each other than we used to , because my children are keen on playing computer games .\n",
      "trg = However , my family members do communicate with each other less than they used to , because my children are keen on playing computer games .\n",
      "out = However , my family 's members do less communicate with each other than we used to , because my children are keen on playing computer games .\n",
      "---\n",
      "src = Bye !\n",
      "trg = Bye !\n",
      "out = Bye !\n",
      "---\n",
      "src = So you can imagine how I felt because of the irrit@@ ating evening out I had .\n",
      "trg = So you can imagine how I felt because of the irrit@@ ating evening out I had .\n",
      "out = So you can imagine how I felt because of the din@@ evening out I had .\n",
      "---\n",
      "src = Man@@ ela B@@ .\n",
      "trg = Man@@ ela B@@ .\n",
      "out = Andre rsula B@@ .\n",
      "---\n",
      "src = The day of the party arrived and Pat succeeded in keeping the secret .\n",
      "trg = The day of the party arrived and Pat succeeded in keeping the secret .\n",
      "out = The day of the party arrived and Pat locked in the the secret .\n",
      "---\n",
      "src = The latest fashion will be on show and also the Leisure and sports wear . Really interesting !\n",
      "trg = The latest fashions will be on show and also the Leisure and sports wear . Really interesting !\n",
      "out = The latest fashion will be on show and also the Leisure and sports wear .\n",
      "---\n",
      "src = It 's funny .\n",
      "trg = It 's funny .\n",
      "out = It 's fun .\n",
      "---\n",
      "\n"
     ]
    }
   ],
   "source": [
    "print(\"validating inference\")\n",
    "inference(valid_set, src_field, trg_field, model)"
   ]
  },
  {
   "cell_type": "code",
   "execution_count": 20,
   "metadata": {},
   "outputs": [
    {
     "name": "stdout",
     "output_type": "stream",
     "text": [
      "testing inference\n",
      "src = C@@ all@@ ed \" pa@@ la@@ ce Hotel \" which is about 10 mil@@ es away from our College , the hotel will have a coach to pick the group up from the airport on 19th of June and then take the group to Con@@ fer@@ ence and return to hotel every day .\n",
      "trg = It is the \" Pa@@ la@@ ce Hotel \" , which is about 10 mil@@ es away from our College . The hotel will have a coach to pick the group up from the airport on the 19th of June and then take the group to the Con@@ fer@@ ence and return to the hotel every day .\n",
      "out = C@@ oin@@ ci@@ \" \" la@@ \" \" which is about 10 - re@@ away from our college , the hotel will have a technician to pick the group up from the airport on the of June and then take the group to attend the day .\n",
      "---\n",
      "src = When they would correct a word , they had to write the whole letter again .\n",
      "trg = When they wanted to correct a word , they had to write the whole letter again .\n",
      "out = When they would enter a word , they had to write the whole letter again .\n",
      "---\n",
      "src = Lastly , what you could possibly do while you will be waiting for three hours , for some people who want to go shopping .\n",
      "trg = Lastly , what you could possibly do while you will be waiting for three hours , for some people who want to go shopping .\n",
      "out = Lastly , what you could possibly do while you will be for for three hours for for people who want to go shopping .\n",
      "---\n",
      "src = Ne@@ u@@ ch@@ â@@ tel , 12th June 2001\n",
      "trg = Ne@@ u@@ ch@@ â@@ tel , 12th June 2001\n",
      "out = Du@@ u@@ ch@@ on@@ fer , 16/@@ June\n",
      "---\n",
      "src = The best way to get from there to the conf@@ er@@ ence is by co@@ ache , that I have arranged for you .\n",
      "trg = The best way to get from there to the conf@@ er@@ ence is by coach , which I have arranged for you .\n",
      "out = The best way to get from there to the po@@ er@@ is is literally ing that I have a benefit for you .\n",
      "---\n",
      "src = D@@ ATE : 12@@ .@@ 0@@ 6@@ .@@ 2001 .\n",
      "trg = D@@ ATE : 12@@ .@@ 0@@ 6@@ .@@ 2001 .\n",
      "out = D@@ usanne : 8@@ K@@ 0@@ 6@@ .@@ D .\n",
      "---\n",
      "src = I the last fourty years people seem to be completely addicted by using their own car .\n",
      "trg = In the last forty years people seem to have become completely addicted to using their car .\n",
      "out = I the last hundred years people seem to be completely lared by using their own car .\n",
      "---\n",
      "src = I 'm sure you 'll be fine here .\n",
      "trg = I 'm sure you 'll be fine here .\n",
      "out = I 'm sure you 'll be fine here .\n",
      "---\n",
      "src = They are between three and six pounds each .\n",
      "trg = T@@ ic@@ kets are between three and six pounds each .\n",
      "out = They are between three and six local each each each each each each each each each each each each each each each .\n",
      "---\n",
      "src = This invention has affected my life completely .\n",
      "trg = This invention has changed my life completely .\n",
      "out = This revenge has affected my life completely .\n",
      "---\n",
      "\n"
     ]
    }
   ],
   "source": [
    "print(\"testing inference\")\n",
    "inference(test_set, src_field, trg_field, model)"
   ]
  },
  {
   "cell_type": "code",
   "execution_count": 21,
   "metadata": {},
   "outputs": [
    {
     "name": "stdout",
     "output_type": "stream",
     "text": [
      "BLEU score = 52.07\n"
     ]
    }
   ],
   "source": [
    "bleu = calculate_bleu(test_set, src_field, trg_field, model)\n",
    "print(f'BLEU score = {bleu*100:.2f}')"
   ]
  },
  {
   "cell_type": "code",
   "execution_count": null,
   "metadata": {},
   "outputs": [],
   "source": []
  }
 ],
 "metadata": {
  "kernelspec": {
   "display_name": "Python 3",
   "language": "python",
   "name": "python3"
  },
  "language_info": {
   "codemirror_mode": {
    "name": "ipython",
    "version": 3
   },
   "file_extension": ".py",
   "mimetype": "text/x-python",
   "name": "python",
   "nbconvert_exporter": "python",
   "pygments_lexer": "ipython3",
   "version": "3.7.6"
  }
 },
 "nbformat": 4,
 "nbformat_minor": 4
}
