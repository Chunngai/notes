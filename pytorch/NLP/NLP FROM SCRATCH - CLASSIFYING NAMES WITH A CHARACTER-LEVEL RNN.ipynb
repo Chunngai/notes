{
 "cells": [
  {
   "cell_type": "markdown",
   "metadata": {},
   "source": [
    "## Preparing the Data"
   ]
  },
  {
   "cell_type": "code",
   "execution_count": 1,
   "metadata": {},
   "outputs": [],
   "source": [
    "import glob\n",
    "import os\n",
    "import unicodedata\n",
    "import string\n",
    "import random\n",
    "import time\n",
    "\n",
    "import torch\n",
    "import torch.nn as nn\n",
    "import torch.optim as optim\n",
    "import matplotlib.pyplot as plt\n",
    "import matplotlib.ticker as ticker"
   ]
  },
  {
   "cell_type": "code",
   "execution_count": 2,
   "metadata": {},
   "outputs": [],
   "source": [
    "# Finds {language}.txt files.\n",
    "def find_files(path):\n",
    "    return glob.glob(path)"
   ]
  },
  {
   "cell_type": "code",
   "execution_count": 3,
   "metadata": {},
   "outputs": [],
   "source": [
    "letters = string.ascii_letters + \" .,;'\"  # Some names may contain punctuation\n",
    "n_letters = len(letters)\n",
    "\n",
    "# Unicode -> ascii for names.\n",
    "def unicode_2_ascii(unicode_string):\n",
    "    ascii_string = ''\n",
    "    \n",
    "    for char in unicodedata.normalize(\"NFD\", unicode_string):\n",
    "        # Removes accent marks and non-ascii characters\n",
    "        if unicodedata.category(char) != \"Mn\" and char in letters:\n",
    "            ascii_string += char\n",
    "         \n",
    "    return ascii_string"
   ]
  },
  {
   "cell_type": "code",
   "execution_count": 4,
   "metadata": {},
   "outputs": [],
   "source": [
    "# Gets a list of names from a {language}.txt file.\n",
    "def read_names(file_name):\n",
    "    with open(file_name, encoding=\"utf-8\") as f:\n",
    "        file_data = f.read()\n",
    "    names = file_data.strip().split('\\n')\n",
    "    \n",
    "    return [unicode_2_ascii(name) for name in names]"
   ]
  },
  {
   "cell_type": "markdown",
   "metadata": {},
   "source": [
    " "
   ]
  },
  {
   "cell_type": "code",
   "execution_count": 5,
   "metadata": {},
   "outputs": [],
   "source": [
    "language_names = {}\n",
    "languages = []\n",
    "\n",
    "# Prepares data.\n",
    "for file_name in find_files(\"data/names/*.txt\"):\n",
    "    language = os.path.splitext(os.path.basename(file_name))[0]\n",
    "    languages.append(language)\n",
    "    \n",
    "    names = read_names(file_name)\n",
    "    language_names[language] = names\n",
    "\n",
    "n_languages = len(languages)"
   ]
  },
  {
   "cell_type": "markdown",
   "metadata": {},
   "source": [
    "### Turning Names into Tensors"
   ]
  },
  {
   "cell_type": "code",
   "execution_count": 6,
   "metadata": {},
   "outputs": [],
   "source": [
    "# Letter -> index.\n",
    "def letter_to_index(letter):\n",
    "    return letters.find(letter)"
   ]
  },
  {
   "cell_type": "code",
   "execution_count": 7,
   "metadata": {},
   "outputs": [],
   "source": [
    "# Name -> one-hot array.\n",
    "def name_to_tensor(name):\n",
    "    tensor = torch.zeros(len(name), 1, n_letters)\n",
    "    \n",
    "    for i, letter in enumerate(name):\n",
    "        tensor[i][0][letter_to_index(letter)] = 1\n",
    "\n",
    "    return tensor"
   ]
  },
  {
   "cell_type": "markdown",
   "metadata": {},
   "source": [
    " "
   ]
  },
  {
   "cell_type": "markdown",
   "metadata": {},
   "source": [
    "## Creating the Network"
   ]
  },
  {
   "cell_type": "code",
   "execution_count": 8,
   "metadata": {},
   "outputs": [],
   "source": [
    "class RNN(nn.Module):\n",
    "    def __init__(self, input_size, hidden_size, output_size):\n",
    "        super(RNN, self).__init__()\n",
    "        \n",
    "        self.hidden_size = hidden_size\n",
    "        \n",
    "        self.i2h = nn.Linear(input_size + hidden_size, hidden_size)\n",
    "        \n",
    "        self.i2o = nn.Linear(input_size + hidden_size, output_size)\n",
    "        self.softmax = nn.LogSoftmax(dim=1)\n",
    "        \n",
    "    def forward(self, input, hidden):\n",
    "        combined = torch.cat((input, hidden), 1)\n",
    "        \n",
    "        hidden = self.i2h(combined)\n",
    "        \n",
    "        output = self.i2o(combined)\n",
    "        output = self.softmax(output)\n",
    "        \n",
    "        return output, hidden\n",
    "    \n",
    "    def init_hidden(self):\n",
    "        return torch.zeros(1, self.hidden_size)"
   ]
  },
  {
   "cell_type": "code",
   "execution_count": 9,
   "metadata": {},
   "outputs": [],
   "source": [
    "n_hidden = 128\n",
    "rnn = RNN(n_letters, n_hidden, n_languages)"
   ]
  },
  {
   "cell_type": "markdown",
   "metadata": {},
   "source": [
    " "
   ]
  },
  {
   "cell_type": "markdown",
   "metadata": {},
   "source": [
    "## Training"
   ]
  },
  {
   "cell_type": "markdown",
   "metadata": {},
   "source": [
    "### Preparing for Training"
   ]
  },
  {
   "cell_type": "code",
   "execution_count": 10,
   "metadata": {},
   "outputs": [],
   "source": [
    "# Output -> language.\n",
    "def language_from_output(output):\n",
    "    top_logsoftmax, top_index = output.topk(1)\n",
    "    \n",
    "    language_index = top_index.item()\n",
    "    \n",
    "    return languages[language_index], language_index"
   ]
  },
  {
   "cell_type": "code",
   "execution_count": 11,
   "metadata": {},
   "outputs": [],
   "source": [
    "# Gets a random training example\n",
    "def random_choice(list_):\n",
    "    return list_[random.randint(0, len(list_) - 1)]\n",
    "\n",
    "def random_training_example():\n",
    "    language = random_choice(languages)\n",
    "    name = random_choice(language_names[language])\n",
    "\n",
    "    language_tensor = torch.tensor([languages.index(language)], dtype=torch.long)\n",
    "    name_tensor = name_to_tensor(name)\n",
    "    \n",
    "    return language, name, language_tensor, name_tensor"
   ]
  },
  {
   "cell_type": "markdown",
   "metadata": {},
   "source": [
    "### Training the Network"
   ]
  },
  {
   "cell_type": "code",
   "execution_count": 12,
   "metadata": {},
   "outputs": [],
   "source": [
    "criterion = nn.NLLLoss()"
   ]
  },
  {
   "cell_type": "code",
   "execution_count": 13,
   "metadata": {},
   "outputs": [],
   "source": [
    "optimizer = optim.SGD(rnn.parameters(), lr=0.005)"
   ]
  },
  {
   "cell_type": "code",
   "execution_count": 14,
   "metadata": {},
   "outputs": [],
   "source": [
    "def train(language_tensor, name_tensor):\n",
    "    hidden = rnn.init_hidden()\n",
    "    \n",
    "    rnn.zero_grad()\n",
    "    \n",
    "    # Trains with the customized RNN.\n",
    "    for i in range(name_tensor.size()[0]):\n",
    "        output, hidden = rnn(name_tensor[i], hidden)\n",
    "        \n",
    "    loss = criterion(output, language_tensor)\n",
    "    loss.backward()\n",
    "    \n",
    "    optimizer.step()\n",
    "        \n",
    "    return output, loss.item()"
   ]
  },
  {
   "cell_type": "code",
   "execution_count": 15,
   "metadata": {},
   "outputs": [],
   "source": [
    "def time_since(since):\n",
    "    now = time.time()\n",
    "    \n",
    "    total_secs = now - since\n",
    "    \n",
    "    minute = int(total_secs / 60)\n",
    "    second = total_secs - minute * 60\n",
    "    \n",
    "    return \"%dm %ds\" % (minute, second)"
   ]
  },
  {
   "cell_type": "code",
   "execution_count": 16,
   "metadata": {},
   "outputs": [
    {
     "name": "stdout",
     "output_type": "stream",
     "text": [
      "5000 5% (0m 6s) 2.7475 Bachmeier / French ✗ (German)\n",
      "10000 10% (0m 13s) 1.0696 Janowski / Polish ✓\n",
      "15000 15% (0m 21s) 2.7427 Porcher / German ✗ (French)\n",
      "20000 20% (0m 28s) 2.0458 Murphy / Scottish ✓\n",
      "25000 25% (0m 35s) 0.9873 Xuan / Chinese ✓\n",
      "30000 30% (0m 42s) 0.5278 Totah / Arabic ✓\n",
      "35000 35% (0m 48s) 0.7230 Chin / Korean ✓\n",
      "40000 40% (0m 54s) 4.3740 Chmiel / Irish ✗ (Polish)\n",
      "45000 45% (1m 0s) 0.1443 Uchiyama / Japanese ✓\n",
      "50000 50% (1m 7s) 0.2499 O'Connell / Irish ✓\n",
      "55000 55% (1m 14s) 2.1302 Cuoco / Vietnamese ✗ (Italian)\n",
      "60000 60% (1m 20s) 0.7904 Alamilla / Spanish ✓\n",
      "65000 65% (1m 26s) 4.9261 Shaw / Chinese ✗ (Scottish)\n",
      "70000 70% (1m 33s) 0.1781 Pispinis / Greek ✓\n",
      "75000 75% (1m 39s) 0.5967 Weng / Chinese ✓\n",
      "80000 80% (1m 46s) 1.9841 Moreau / Spanish ✗ (French)\n",
      "85000 85% (1m 53s) 0.3525 Fan / Chinese ✓\n",
      "90000 90% (1m 59s) 0.0216 Akiyama / Japanese ✓\n",
      "95000 95% (2m 6s) 0.3228 Faolan / Irish ✓\n",
      "100000 100% (2m 12s) 0.3591 Ly / Vietnamese ✓\n"
     ]
    }
   ],
   "source": [
    "n_iters = 100_000\n",
    "print_every = 5_000\n",
    "plot_every = 1_000\n",
    "\n",
    "current_loss = 0\n",
    "all_losses = []\n",
    "\n",
    "start = time.time()\n",
    "\n",
    "for iteration in range(1, n_iters + 1):\n",
    "    language, name, language_tensor, name_tensor = random_training_example()\n",
    "    output, loss = train(language_tensor, name_tensor)\n",
    "\n",
    "    # Tracks the training process\n",
    "    current_loss += loss\n",
    "    if iteration % print_every == 0:\n",
    "        guess, _ = language_from_output(output)\n",
    "        correct = '✓' if guess == language else '✗ (%s)' % language\n",
    "        print(\"%d %d%% (%s) %.4f %s / %s %s\" % (iteration, iteration / n_iters * 100, \n",
    "                                                time_since(start), loss, name, guess, \n",
    "                                                correct)\n",
    "             )\n",
    "              \n",
    "    if iteration % plot_every == 0:\n",
    "        all_losses.append(current_loss / plot_every)\n",
    "        current_loss = 0"
   ]
  },
  {
   "cell_type": "markdown",
   "metadata": {},
   "source": [
    "### Plotting the Results"
   ]
  },
  {
   "cell_type": "code",
   "execution_count": 17,
   "metadata": {},
   "outputs": [
    {
     "data": {
      "image/png": "[encoded data removed]",
      "text/plain": [
       "<Figure size 432x288 with 1 Axes>"
      ]
     },
     "metadata": {
      "needs_background": "light"
     },
     "output_type": "display_data"
    }
   ],
   "source": [
    "plt.plot(all_losses)\n",
    "plt.show()"
   ]
  },
  {
   "cell_type": "markdown",
   "metadata": {},
   "source": [
    " "
   ]
  },
  {
   "cell_type": "markdown",
   "metadata": {},
   "source": [
    "## Evaluating the Results"
   ]
  },
  {
   "cell_type": "code",
   "execution_count": 18,
   "metadata": {},
   "outputs": [],
   "source": [
    "confusion = torch.zeros(n_languages, n_languages)\n",
    "n_confusion = 10_000"
   ]
  },
  {
   "cell_type": "code",
   "execution_count": 19,
   "metadata": {},
   "outputs": [],
   "source": [
    "def evaluate(name_tensor):\n",
    "    hidden = rnn.init_hidden()\n",
    "    \n",
    "    for i in range(name_tensor.size()[0]):\n",
    "        output, hidden = rnn(name_tensor[i], hidden)\n",
    "        \n",
    "    return output"
   ]
  },
  {
   "cell_type": "code",
   "execution_count": 20,
   "metadata": {},
   "outputs": [],
   "source": [
    "for i in range(n_confusion):\n",
    "    language, name, language_tensor, name_tensor = random_training_example()\n",
    "    output = evaluate(name_tensor)\n",
    "    \n",
    "    guess, guess_index = language_from_output(output)\n",
    "    language_index = languages.index(language)\n",
    "    confusion[language_index][guess_index] += 1"
   ]
  },
  {
   "cell_type": "code",
   "execution_count": 21,
   "metadata": {},
   "outputs": [
    {
     "data": {
      "image/png": "[encoded data removed]",
      "text/plain": [
       "<Figure size 432x288 with 2 Axes>"
      ]
     },
     "metadata": {
      "needs_background": "light"
     },
     "output_type": "display_data"
    }
   ],
   "source": [
    "# Normalizes by dividing every row by its sum.\n",
    "for i in range(n_languages):\n",
    "    confusion[i] = confusion[i] / confusion[i].sum()\n",
    "\n",
    "fig = plt.figure()\n",
    "ax = fig.add_subplot(111)\n",
    "\n",
    "# Plots a colored matrix\n",
    "confusion_ax = ax.matshow(confusion.numpy())\n",
    "\n",
    "# Color bar.\n",
    "fig.colorbar(confusion_ax)\n",
    "\n",
    "# Sets tick labels.\n",
    "ax.set_xticklabels([''] + languages, rotation=90)\n",
    "ax.set_yticklabels([''] + languages)\n",
    "ax.xaxis.set_major_locator(ticker.MultipleLocator(1))\n",
    "ax.yaxis.set_major_locator(ticker.MultipleLocator(1))\n",
    "\n",
    "plt.show()"
   ]
  },
  {
   "cell_type": "markdown",
   "metadata": {},
   "source": [
    "### Running on User Input"
   ]
  },
  {
   "cell_type": "code",
   "execution_count": 22,
   "metadata": {},
   "outputs": [
    {
     "name": "stdout",
     "output_type": "stream",
     "text": [
      "\n",
      "> Dovesky\n",
      "(-0.84) Czech\n",
      "(-1.13) Russian\n",
      "(-2.41) English\n",
      "\n",
      "> Jackson\n",
      "(-0.62) Scottish\n",
      "(-1.33) English\n",
      "(-2.50) Russian\n",
      "\n",
      "> Satoshi\n",
      "(-1.10) Arabic\n",
      "(-1.16) Japanese\n",
      "(-2.01) Italian\n"
     ]
    }
   ],
   "source": [
    "def predict(input_name, n_predictions=3):\n",
    "    print(\"\\n> %s\" % input_name)\n",
    "    with torch.no_grad():\n",
    "        output = evaluate(name_to_tensor(input_name))\n",
    "        \n",
    "        top_value, top_index = output.topk(n_predictions, 1)\n",
    "        \n",
    "        for i in range(n_predictions):\n",
    "            value = top_value[0][i].item()\n",
    "            language_index = top_index[0][i].item()\n",
    "            \n",
    "            print(\"(%.2f) %s\" % (value, languages[language_index]))\n",
    "            \n",
    "predict('Dovesky')\n",
    "predict('Jackson')\n",
    "predict('Satoshi')"
   ]
  },
  {
   "cell_type": "code",
   "execution_count": null,
   "metadata": {},
   "outputs": [],
   "source": []
  }
 ],
 "metadata": {
  "kernelspec": {
   "display_name": "Python 3",
   "language": "python",
   "name": "python3"
  },
  "language_info": {
   "codemirror_mode": {
    "name": "ipython",
    "version": 3
   },
   "file_extension": ".py",
   "mimetype": "text/x-python",
   "name": "python",
   "nbconvert_exporter": "python",
   "pygments_lexer": "ipython3",
   "version": "3.7.5"
  }
 },
 "nbformat": 4,
 "nbformat_minor": 4
}
