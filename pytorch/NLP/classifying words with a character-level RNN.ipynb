{
 "cells": [
  {
   "cell_type": "markdown",
   "metadata": {},
   "source": [
    "## Prepare for Data"
   ]
  },
  {
   "cell_type": "code",
   "execution_count": 1,
   "metadata": {},
   "outputs": [],
   "source": [
    "import string\n",
    "\n",
    "language_words = {}\n",
    "languages = []\n",
    "n_languages = 0\n",
    "\n",
    "ascii_letters = string.ascii_letters\n",
    "n_ascii_letters = len(ascii_letters)"
   ]
  },
  {
   "cell_type": "code",
   "execution_count": 2,
   "metadata": {},
   "outputs": [],
   "source": [
    "import unicodedata\n",
    "\n",
    "def unicode_2_ascii(unicode_string):\n",
    "    ascii_string = ''\n",
    "    \n",
    "    for char in unicodedata.normalize(\"NFD\", unicode_string):\n",
    "        if char in ascii_letters:\n",
    "            ascii_string += char\n",
    "            \n",
    "    return ascii_string"
   ]
  },
  {
   "cell_type": "code",
   "execution_count": 3,
   "metadata": {},
   "outputs": [],
   "source": [
    "def collect_words(txt):\n",
    "    with open(txt) as f:\n",
    "        txt_data = f.read()\n",
    "\n",
    "    # Places words into a list by splitting space.\n",
    "    words = txt_data.split()\n",
    "    # Unicode -> ascii.\n",
    "    words = [unicode_2_ascii(word) for word in words]\n",
    "    # Removes duplicates.\n",
    "    words = list(set(words))\n",
    "    # Removes empty str.\n",
    "    try:\n",
    "        words.remove(\"\")\n",
    "    except:\n",
    "        pass\n",
    "    \n",
    "    return words"
   ]
  },
  {
   "cell_type": "code",
   "execution_count": 4,
   "metadata": {},
   "outputs": [],
   "source": [
    "import glob\n",
    "import os\n",
    "\n",
    "for txt in glob.glob(\"data_/*.txt\"):\n",
    "    language = os.path.splitext(os.path.basename(txt))[0]\n",
    "    words = collect_words(txt)\n",
    "    \n",
    "    language_words[language] = words\n",
    "    \n",
    "languages = list(language_words.keys())\n",
    "n_languages = len(languages)"
   ]
  },
  {
   "cell_type": "markdown",
   "metadata": {},
   "source": [
    " "
   ]
  },
  {
   "cell_type": "markdown",
   "metadata": {},
   "source": [
    "## Build a Model"
   ]
  },
  {
   "cell_type": "code",
   "execution_count": 5,
   "metadata": {},
   "outputs": [],
   "source": [
    "n_hidden = 128"
   ]
  },
  {
   "cell_type": "code",
   "execution_count": 6,
   "metadata": {},
   "outputs": [],
   "source": [
    "import torch\n",
    "import torch.nn as nn\n",
    "\n",
    "class RNN(nn.Module):\n",
    "    def __init__(self, input_size, hidden_size, output_size):\n",
    "        super(RNN, self).__init__()\n",
    "        \n",
    "        self.hidden_size = hidden_size\n",
    "        \n",
    "        self.i2h = nn.Linear(input_size + hidden_size, hidden_size)\n",
    "        self.i2o = nn.Linear(input_size + hidden_size, output_size)\n",
    "    \n",
    "    def forward(self, input_, hidden):\n",
    "        combined = torch.cat((input_, hidden), dim=1)\n",
    "        \n",
    "        hidden = self.i2h(combined)\n",
    "        \n",
    "        output = self.i2o(combined)\n",
    "        output = nn.LogSoftmax(dim=1)(output)  # log softmax\n",
    "        \n",
    "        return output, hidden\n",
    "    \n",
    "    def hidden_init(self):\n",
    "        return torch.zeros(1, self.hidden_size)"
   ]
  },
  {
   "cell_type": "code",
   "execution_count": 7,
   "metadata": {},
   "outputs": [],
   "source": [
    "rnn = RNN(n_ascii_letters, n_hidden, n_languages)"
   ]
  },
  {
   "cell_type": "markdown",
   "metadata": {},
   "source": [
    " "
   ]
  },
  {
   "cell_type": "markdown",
   "metadata": {},
   "source": [
    "## Loss Function"
   ]
  },
  {
   "cell_type": "code",
   "execution_count": 8,
   "metadata": {},
   "outputs": [],
   "source": [
    "loss_func = nn.NLLLoss()"
   ]
  },
  {
   "cell_type": "markdown",
   "metadata": {},
   "source": [
    " "
   ]
  },
  {
   "cell_type": "markdown",
   "metadata": {},
   "source": [
    "## Optimizer"
   ]
  },
  {
   "cell_type": "code",
   "execution_count": 9,
   "metadata": {},
   "outputs": [],
   "source": [
    "import torch.optim as optim\n",
    "\n",
    "optimizer = optim.SGD(rnn.parameters(), lr=0.005)"
   ]
  },
  {
   "cell_type": "markdown",
   "metadata": {},
   "source": [
    " "
   ]
  },
  {
   "cell_type": "markdown",
   "metadata": {},
   "source": [
    "## Train the Model"
   ]
  },
  {
   "cell_type": "code",
   "execution_count": 10,
   "metadata": {},
   "outputs": [],
   "source": [
    "n_train_iteration = 100_000\n",
    "\n",
    "n_display = 5_000\n",
    "n_plot = 1_000\n",
    "losses = []"
   ]
  },
  {
   "cell_type": "code",
   "execution_count": 11,
   "metadata": {},
   "outputs": [],
   "source": [
    "import random\n",
    "\n",
    "def random_choose(list_):\n",
    "    random_idx = random.randint(0, len(list_) - 1)\n",
    "    return list_[random_idx]"
   ]
  },
  {
   "cell_type": "code",
   "execution_count": 12,
   "metadata": {},
   "outputs": [],
   "source": [
    "def language_2_tensor(language):\n",
    "    return torch.tensor([languages.index(language)], dtype=torch.long)"
   ]
  },
  {
   "cell_type": "code",
   "execution_count": 13,
   "metadata": {},
   "outputs": [],
   "source": [
    "def word_2_tensor(word):    \n",
    "    word_tensor = torch.zeros(len(word), 1, n_ascii_letters)\n",
    "    for i in range(len(word)):\n",
    "        char = word[i]\n",
    "        word_tensor[i][0][ascii_letters.index(char)] = 1\n",
    "    \n",
    "    return word_tensor"
   ]
  },
  {
   "cell_type": "code",
   "execution_count": 14,
   "metadata": {},
   "outputs": [],
   "source": [
    "def random_example():\n",
    "    language = random_choose(languages)\n",
    "    word = random_choose(language_words[language])\n",
    "\n",
    "    language_tensor = language_2_tensor(language)\n",
    "    word_tensor = word_2_tensor(word)\n",
    "\n",
    "    return language_tensor, word_tensor"
   ]
  },
  {
   "cell_type": "code",
   "execution_count": 15,
   "metadata": {},
   "outputs": [],
   "source": [
    "def train(language, word):\n",
    "    hidden = rnn.hidden_init()\n",
    "    \n",
    "    rnn.zero_grad()  # remember\n",
    "    \n",
    "    for char in word:\n",
    "        # Forward.\n",
    "        output, hidden = rnn(char, hidden)\n",
    "        \n",
    "    loss = loss_func(output, language)  # outside the range\n",
    "\n",
    "    # Backward.\n",
    "    loss.backward()  # outside the range\n",
    "\n",
    "    # Updates params.\n",
    "    optimizer.step()  # outside the range\n",
    "    \n",
    "    return output, loss"
   ]
  },
  {
   "cell_type": "code",
   "execution_count": 16,
   "metadata": {},
   "outputs": [],
   "source": [
    "import matplotlib.pyplot as plt\n",
    "\n",
    "def plot_losses(losses):\n",
    "    plt.plot(losses)\n",
    "    plt.show()"
   ]
  },
  {
   "cell_type": "code",
   "execution_count": 17,
   "metadata": {},
   "outputs": [
    {
     "name": "stdout",
     "output_type": "stream",
     "text": [
      "iteration:   5000 (  5%) loss: 2.449658\n",
      "iteration:  10000 ( 10%) loss: 2.128094\n",
      "iteration:  15000 ( 15%) loss: 0.497798\n",
      "iteration:  20000 ( 20%) loss: 1.636408\n",
      "iteration:  25000 ( 25%) loss: 1.956110\n",
      "iteration:  30000 ( 30%) loss: 1.720672\n",
      "iteration:  35000 ( 35%) loss: 0.605064\n",
      "iteration:  40000 ( 40%) loss: 1.932340\n",
      "iteration:  45000 ( 45%) loss: 2.648237\n",
      "iteration:  50000 ( 50%) loss: 0.674706\n",
      "iteration:  55000 ( 55%) loss: 0.107322\n",
      "iteration:  60000 ( 60%) loss: 0.151444\n",
      "iteration:  65000 ( 65%) loss: 3.210803\n",
      "iteration:  70000 ( 70%) loss: 1.039506\n",
      "iteration:  75000 ( 75%) loss: 0.204758\n",
      "iteration:  80000 ( 80%) loss: 2.083888\n",
      "iteration:  85000 ( 85%) loss: 0.762055\n",
      "iteration:  90000 ( 90%) loss: 0.772244\n",
      "iteration:  95000 ( 95%) loss: 0.266486\n",
      "iteration: 100000 (100%) loss: 0.833019\n"
     ]
    },
    {
     "data": {
      "image/png": "[encoded data removed]",
      "text/plain": [
       "<Figure size 432x288 with 1 Axes>"
      ]
     },
     "metadata": {
      "needs_background": "light"
     },
     "output_type": "display_data"
    }
   ],
   "source": [
    "running_loss = 0\n",
    "\n",
    "for iteration in range(1, n_train_iteration + 1):  # counts from 1 may be better\n",
    "    # Gets an example.\n",
    "    language, word = random_example()\n",
    "\n",
    "    # Training.\n",
    "    output, loss = train(language, word)\n",
    "\n",
    "    # Tracks the training process.\n",
    "    if iteration % n_display == 0:\n",
    "        print(f\"iteration: {iteration:>6} ({iteration / n_train_iteration:>4.0%})\", end=\" \")\n",
    "        print(f\"loss: {loss:.6f}\")\n",
    "        \n",
    "    running_loss += loss\n",
    "    if iteration % n_plot == 0:\n",
    "        losses.append(running_loss / n_plot)\n",
    "        running_loss = 0\n",
    "        \n",
    "plot_losses(losses)"
   ]
  },
  {
   "cell_type": "markdown",
   "metadata": {},
   "source": [
    " "
   ]
  },
  {
   "cell_type": "markdown",
   "metadata": {},
   "source": [
    "## Test the Model"
   ]
  },
  {
   "cell_type": "code",
   "execution_count": 18,
   "metadata": {},
   "outputs": [],
   "source": [
    "n_test_iteration = 10_000\n",
    "\n",
    "conf_matrix = torch.zeros(n_languages, n_languages)"
   ]
  },
  {
   "cell_type": "code",
   "execution_count": 19,
   "metadata": {},
   "outputs": [],
   "source": [
    "def test(language, word):\n",
    "    hidden = rnn.hidden_init()\n",
    "    \n",
    "    for char in word:\n",
    "        output, hidden = rnn(char, hidden)\n",
    "        \n",
    "    return output"
   ]
  },
  {
   "cell_type": "code",
   "execution_count": 20,
   "metadata": {},
   "outputs": [],
   "source": [
    "import matplotlib.ticker as ticker\n",
    "\n",
    "def plot_conf_matrix(conf_matrixmatrixmatrixmatrixmatrixmatrix):\n",
    "    # Normalization.\n",
    "    for i in range(n_languages):\n",
    "        conf_matrix[i] = conf_matrix[i] / conf_matrix[i].sum()\n",
    "        \n",
    "    figure = plt.figure()\n",
    "    axis = figure.add_subplot(111)\n",
    "        \n",
    "    # Plots the conf matrix.\n",
    "    conf_axis = axis.matshow(conf_matrix)\n",
    "    \n",
    "    # Plots a color bar.\n",
    "    figure.colorbar(conf_axis)\n",
    "    \n",
    "    # Sets tick labels.\n",
    "    axis.set_xticklabels([''] + languages, rotation=90)\n",
    "    axis.set_yticklabels([''] + languages)\n",
    "    axis.xaxis.set_major_locator(ticker.MultipleLocator(1))\n",
    "    axis.yaxis.set_major_locator(ticker.MultipleLocator(1))"
   ]
  },
  {
   "cell_type": "code",
   "execution_count": 21,
   "metadata": {},
   "outputs": [
    {
     "data": {
      "image/png": "[encoded data removed]",
      "text/plain": [
       "<Figure size 432x288 with 2 Axes>"
      ]
     },
     "metadata": {
      "needs_background": "light"
     },
     "output_type": "display_data"
    }
   ],
   "source": [
    "for _ in range(n_test_iteration):\n",
    "    # Gets an example.\n",
    "    language, word = random_example()\n",
    "    \n",
    "    # Testing.\n",
    "    output = test(language, word)\n",
    "\n",
    "    # Tracks the testing process.\n",
    "    language_idx = language.item()\n",
    "    prediction_idx = output.max(dim=1).indices\n",
    "    conf_matrix[language_idx][prediction_idx] += 1\n",
    "    \n",
    "plot_conf_matrix(conf_matrix)"
   ]
  },
  {
   "cell_type": "code",
   "execution_count": null,
   "metadata": {},
   "outputs": [],
   "source": []
  }
 ],
 "metadata": {
  "kernelspec": {
   "display_name": "Python 3",
   "language": "python",
   "name": "python3"
  },
  "language_info": {
   "codemirror_mode": {
    "name": "ipython",
    "version": 3
   },
   "file_extension": ".py",
   "mimetype": "text/x-python",
   "name": "python",
   "nbconvert_exporter": "python",
   "pygments_lexer": "ipython3",
   "version": "3.7.5"
  }
 },
 "nbformat": 4,
 "nbformat_minor": 4
}
