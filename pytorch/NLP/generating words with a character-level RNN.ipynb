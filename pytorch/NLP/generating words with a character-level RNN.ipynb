{
 "cells": [
  {
   "cell_type": "markdown",
   "metadata": {},
   "source": [
    "## Prepare the Data"
   ]
  },
  {
   "cell_type": "code",
   "execution_count": 1,
   "metadata": {},
   "outputs": [],
   "source": [
    "import string\n",
    "\n",
    "ascii_letters = string.ascii_letters + \" \"\n",
    "n_ascii_letters = len(ascii_letters)\n",
    "\n",
    "pos_words = {}\n",
    "poss = []\n",
    "n_poss = 0"
   ]
  },
  {
   "cell_type": "code",
   "execution_count": 2,
   "metadata": {},
   "outputs": [],
   "source": [
    "def keep_letters(word):\n",
    "    for char in word:\n",
    "        if char not in ascii_letters:\n",
    "            return \"\"\n",
    "    return word"
   ]
  },
  {
   "cell_type": "code",
   "execution_count": 3,
   "metadata": {},
   "outputs": [],
   "source": [
    "def collect_words(file):\n",
    "    with open(file, encoding=\"utf-8\") as f:\n",
    "        file_data = f.read()\n",
    "    \n",
    "    # Splits the file.\n",
    "    words = file_data.split()\n",
    "    # Keeps only letters.\n",
    "    words = [keep_letters(word) for word in words]\n",
    "    # Removes empty string\n",
    "    words = [word for word in words if word != \"\"]\n",
    "    \n",
    "    return words"
   ]
  },
  {
   "cell_type": "code",
   "execution_count": 4,
   "metadata": {},
   "outputs": [],
   "source": [
    "import os\n",
    "import glob\n",
    "\n",
    "for file in glob.glob(\"data_/pos_words/*\"):\n",
    "    pos = os.path.splitext(os.path.basename(file))[0]\n",
    "    words = collect_words(file)\n",
    "    \n",
    "    pos_words[pos] = words\n",
    "    \n",
    "poss = list(pos_words.keys())\n",
    "n_poss = len(poss)"
   ]
  },
  {
   "cell_type": "markdown",
   "metadata": {},
   "source": [
    " "
   ]
  },
  {
   "cell_type": "markdown",
   "metadata": {},
   "source": [
    "## Build the Model."
   ]
  },
  {
   "cell_type": "code",
   "execution_count": 5,
   "metadata": {},
   "outputs": [],
   "source": [
    "import torch\n",
    "import torch.nn as nn\n",
    "\n",
    "class RNN(nn.Module):\n",
    "    def __init__(self, input_size, hidden_size, output_size):\n",
    "        super(RNN, self).__init__()\n",
    "        \n",
    "        self.hidden_size = hidden_size\n",
    "        \n",
    "        self.i2h = nn.Linear(n_poss + input_size + hidden_size, hidden_size)\n",
    "        self.i2o = nn.Linear(n_poss + input_size + hidden_size, output_size)\n",
    "        \n",
    "        self.o2o = nn.Linear(hidden_size + output_size, output_size)\n",
    "        self.dropout = nn.Dropout(p=0.1)\n",
    "        self.softmax = nn.LogSoftmax(dim=1)\n",
    "        \n",
    "    def forward(self, pos, input_, hidden):\n",
    "        input_combined = torch.cat((pos, input_, hidden), dim=1)\n",
    "        \n",
    "        hidden = self.i2h(input_combined)\n",
    "        output = self.i2o(input_combined)\n",
    "        \n",
    "        output_combined = torch.cat((hidden, output), dim=1)\n",
    "        \n",
    "        output = self.o2o(output_combined)\n",
    "        output = self.dropout(output)\n",
    "        output = self.softmax(output)\n",
    "        \n",
    "        return output, hidden\n",
    "    \n",
    "    def init_hidden(self):\n",
    "        return torch.zeros(1, self.hidden_size)"
   ]
  },
  {
   "cell_type": "code",
   "execution_count": 6,
   "metadata": {},
   "outputs": [],
   "source": [
    "rnn = RNN(n_ascii_letters, 128, n_ascii_letters)"
   ]
  },
  {
   "cell_type": "markdown",
   "metadata": {},
   "source": [
    " "
   ]
  },
  {
   "cell_type": "markdown",
   "metadata": {},
   "source": [
    "# Loss Function"
   ]
  },
  {
   "cell_type": "code",
   "execution_count": 7,
   "metadata": {},
   "outputs": [],
   "source": [
    "loss_function = nn.NLLLoss()"
   ]
  },
  {
   "cell_type": "markdown",
   "metadata": {},
   "source": [
    "  "
   ]
  },
  {
   "cell_type": "markdown",
   "metadata": {},
   "source": [
    "# Optimizer"
   ]
  },
  {
   "cell_type": "code",
   "execution_count": 8,
   "metadata": {},
   "outputs": [],
   "source": [
    "import torch.optim as optim\n",
    "\n",
    "optimizer = optim.SGD(rnn.parameters(), lr=0.008)"
   ]
  },
  {
   "cell_type": "markdown",
   "metadata": {},
   "source": [
    " "
   ]
  },
  {
   "cell_type": "markdown",
   "metadata": {},
   "source": [
    "# Train the Model"
   ]
  },
  {
   "cell_type": "code",
   "execution_count": 9,
   "metadata": {},
   "outputs": [],
   "source": [
    "n_iter = 100_000\n",
    "\n",
    "display_every = 5_000\n",
    "plot_every = 1_000\n",
    "losses = []"
   ]
  },
  {
   "cell_type": "code",
   "execution_count": 10,
   "metadata": {},
   "outputs": [],
   "source": [
    "import random\n",
    "\n",
    "def random_choose(list_):\n",
    "    random_idx = random.randint(0, len(list_) - 1)\n",
    "    return list_[random_idx]"
   ]
  },
  {
   "cell_type": "code",
   "execution_count": 11,
   "metadata": {},
   "outputs": [],
   "source": [
    "def pos_2_tensor(pos):\n",
    "    tensor = torch.zeros(1, n_poss)\n",
    "    \n",
    "    idx = poss.index(pos)\n",
    "    tensor[0][idx] = 1\n",
    "    \n",
    "    return tensor"
   ]
  },
  {
   "cell_type": "code",
   "execution_count": 12,
   "metadata": {},
   "outputs": [],
   "source": [
    "def input_2_tensor(input_):\n",
    "    tensor = torch.zeros(len(input_), 1, n_ascii_letters)\n",
    "    \n",
    "    for i in range(len(input_)):\n",
    "        char = input_[i]\n",
    "        tensor[i][0][ascii_letters.index(char)] = 1\n",
    "        \n",
    "    return tensor"
   ]
  },
  {
   "cell_type": "code",
   "execution_count": 13,
   "metadata": {},
   "outputs": [],
   "source": [
    "def target_2_tensor(target):\n",
    "    idxs = [ascii_letters.index(char) for char in target[1:]]\n",
    "    idxs.append(n_ascii_letters - 1)\n",
    "    \n",
    "    return torch.tensor(idxs, dtype=torch.long).unsqueeze_(-1)"
   ]
  },
  {
   "cell_type": "code",
   "execution_count": 14,
   "metadata": {},
   "outputs": [],
   "source": [
    "def random_training_example():\n",
    "    pos = random_choose(poss)\n",
    "    word = random_choose(pos_words[pos])\n",
    "    \n",
    "    pos_tensor = pos_2_tensor(pos)\n",
    "    input_tensor = input_2_tensor(word)\n",
    "    target_tensor = target_2_tensor(word)\n",
    "    \n",
    "    return pos_tensor, input_tensor, target_tensor"
   ]
  },
  {
   "cell_type": "code",
   "execution_count": 15,
   "metadata": {},
   "outputs": [],
   "source": [
    "def train(pos, input_, target):\n",
    "    hidden = rnn.init_hidden()\n",
    "    \n",
    "    rnn.zero_grad()\n",
    "    \n",
    "    loss = 0\n",
    "    for i in range(len(input_)):\n",
    "        # Forward.\n",
    "        output, hidden = rnn(pos, input_[i], hidden)\n",
    "        \n",
    "        loss_ = loss_function(output, target[i])\n",
    "        loss += loss_\n",
    "    \n",
    "    # Backward.\n",
    "    loss.backward()\n",
    "    \n",
    "    # Updates params.\n",
    "    optimizer.step()\n",
    "    \n",
    "    return output, loss / len(input_)"
   ]
  },
  {
   "cell_type": "code",
   "execution_count": 16,
   "metadata": {},
   "outputs": [],
   "source": [
    "import matplotlib.pyplot as plt\n",
    "\n",
    "def plot_losses(losses):\n",
    "    plt.plot(losses)\n",
    "    plt.show()"
   ]
  },
  {
   "cell_type": "code",
   "execution_count": 17,
   "metadata": {},
   "outputs": [
    {
     "name": "stdout",
     "output_type": "stream",
     "text": [
      "iteration:   5000 (  5%), loss: 3.728240\n",
      "iteration:  10000 ( 10%), loss: 3.014575\n",
      "iteration:  15000 ( 15%), loss: 2.239202\n",
      "iteration:  20000 ( 20%), loss: 1.098354\n",
      "iteration:  25000 ( 25%), loss: 1.111992\n",
      "iteration:  30000 ( 30%), loss: 1.693288\n",
      "iteration:  35000 ( 35%), loss: 1.746204\n",
      "iteration:  40000 ( 40%), loss: 0.863328\n",
      "iteration:  45000 ( 45%), loss: 0.775152\n",
      "iteration:  50000 ( 50%), loss: 1.617211\n",
      "iteration:  55000 ( 55%), loss: 3.845424\n",
      "iteration:  60000 ( 60%), loss: 2.269430\n",
      "iteration:  65000 ( 65%), loss: 1.080203\n",
      "iteration:  70000 ( 70%), loss: 2.563140\n",
      "iteration:  75000 ( 75%), loss: 1.093729\n",
      "iteration:  80000 ( 80%), loss: 1.026425\n",
      "iteration:  85000 ( 85%), loss: 0.759589\n",
      "iteration:  90000 ( 90%), loss: 2.334222\n",
      "iteration:  95000 ( 95%), loss: 2.392083\n",
      "iteration: 100000 (100%), loss: 2.751054\n"
     ]
    },
    {
     "data": {
      "image/png": "[encoded data removed]",
      "text/plain": [
       "<Figure size 432x288 with 1 Axes>"
      ]
     },
     "metadata": {
      "needs_background": "light"
     },
     "output_type": "display_data"
    }
   ],
   "source": [
    "running_loss = 0\n",
    "\n",
    "for iteration in range(1, n_iter + 1):\n",
    "    # Prepare data.\n",
    "    pos, input_, target = random_training_example()\n",
    "\n",
    "    # Training.\n",
    "    _, loss = train(pos, input_, target)\n",
    "    \n",
    "    # Tracks the training process.\n",
    "    if iteration % display_every == 0:\n",
    "        print(f\"iteration: {iteration:>6} ({iteration / n_iter:>4.0%}), loss: {loss:.6f}\")\n",
    "        \n",
    "    running_loss += loss\n",
    "    if iteration % plot_every == 0:\n",
    "        losses.append(running_loss / plot_every)\n",
    "        running_loss = 0\n",
    "        \n",
    "plot_losses(losses)"
   ]
  },
  {
   "cell_type": "markdown",
   "metadata": {},
   "source": [
    " "
   ]
  },
  {
   "cell_type": "markdown",
   "metadata": {},
   "source": [
    "## Test the Model"
   ]
  },
  {
   "cell_type": "code",
   "execution_count": 18,
   "metadata": {},
   "outputs": [],
   "source": [
    "max_length = 30"
   ]
  },
  {
   "cell_type": "code",
   "execution_count": 187,
   "metadata": {},
   "outputs": [],
   "source": [
    "def sample(pos, start_letter=\"a\"):\n",
    "    pos = pos_2_tensor(pos)\n",
    "    input_ = input_2_tensor(start_letter)\n",
    "    hidden = rnn.init_hidden()\n",
    "    \n",
    "    word = start_letter\n",
    "    \n",
    "    for i in range(max_length):\n",
    "        output, hidden = rnn(pos, input_[0], hidden)  # not output, _\n",
    "        \n",
    "        top_values, top_idxs = output.topk(1)\n",
    "        top_idx = top_idxs[0][0]\n",
    "        \n",
    "        if top_idx == n_ascii_letters - 1:\n",
    "            break\n",
    "        else:\n",
    "            char = ascii_letters[top_idx]\n",
    "            word += char\n",
    "            \n",
    "        input_ = input_2_tensor(char)\n",
    "        \n",
    "    return word"
   ]
  },
  {
   "cell_type": "code",
   "execution_count": 194,
   "metadata": {},
   "outputs": [
    {
     "name": "stdout",
     "output_type": "stream",
     "text": [
      "ored\n",
      "taringly\n",
      "torich\n",
      "furd\n"
     ]
    }
   ],
   "source": [
    "print(sample(\"ADJ\", \"o\"))\n",
    "print(sample(\"ADV\", \"t\"))\n",
    "print(sample(\"NOUN\", \"t\"))\n",
    "print(sample(\"VERB\", \"f\"))"
   ]
  },
  {
   "cell_type": "code",
   "execution_count": null,
   "metadata": {},
   "outputs": [],
   "source": []
  }
 ],
 "metadata": {
  "kernelspec": {
   "display_name": "Python 3",
   "language": "python",
   "name": "python3"
  },
  "language_info": {
   "codemirror_mode": {
    "name": "ipython",
    "version": 3
   },
   "file_extension": ".py",
   "mimetype": "text/x-python",
   "name": "python",
   "nbconvert_exporter": "python",
   "pygments_lexer": "ipython3",
   "version": "3.7.5"
  }
 },
 "nbformat": 4,
 "nbformat_minor": 4
}
