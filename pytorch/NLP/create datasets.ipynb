{
 "cells": [
  {
   "cell_type": "code",
   "execution_count": 5,
   "metadata": {},
   "outputs": [],
   "source": [
    "from torchtext.data import Field\n",
    "from torchtext.data import BucketIterator\n",
    "from torchtext.datasets import TranslationDataset\n",
    "\n",
    "class FCE(TranslationDataset):\n",
    "    @classmethod\n",
    "    def splits(cls, \n",
    "               exts, \n",
    "               fields, \n",
    "               root=\"fce/m2\", \n",
    "               train=\"fce.train.gold.bea19\", \n",
    "               validation=\"fce.dev.gold.bea19\", \n",
    "               test=\"fce.test.gold.bea19\", \n",
    "               **kwargs):\n",
    "        \n",
    "        return super(FCE, cls).splits(exts=exts, \n",
    "                                      fields=fields,\n",
    "                                      path=root, \n",
    "                                      root=root,\n",
    "                                      train=train, \n",
    "                                      validation=validation, \n",
    "                                      test=test,\n",
    "                                      **kwargs)"
   ]
  },
  {
   "cell_type": "code",
   "execution_count": 28,
   "metadata": {},
   "outputs": [],
   "source": [
    "def prepare_data():\n",
    "    src_field = Field(init_token=\"<sos>\", eos_token=\"<eos>\", lower=True, \n",
    "                     tokenize=\"spacy\", tokenizer_language=\"en\")\n",
    "    trg_field = Field(init_token=\"<sos>\", eos_token=\"<eos>\", lower=True, \n",
    "                     tokenize=\"spacy\", tokenizer_language=\"en\")\n",
    "    # Should be lower?\n",
    "    \n",
    "    train_set, valid_set, test_set = FCE.splits(exts=('.src', '.trg'), \n",
    "                                               fields=(src_field, trg_field))\n",
    "\n",
    "    src_field.build_vocab(train_set, min_freq=2)\n",
    "    trg_field.build_vocab(train_set, min_freq=2)\n",
    "\n",
    "    train_iter, valid_iter, test_iter = BucketIterator.splits(\n",
    "        datasets=(train_set, valid_set, test_set), \n",
    "        batch_size=512)\n",
    "    \n",
    "    return src_field, trg_field, train_iter, valid_iter, test_iter"
   ]
  },
  {
   "cell_type": "code",
   "execution_count": null,
   "metadata": {},
   "outputs": [],
   "source": []
  }
 ],
 "metadata": {
  "kernelspec": {
   "display_name": "Python 3",
   "language": "python",
   "name": "python3"
  },
  "language_info": {
   "codemirror_mode": {
    "name": "ipython",
    "version": 3
   },
   "file_extension": ".py",
   "mimetype": "text/x-python",
   "name": "python",
   "nbconvert_exporter": "python",
   "pygments_lexer": "ipython3",
   "version": "3.7.5"
  }
 },
 "nbformat": 4,
 "nbformat_minor": 4
}
