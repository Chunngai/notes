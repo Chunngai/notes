{
 "cells": [
  {
   "cell_type": "markdown",
   "metadata": {},
   "source": [
    "## Load data with ngrams"
   ]
  },
  {
   "cell_type": "code",
   "execution_count": 1,
   "metadata": {},
   "outputs": [],
   "source": [
    "import torch\n",
    "import torchtext\n",
    "from torchtext.datasets import text_classification\n",
    "\n",
    "NGRAMS = 2\n",
    "BATCH_SIZE = 16\n",
    "\n",
    "device = torch.device(\"cuda\" if torch.cuda.is_available() else \"cpu\")"
   ]
  },
  {
   "cell_type": "code",
   "execution_count": 2,
   "metadata": {},
   "outputs": [],
   "source": [
    "import logging\n",
    "from torchtext.utils import extract_archive, unicode_csv_reader\n",
    "from torchtext.vocab import build_vocab_from_iterator\n",
    "from torchtext.datasets.text_classification import *\n",
    "from torchtext.datasets.text_classification import _csv_iterator,_create_data_from_iterator\n",
    "\n",
    "def _setup_datasets(dataset_name, dataset_tar, root='.data', ngrams=1, vocab=None, include_unk=False):\n",
    "#     dataset_tar = download_from_url(URLS[dataset_name], root=root)\n",
    "    extracted_files = extract_archive(dataset_tar)\n",
    "\n",
    "    for fname in extracted_files:\n",
    "        if fname.endswith('train.csv'):\n",
    "            train_csv_path = fname\n",
    "        if fname.endswith('test.csv'):\n",
    "            test_csv_path = fname\n",
    "\n",
    "    if vocab is None:\n",
    "        logging.info('Building Vocab based on {}'.format(train_csv_path))\n",
    "        vocab = build_vocab_from_iterator(_csv_iterator(train_csv_path, ngrams))\n",
    "    else:\n",
    "        if not isinstance(vocab, Vocab):\n",
    "            raise TypeError(\"Passed vocabulary is not of type Vocab\")\n",
    "    logging.info('Vocab has {} entries'.format(len(vocab)))\n",
    "    logging.info('Creating training data')\n",
    "    train_data, train_labels = _create_data_from_iterator(\n",
    "        vocab, _csv_iterator(train_csv_path, ngrams, yield_cls=True), include_unk)\n",
    "    logging.info('Creating testing data')\n",
    "    test_data, test_labels = _create_data_from_iterator(\n",
    "        vocab, _csv_iterator(test_csv_path, ngrams, yield_cls=True), include_unk)\n",
    "    if len(train_labels ^ test_labels) > 0:\n",
    "        raise ValueError(\"Training and test labels don't match\")\n",
    "    return (TextClassificationDataset(vocab, train_data, train_labels),\n",
    "            TextClassificationDataset(vocab, test_data, test_labels))"
   ]
  },
  {
   "cell_type": "code",
   "execution_count": 3,
   "metadata": {},
   "outputs": [
    {
     "name": "stderr",
     "output_type": "stream",
     "text": [
      "120000lines [00:07, 16656.29lines/s]\n",
      "120000lines [00:11, 10219.57lines/s]\n",
      "7600lines [00:00, 11018.41lines/s]\n"
     ]
    }
   ],
   "source": [
    "import os\n",
    "\n",
    "if not os.path.isdir(\"./.data\"):\n",
    "    os.mkdir(\"./.data\")\n",
    "    \n",
    "# train_dataset, test_dataset = text_classification.DATASETS[\"AG_NEWS\"](\n",
    "#     root=\"./.data\", ngrams=NGRAMS, vocab=None)\n",
    "train_dataset, test_dataset = _setup_datasets(dataset_tar='./.data/ag_news_csv.tar.gz',dataset_name=\"AG_NEWS\", root='./.data', ngrams=NGRAMS)"
   ]
  },
  {
   "cell_type": "markdown",
   "metadata": {},
   "source": [
    "## Define the model"
   ]
  },
  {
   "cell_type": "code",
   "execution_count": 4,
   "metadata": {},
   "outputs": [],
   "source": [
    "import torch.nn as nn\n",
    "import torch.nn.functional as F\n",
    "\n",
    "class TextSentiment(nn.Module):\n",
    "    def __init__(self, vocab_size, embed_dim, num_class):\n",
    "        super().__init__()\n",
    "        \n",
    "        self.embedding = nn.EmbeddingBag(vocab_size, embed_dim, sparse=True)\n",
    "        \n",
    "        self.fc = nn.Linear(embed_dim, num_class)\n",
    "        \n",
    "        self.init_weights()\n",
    "        \n",
    "    def forward(self, text, offsets):\n",
    "        # Inputs: input (LongTensor), offsets (LongTensor, optional)\n",
    "        # it will be treated as a concatenation of multiple bags (sequences). offsets \n",
    "        # is required to be a 1D tensor containing the starting index positions of each \n",
    "        # bag in input. Therefore, for offsets of shape (B), input will be viewed as \n",
    "        # having B bags. Empty bags (i.e., having 0-length) will have returned vectors \n",
    "        # filled by zeros.\n",
    "        embedded = self.embedding(text, offsets)\n",
    "        \n",
    "        output = self.fc(embedded)\n",
    "        \n",
    "        return output\n",
    "        \n",
    "    def init_weights(self):  # for uniform\n",
    "        init_range = 0.5\n",
    "\n",
    "        # Fills self tensor with numbers sampled from the continuous uniform distribution:\n",
    "        # P(x)= 1 / (to−from)\n",
    "\n",
    "        self.embedding.weight.data.uniform_(-init_range, init_range)\n",
    "        \n",
    "        self.fc.weight.data.uniform_(-init_range, init_range)\n",
    "        self.fc.bias.data.zero_()"
   ]
  },
  {
   "cell_type": "markdown",
   "metadata": {},
   "source": [
    "## Initiate an instance"
   ]
  },
  {
   "cell_type": "code",
   "execution_count": 5,
   "metadata": {},
   "outputs": [],
   "source": [
    "VOCAB_SIZE = len(train_dataset.get_vocab())\n",
    "EMBED_DIM = 32\n",
    "NUM_CLASS = len(train_dataset.get_labels())"
   ]
  },
  {
   "cell_type": "code",
   "execution_count": 6,
   "metadata": {},
   "outputs": [],
   "source": [
    "model = TextSentiment(VOCAB_SIZE, EMBED_DIM, NUM_CLASS).to(device)"
   ]
  },
  {
   "cell_type": "markdown",
   "metadata": {},
   "source": [
    "## Functions used to generate batch"
   ]
  },
  {
   "cell_type": "code",
   "execution_count": 7,
   "metadata": {},
   "outputs": [],
   "source": [
    "def generate_batch(batch):\n",
    "    label = torch.tensor([entry[0] for entry in batch], device=device)\n",
    "    \n",
    "    text = [entry[1] for entry in batch]\n",
    "    \n",
    "    # The offsets is a tensor of delimiters to represent the beginning index of the \n",
    "    # individual sequence in the text tensor.\n",
    "    offsets = [0] + [len(entry) for entry in text]\n",
    "    \n",
    "    text = torch.cat(text).to(device)\n",
    "    offsets = torch.tensor(offsets[:-1], device=device).cumsum(dim=0)\n",
    "    \n",
    "    return text, offsets, label"
   ]
  },
  {
   "cell_type": "markdown",
   "metadata": {},
   "source": [
    "## Define functions to train the model and evaluate results."
   ]
  },
  {
   "cell_type": "code",
   "execution_count": 8,
   "metadata": {},
   "outputs": [],
   "source": [
    "from torch.utils.data import DataLoader\n",
    "\n",
    "def train_(sub_train_):\n",
    "    # Loss and accuracy.\n",
    "    train_loss = 0\n",
    "    train_acc = 0\n",
    "    \n",
    "    # Creates a data loader.\n",
    "    data = DataLoader(sub_train_, batch_size=BATCH_SIZE, shuffle=True,\n",
    "                      collate_fn=generate_batch)\n",
    "    \n",
    "    for i, (text, offsets, cls) in enumerate(data):\n",
    "        # Zeros grad.\n",
    "        optimizer.zero_grad()\n",
    "        \n",
    "        # Foreward.\n",
    "        output = model(text, offsets)\n",
    "        loss = criterion(output, cls)\n",
    "        \n",
    "        # Backward.\n",
    "        loss.backward()\n",
    "        \n",
    "        # Updates params.\n",
    "        optimizer.step()\n",
    "        \n",
    "        train_loss += loss.item()\n",
    "        train_acc += (output.argmax(dim=1) == cls).sum().item()\n",
    "\n",
    "    # Adjusts the learning rate.\n",
    "    scheduler.step()\n",
    "\n",
    "    return train_loss / len(sub_train_), train_acc / len(sub_train_)\n",
    "\n",
    "def predict_(data_):\n",
    "    # Loss and accuracy.\n",
    "    loss = 0\n",
    "    acc = 0\n",
    "    \n",
    "    # Creates a data loader.\n",
    "    data = DataLoader(sub_valid_, batch_size=BATCH_SIZE, shuffle=False,\n",
    "                      collate_fn=generate_batch)\n",
    "    \n",
    "    for text, offsets, cls in data:\n",
    "        with torch.no_grad():\n",
    "            # Foreward.\n",
    "            output = model(text, offsets)\n",
    "            loss = criterion(output, cls)\n",
    "            \n",
    "            loss += loss.item()\n",
    "            acc += (output.argmax(1) == cls).sum().item()\n",
    "\n",
    "    return loss / len(data_), acc / len(data_)"
   ]
  },
  {
   "cell_type": "markdown",
   "metadata": {},
   "source": [
    "## Split the dataset and run the model"
   ]
  },
  {
   "cell_type": "code",
   "execution_count": 9,
   "metadata": {},
   "outputs": [],
   "source": [
    "# Criterion.\n",
    "criterion = nn.CrossEntropyLoss()"
   ]
  },
  {
   "cell_type": "code",
   "execution_count": 10,
   "metadata": {},
   "outputs": [],
   "source": [
    "# Optimizer and scheduler.\n",
    "\n",
    "import torch.optim as optim\n",
    "\n",
    "optimizer = optim.SGD(model.parameters(), lr=4.0)\n",
    "scheduler = optim.lr_scheduler.StepLR(optimizer, step_size=1, gamma=0.9)"
   ]
  },
  {
   "cell_type": "code",
   "execution_count": 11,
   "metadata": {},
   "outputs": [],
   "source": [
    "# Splits the train set into train set and val set.\n",
    "\n",
    "from torch.utils.data.dataset import random_split\n",
    "\n",
    "train_len = int(len(train_dataset) * 0.95)\n",
    "sub_train_, sub_valid_ = random_split(train_dataset, [train_len, len(train_dataset) - train_len])"
   ]
  },
  {
   "cell_type": "code",
   "execution_count": 12,
   "metadata": {},
   "outputs": [],
   "source": [
    "# Calculates time.\n",
    "def time_track(since):\n",
    "    total_secs = time.time() - since\n",
    "    \n",
    "    minutes = total_secs / 60\n",
    "    seconds = total_secs % 60\n",
    "    \n",
    "    return f\"{minutes:>2.0f} minutes, {seconds:>2.0f} seconds\""
   ]
  },
  {
   "cell_type": "code",
   "execution_count": 13,
   "metadata": {
    "scrolled": false
   },
   "outputs": [
    {
     "name": "stdout",
     "output_type": "stream",
     "text": [
      "Epoch: 1  | time in  0 minutes,  8 seconds\n",
      "\tLoss: 0.0261(train)\t|\tAcc: 84.8%(train)\n",
      "\tLoss: 0.0001(valid)\t|\tAcc: 89.9%(valid)\n",
      "Epoch: 2  | time in  0 minutes,  8 seconds\n",
      "\tLoss: 0.0119(train)\t|\tAcc: 93.7%(train)\n",
      "\tLoss: 0.0001(valid)\t|\tAcc: 90.7%(valid)\n",
      "Epoch: 3  | time in  0 minutes,  8 seconds\n",
      "\tLoss: 0.0069(train)\t|\tAcc: 96.4%(train)\n",
      "\tLoss: 0.0000(valid)\t|\tAcc: 91.7%(valid)\n",
      "Epoch: 4  | time in  0 minutes,  8 seconds\n",
      "\tLoss: 0.0039(train)\t|\tAcc: 98.1%(train)\n",
      "\tLoss: 0.0001(valid)\t|\tAcc: 90.9%(valid)\n",
      "Epoch: 5  | time in  0 minutes,  7 seconds\n",
      "\tLoss: 0.0022(train)\t|\tAcc: 99.0%(train)\n",
      "\tLoss: 0.0001(valid)\t|\tAcc: 91.6%(valid)\n",
      "Epoch: 6  | time in  0 minutes,  8 seconds\n",
      "\tLoss: 0.0015(train)\t|\tAcc: 99.4%(train)\n",
      "\tLoss: 0.0001(valid)\t|\tAcc: 91.1%(valid)\n",
      "Epoch: 7  | time in  0 minutes,  8 seconds\n",
      "\tLoss: 0.0010(train)\t|\tAcc: 99.6%(train)\n",
      "\tLoss: 0.0001(valid)\t|\tAcc: 92.0%(valid)\n",
      "Epoch: 8  | time in  0 minutes,  8 seconds\n",
      "\tLoss: 0.0008(train)\t|\tAcc: 99.7%(train)\n",
      "\tLoss: 0.0001(valid)\t|\tAcc: 92.0%(valid)\n",
      "Epoch: 9  | time in  0 minutes,  8 seconds\n",
      "\tLoss: 0.0006(train)\t|\tAcc: 99.8%(train)\n",
      "\tLoss: 0.0001(valid)\t|\tAcc: 92.1%(valid)\n",
      "Epoch: 10  | time in  0 minutes,  8 seconds\n",
      "\tLoss: 0.0005(train)\t|\tAcc: 99.8%(train)\n",
      "\tLoss: 0.0001(valid)\t|\tAcc: 91.8%(valid)\n"
     ]
    }
   ],
   "source": [
    "import time\n",
    "\n",
    "N_EPOCHS = 10\n",
    "for epoch in range(N_EPOCHS):\n",
    "\n",
    "    start_time = time.time()\n",
    "    \n",
    "    # Trains and valids.\n",
    "    train_loss, train_acc = train_(sub_train_)\n",
    "    valid_loss, valid_acc = predict_(sub_valid_)\n",
    "\n",
    "    print(f'Epoch: {epoch + 1}', f\" | time in {time_track(start_time)}\")\n",
    "    print(f'\\tLoss: {train_loss:.4f}(train)\\t|\\tAcc: {train_acc:.1%}(train)')\n",
    "    print(f'\\tLoss: {valid_loss:.4f}(valid)\\t|\\tAcc: {valid_acc:.1%}(valid)')"
   ]
  },
  {
   "cell_type": "markdown",
   "metadata": {},
   "source": [
    "## Evaluate the model with test dataset"
   ]
  },
  {
   "cell_type": "code",
   "execution_count": 14,
   "metadata": {},
   "outputs": [
    {
     "name": "stdout",
     "output_type": "stream",
     "text": [
      "Checking the results of test dataset...\n",
      "\tLoss: 0.0001(test)\t|\tAcc: 72.5%(test)\n"
     ]
    }
   ],
   "source": [
    "print(\"Checking the results of test dataset...\")\n",
    "test_loss, test_acc = predict_(test_dataset)\n",
    "print(f\"\\tLoss: {test_loss:.4f}(test)\\t|\\tAcc: {test_acc:.1%}(test)\")"
   ]
  },
  {
   "cell_type": "markdown",
   "metadata": {},
   "source": [
    "## Test on a randon news"
   ]
  },
  {
   "cell_type": "code",
   "execution_count": 15,
   "metadata": {},
   "outputs": [],
   "source": [
    "import re\n",
    "\n",
    "from torchtext.data.utils import ngrams_iterator\n",
    "from torchtext.data.utils import get_tokenizer\n",
    "\n",
    "ag_news_label = {1 : \"World\",\n",
    "                 2 : \"Sports\",\n",
    "                 3 : \"Business\",\n",
    "                 4 : \"Sci/Tec\"}\n",
    "\n",
    "ex_text_str = \"MEMPHIS, Tenn. – Four days ago, Jon Rahm was \\\n",
    "    enduring the season’s worst weather conditions on Sunday at The \\\n",
    "    Open on his way to a closing 75 at Royal Portrush, which \\\n",
    "    considering the wind and the rain was a respectable showing. \\\n",
    "    Thursday’s first round at the WGC-FedEx St. Jude Invitational \\\n",
    "    was another story. With temperatures in the mid-80s and hardly any \\\n",
    "    wind, the Spaniard was 13 strokes better in a flawless round. \\\n",
    "    Thanks to his best putting performance on the PGA Tour, Rahm \\\n",
    "    finished with an 8-under 62 for a three-stroke lead, which \\\n",
    "    was even more impressive considering he’d never played the \\\n",
    "    front nine at TPC Southwind.\""
   ]
  },
  {
   "cell_type": "code",
   "execution_count": 16,
   "metadata": {},
   "outputs": [],
   "source": [
    "def predict(text, model, vocab, ngrams):\n",
    "    tokenizer = get_tokenizer(\"basic_english\")\n",
    "\n",
    "    with torch.no_grad():\n",
    "        # token_list = ['here', 'we', 'are']\n",
    "        # list(ngrams_iterator(token_list, 2))\n",
    "        # ['here', 'here we', 'we', 'we are', 'are']\n",
    "        text = torch.tensor([vocab[token] for token in ngrams_iterator(\n",
    "            tokenizer(text), ngrams)], device=device)\n",
    "        \n",
    "        output = model(text, torch.tensor([0], device=device))\n",
    "        \n",
    "        return output.argmax(1).item() + 1"
   ]
  },
  {
   "cell_type": "code",
   "execution_count": 17,
   "metadata": {},
   "outputs": [
    {
     "name": "stdout",
     "output_type": "stream",
     "text": [
      "This is a Sports news\n"
     ]
    }
   ],
   "source": [
    "vocab = train_dataset.get_vocab()\n",
    "model = model.to(device)\n",
    "\n",
    "print(f\"This is a {ag_news_label[predict(ex_text_str, model, vocab, 2)]} news\")"
   ]
  },
  {
   "cell_type": "code",
   "execution_count": null,
   "metadata": {},
   "outputs": [],
   "source": []
  }
 ],
 "metadata": {
  "kernelspec": {
   "display_name": "Python 3",
   "language": "python",
   "name": "python3"
  },
  "language_info": {
   "codemirror_mode": {
    "name": "ipython",
    "version": 3
   },
   "file_extension": ".py",
   "mimetype": "text/x-python",
   "name": "python",
   "nbconvert_exporter": "python",
   "pygments_lexer": "ipython3",
   "version": "3.7.5"
  }
 },
 "nbformat": 4,
 "nbformat_minor": 4
}
