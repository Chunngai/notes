{
 "cells": [
  {
   "cell_type": "code",
   "execution_count": 1,
   "metadata": {},
   "outputs": [],
   "source": [
    "# from __future__ import print_function\n",
    "import torch"
   ]
  },
  {
   "cell_type": "markdown",
   "metadata": {},
   "source": [
    "<h2> Getting Started </h2>"
   ]
  },
  {
   "cell_type": "markdown",
   "metadata": {},
   "source": [
    "<h3>Tensors</h3>"
   ]
  },
  {
   "cell_type": "code",
   "execution_count": 2,
   "metadata": {},
   "outputs": [],
   "source": [
    "# creates empty tensors"
   ]
  },
  {
   "cell_type": "code",
   "execution_count": 3,
   "metadata": {},
   "outputs": [
    {
     "name": "stdout",
     "output_type": "stream",
     "text": [
      "tensor([3.7938e+31, 4.5691e-41, 2.5530e-36])\n",
      "torch.Size([3])\n"
     ]
    }
   ],
   "source": [
    "# 1d array\n",
    "x = torch.empty(3)\n",
    "print(x)\n",
    "print(x.size())"
   ]
  },
  {
   "cell_type": "code",
   "execution_count": 4,
   "metadata": {},
   "outputs": [
    {
     "name": "stdout",
     "output_type": "stream",
     "text": [
      "tensor([[ 3.7938e+31,  4.5691e-41,  3.7938e+31],\n",
      "        [ 4.5691e-41,  1.7228e-34, -4.6046e-26],\n",
      "        [-1.8419e-25,  9.2737e-41,  2.1163e-37],\n",
      "        [ 2.1246e-37,  1.9336e-37,  1.7228e-34],\n",
      "        [-1.1788e-23, -4.7151e-23,  9.2737e-41]])\n",
      "torch.Size([5, 3])\n"
     ]
    }
   ],
   "source": [
    "# 2d array\n",
    "x = torch.empty(5, 3)\n",
    "print(x)\n",
    "print(x.size())"
   ]
  },
  {
   "cell_type": "code",
   "execution_count": 5,
   "metadata": {},
   "outputs": [
    {
     "name": "stdout",
     "output_type": "stream",
     "text": [
      "tensor([[[ 2.5291e-36,  0.0000e+00,  2.5530e-36,  0.0000e+00],\n",
      "         [ 1.7228e-34,  4.6046e-26,  1.8419e-25,  9.2737e-41],\n",
      "         [ 2.1163e-37,  2.1246e-37,  1.9336e-37,  1.7228e-34]],\n",
      "\n",
      "        [[ 1.1788e-23,  4.7151e-23,  1.1351e-43,  0.0000e+00],\n",
      "         [ 2.5368e-36,  0.0000e+00,  3.7938e+31,  4.5691e-41],\n",
      "         [ 0.0000e+00,  0.0000e+00, -5.4746e-26, -3.3905e-06]]])\n",
      "torch.Size([2, 3, 4])\n"
     ]
    }
   ],
   "source": [
    "# 3d array\n",
    "x = torch.empty(2, 3, 4)  # depth, height, width\n",
    "print(x)\n",
    "print(x.size())"
   ]
  },
  {
   "cell_type": "code",
   "execution_count": null,
   "metadata": {},
   "outputs": [],
   "source": []
  },
  {
   "cell_type": "code",
   "execution_count": 6,
   "metadata": {},
   "outputs": [],
   "source": [
    "# creates random tensors"
   ]
  },
  {
   "cell_type": "code",
   "execution_count": 7,
   "metadata": {},
   "outputs": [
    {
     "name": "stdout",
     "output_type": "stream",
     "text": [
      "tensor([[0.4496, 0.0596, 0.0079],\n",
      "        [0.0906, 0.8627, 0.5872],\n",
      "        [0.4498, 0.4027, 0.7411],\n",
      "        [0.1303, 0.3239, 0.0855],\n",
      "        [0.6922, 0.0975, 0.0152]])\n"
     ]
    }
   ],
   "source": [
    "# Returns a tensor filled with random numbers from a uniform \n",
    "# distribution on the interval [0, 1)\n",
    "x = torch.rand(5, 3)\n",
    "print(x)"
   ]
  },
  {
   "cell_type": "code",
   "execution_count": 8,
   "metadata": {},
   "outputs": [
    {
     "name": "stdout",
     "output_type": "stream",
     "text": [
      "tensor([[ 0.2669, -1.3879, -0.6508],\n",
      "        [-1.3244, -0.1889,  1.5667],\n",
      "        [-0.6063,  2.0061,  1.3906],\n",
      "        [-1.2492, -0.4198, -2.5594],\n",
      "        [ 0.1090,  0.3230,  1.9377]])\n"
     ]
    }
   ],
   "source": [
    "# Returns a tensor filled with random numbers from a normal \n",
    "# distribution with mean 0 and variance 1 (also called the standard \n",
    "# normal distribution).\n",
    "x = torch.randn(5, 3)\n",
    "print(x)"
   ]
  },
  {
   "cell_type": "code",
   "execution_count": null,
   "metadata": {},
   "outputs": [],
   "source": []
  },
  {
   "cell_type": "code",
   "execution_count": 9,
   "metadata": {},
   "outputs": [],
   "source": [
    "# zeros and ones"
   ]
  },
  {
   "cell_type": "code",
   "execution_count": 10,
   "metadata": {},
   "outputs": [
    {
     "name": "stdout",
     "output_type": "stream",
     "text": [
      "tensor([[0., 0., 0.],\n",
      "        [0., 0., 0.],\n",
      "        [0., 0., 0.],\n",
      "        [0., 0., 0.],\n",
      "        [0., 0., 0.]])\n"
     ]
    }
   ],
   "source": [
    "x = torch.zeros(5, 3)\n",
    "print(x)"
   ]
  },
  {
   "cell_type": "code",
   "execution_count": 11,
   "metadata": {},
   "outputs": [
    {
     "name": "stdout",
     "output_type": "stream",
     "text": [
      "tensor([[1., 1., 1.],\n",
      "        [1., 1., 1.],\n",
      "        [1., 1., 1.],\n",
      "        [1., 1., 1.],\n",
      "        [1., 1., 1.]])\n"
     ]
    }
   ],
   "source": [
    "x = torch.ones(5, 3)\n",
    "print(x)"
   ]
  },
  {
   "cell_type": "code",
   "execution_count": null,
   "metadata": {},
   "outputs": [],
   "source": []
  },
  {
   "cell_type": "code",
   "execution_count": 12,
   "metadata": {},
   "outputs": [],
   "source": [
    "# creates tensors from data"
   ]
  },
  {
   "cell_type": "code",
   "execution_count": 13,
   "metadata": {},
   "outputs": [
    {
     "name": "stdout",
     "output_type": "stream",
     "text": [
      "tensor([5.5000, 3.0000])\n",
      "torch.Size([2])\n",
      "\n",
      "tensor([[5.5000, 3.0000]])\n",
      "torch.Size([1, 2])\n",
      "\n",
      "tensor([[[5.5000, 3.0000]]])\n",
      "torch.Size([1, 1, 2])\n"
     ]
    }
   ],
   "source": [
    "# from arrays\n",
    "x = torch.tensor([5.5, 3])\n",
    "print(x)\n",
    "print(x.size())\n",
    "\n",
    "print()\n",
    "\n",
    "x = torch.tensor([[5.5, 3]])\n",
    "print(x)\n",
    "print(x.size())\n",
    "\n",
    "print()\n",
    "\n",
    "x = torch.tensor([[[5.5, 3]]])\n",
    "print(x)\n",
    "print(x.size())"
   ]
  },
  {
   "cell_type": "code",
   "execution_count": 14,
   "metadata": {},
   "outputs": [],
   "source": [
    "# creates a tensor based on an existing tensor. \n",
    "# These methods will reuse properties of the input tensor, \n",
    "# e.g. dtype, device, layout unless new values are provided by user"
   ]
  },
  {
   "cell_type": "code",
   "execution_count": 45,
   "metadata": {},
   "outputs": [
    {
     "name": "stdout",
     "output_type": "stream",
     "text": [
      "tensor([[1., 1., 1.],\n",
      "        [1., 1., 1.],\n",
      "        [1., 1., 1.],\n",
      "        [1., 1., 1.],\n",
      "        [1., 1., 1.]])\n",
      "torch.float32 cpu torch.strided\n",
      "\n",
      "tensor([[1., 1., 1.],\n",
      "        [1., 1., 1.],\n",
      "        [1., 1., 1.],\n",
      "        [1., 1., 1.],\n",
      "        [1., 1., 1.]])\n",
      "torch.float32 cpu torch.strided\n"
     ]
    }
   ],
   "source": [
    "# Returns a Tensor of size size filled with 1. By default, the \n",
    "# returned Tensor has the same torch.dtype and torch.device as this \n",
    "# tensor.\n",
    "print(x)\n",
    "print(x.dtype, x.device, x.layout)\n",
    "\n",
    "print()\n",
    "\n",
    "x = x.new_ones(5, 3)\n",
    "\n",
    "print(x)\n",
    "print(x.dtype, x.device, x.layout)"
   ]
  },
  {
   "cell_type": "code",
   "execution_count": 46,
   "metadata": {},
   "outputs": [
    {
     "name": "stdout",
     "output_type": "stream",
     "text": [
      "tensor([[1., 1., 1.],\n",
      "        [1., 1., 1.],\n",
      "        [1., 1., 1.],\n",
      "        [1., 1., 1.],\n",
      "        [1., 1., 1.]])\n",
      "torch.Size([5, 3])\n",
      "torch.float32 cpu torch.strided\n",
      "\n",
      "tensor([[0.5747, 0.3078, 0.9780],\n",
      "        [0.6040, 0.3704, 0.7363],\n",
      "        [0.3471, 0.4078, 0.3106],\n",
      "        [0.3244, 0.9992, 0.3698],\n",
      "        [0.4557, 0.6353, 0.5955]])\n",
      "torch.Size([5, 3])\n",
      "torch.float32 cpu torch.strided\n"
     ]
    }
   ],
   "source": [
    "# Returns a tensor filled with the scalar value 1, with the same size \n",
    "# as input. torch.ones_like(input) is equivalent to \n",
    "# torch.ones(input.size(), dtype=input.dtype, layout=input.layout, \n",
    "# device=input.device).\n",
    "print(x)\n",
    "print(x.size())\n",
    "print(x.dtype, x.device, x.layout)\n",
    "\n",
    "print()\n",
    "\n",
    "x = torch.rand_like(x)\n",
    "\n",
    "print(x)\n",
    "print(x.size())\n",
    "print(x.dtype, x.device, x.layout)"
   ]
  },
  {
   "cell_type": "code",
   "execution_count": 54,
   "metadata": {},
   "outputs": [
    {
     "name": "stdout",
     "output_type": "stream",
     "text": [
      "[[2. 3. 3.]]\n",
      "float64\n",
      "\n",
      "tensor([[2., 3., 3.]], dtype=torch.float64)\n",
      "torch.float64\n"
     ]
    }
   ],
   "source": [
    "# from numpy\n",
    "import numpy as np\n",
    "\n",
    "x = np.array([[2, 3, 3]], dtype=np.double)\n",
    "print(x)\n",
    "print(x.dtype)\n",
    "\n",
    "print()\n",
    "\n",
    "x = torch.tensor(x)\n",
    "\n",
    "print(x)\n",
    "print(x.dtype)"
   ]
  },
  {
   "cell_type": "code",
   "execution_count": null,
   "metadata": {},
   "outputs": [],
   "source": []
  },
  {
   "cell_type": "code",
   "execution_count": 55,
   "metadata": {},
   "outputs": [],
   "source": [
    "# specifies data type"
   ]
  },
  {
   "cell_type": "code",
   "execution_count": 56,
   "metadata": {},
   "outputs": [
    {
     "name": "stdout",
     "output_type": "stream",
     "text": [
      "tensor([[                  0,          1231241120, 4613937818241073152],\n",
      "        [4575657222473777152, 4575657222473777152, 4575657222473777152]])\n"
     ]
    }
   ],
   "source": [
    "x = torch.empty(2, 3, dtype=torch.long)\n",
    "print(x)"
   ]
  },
  {
   "cell_type": "code",
   "execution_count": null,
   "metadata": {},
   "outputs": [],
   "source": []
  },
  {
   "cell_type": "code",
   "execution_count": 57,
   "metadata": {},
   "outputs": [],
   "source": [
    "# gets size\n",
    "# torch.Size is in fact a tuple, so it supports all tuple operations."
   ]
  },
  {
   "cell_type": "code",
   "execution_count": 58,
   "metadata": {},
   "outputs": [
    {
     "name": "stdout",
     "output_type": "stream",
     "text": [
      "torch.Size([2, 3])\n",
      "2\n"
     ]
    }
   ],
   "source": [
    "print(x.size())\n",
    "print(x.size()[0])"
   ]
  },
  {
   "cell_type": "markdown",
   "metadata": {},
   "source": [
    "<h3>Operations</h3>"
   ]
  },
  {
   "cell_type": "code",
   "execution_count": 59,
   "metadata": {},
   "outputs": [],
   "source": [
    "# addition"
   ]
  },
  {
   "cell_type": "code",
   "execution_count": 60,
   "metadata": {},
   "outputs": [],
   "source": [
    "x = torch.rand(5, 3)\n",
    "y = torch.rand(5, 3)"
   ]
  },
  {
   "cell_type": "code",
   "execution_count": 61,
   "metadata": {},
   "outputs": [
    {
     "name": "stdout",
     "output_type": "stream",
     "text": [
      "tensor([[1.7294, 0.4665, 1.8198],\n",
      "        [0.6796, 0.3177, 0.6097],\n",
      "        [0.8051, 0.7553, 0.3181],\n",
      "        [0.8829, 0.8260, 0.0563],\n",
      "        [1.2183, 0.7368, 1.0095]])\n"
     ]
    }
   ],
   "source": [
    "# uses operators\n",
    "print(x + y)"
   ]
  },
  {
   "cell_type": "code",
   "execution_count": 62,
   "metadata": {},
   "outputs": [
    {
     "name": "stdout",
     "output_type": "stream",
     "text": [
      "tensor([[1.7294, 0.4665, 1.8198],\n",
      "        [0.6796, 0.3177, 0.6097],\n",
      "        [0.8051, 0.7553, 0.3181],\n",
      "        [0.8829, 0.8260, 0.0563],\n",
      "        [1.2183, 0.7368, 1.0095]])\n"
     ]
    }
   ],
   "source": [
    "# uses functions\n",
    "print(torch.add(x, y))"
   ]
  },
  {
   "cell_type": "code",
   "execution_count": 63,
   "metadata": {},
   "outputs": [
    {
     "name": "stdout",
     "output_type": "stream",
     "text": [
      "tensor([[1.7294, 0.4665, 1.8198],\n",
      "        [0.6796, 0.3177, 0.6097],\n",
      "        [0.8051, 0.7553, 0.3181],\n",
      "        [0.8829, 0.8260, 0.0563],\n",
      "        [1.2183, 0.7368, 1.0095]])\n"
     ]
    }
   ],
   "source": [
    "# provides an output tensor as argument\n",
    "result = torch.empty(x.size())\n",
    "\n",
    "torch.add(x, y, out=result)\n",
    "print(result)"
   ]
  },
  {
   "cell_type": "code",
   "execution_count": 64,
   "metadata": {},
   "outputs": [
    {
     "name": "stdout",
     "output_type": "stream",
     "text": [
      "tensor([[1.7294, 0.4665, 1.8198],\n",
      "        [0.6796, 0.3177, 0.6097],\n",
      "        [0.8051, 0.7553, 0.3181],\n",
      "        [0.8829, 0.8260, 0.0563],\n",
      "        [1.2183, 0.7368, 1.0095]])\n"
     ]
    }
   ],
   "source": [
    "# in place\n",
    "# Any operation that mutates a tensor in-place is post-fixed with an _. \n",
    "# For example: x.copy_(y), x.t_(), will change x.\n",
    "print(y.add_(x))"
   ]
  },
  {
   "cell_type": "code",
   "execution_count": null,
   "metadata": {},
   "outputs": [],
   "source": []
  },
  {
   "cell_type": "code",
   "execution_count": 65,
   "metadata": {},
   "outputs": [],
   "source": [
    "# indexing"
   ]
  },
  {
   "cell_type": "code",
   "execution_count": 66,
   "metadata": {},
   "outputs": [
    {
     "name": "stdout",
     "output_type": "stream",
     "text": [
      "tensor([1, 2, 3])\n",
      "tensor(1)\n",
      "\n",
      "tensor([[1, 2, 3],\n",
      "        [4, 5, 6]])\n",
      "tensor([1, 2, 3])\n",
      "tensor([1, 4])\n",
      "\n",
      "tensor([[[ 1,  2,  3],\n",
      "         [ 4,  5,  6]],\n",
      "\n",
      "        [[ 7,  8,  9],\n",
      "         [10, 11, 12]]])\n",
      "tensor([[1, 2, 3],\n",
      "        [4, 5, 6]])\n",
      "tensor([[1, 2, 3],\n",
      "        [7, 8, 9]])\n",
      "tensor([[ 1,  4],\n",
      "        [ 7, 10]])\n"
     ]
    }
   ],
   "source": [
    "x = torch.tensor([1, 2, 3])\n",
    "print(x)\n",
    "print(x[0])\n",
    "\n",
    "print()\n",
    "\n",
    "x = torch.tensor([[1, 2, 3], \n",
    "                  [4, 5, 6]])\n",
    "print(x)\n",
    "print(x[0])\n",
    "print(x[:, 0])\n",
    "\n",
    "print()\n",
    "\n",
    "x = torch.tensor([[[1, 2, 3],\n",
    "                  [4, 5, 6]],\n",
    "                 [[7, 8, 9],\n",
    "                 [10, 11, 12]]])\n",
    "print(x)\n",
    "print(x[0])\n",
    "print(x[:, 0])\n",
    "print(x[:, :, 0])"
   ]
  },
  {
   "cell_type": "code",
   "execution_count": null,
   "metadata": {},
   "outputs": [],
   "source": []
  },
  {
   "cell_type": "code",
   "execution_count": 30,
   "metadata": {},
   "outputs": [],
   "source": [
    "# resizing"
   ]
  },
  {
   "cell_type": "code",
   "execution_count": 67,
   "metadata": {},
   "outputs": [
    {
     "name": "stdout",
     "output_type": "stream",
     "text": [
      "tensor([[-0.3961,  0.2042, -0.9014],\n",
      "        [ 1.0597,  0.2303,  1.0633]])\n",
      "torch.Size([2, 3])\n",
      "\n",
      "tensor([-0.3961,  0.2042, -0.9014,  1.0597,  0.2303,  1.0633])\n",
      "torch.Size([6])\n",
      "\n",
      "tensor([[-0.3961,  0.2042, -0.9014,  1.0597,  0.2303,  1.0633]])\n",
      "torch.Size([1, 6])\n"
     ]
    }
   ],
   "source": [
    "x = torch.randn(2, 3)\n",
    "print(x)\n",
    "print(x.size())\n",
    "\n",
    "print()\n",
    "\n",
    "x = x.view(6)\n",
    "print(x)\n",
    "print(x.size())\n",
    "\n",
    "print()\n",
    "\n",
    "x = x.view(-1, 6)\n",
    "print(x)\n",
    "print(x.size())"
   ]
  },
  {
   "cell_type": "code",
   "execution_count": null,
   "metadata": {},
   "outputs": [],
   "source": []
  },
  {
   "cell_type": "code",
   "execution_count": 68,
   "metadata": {},
   "outputs": [],
   "source": [
    "# If you have a one element tensor, use .item() to get the value as a \n",
    "# Python number"
   ]
  },
  {
   "cell_type": "code",
   "execution_count": 69,
   "metadata": {},
   "outputs": [
    {
     "name": "stdout",
     "output_type": "stream",
     "text": [
      "tensor(2)\n",
      "2\n",
      "\n",
      "tensor([3])\n",
      "3\n",
      "tensor(3)\n",
      "3\n",
      "\n",
      "tensor([[2]])\n",
      "2\n",
      "tensor([2])\n",
      "2\n",
      "tensor(2)\n",
      "2\n"
     ]
    }
   ],
   "source": [
    "x = torch.tensor(2)\n",
    "print(x)\n",
    "print(x.item())\n",
    "\n",
    "print()\n",
    "\n",
    "x = torch.tensor([3])\n",
    "print(x)\n",
    "print(x.item())\n",
    "print(x[0])\n",
    "print(x[0].item())\n",
    "\n",
    "print()\n",
    "\n",
    "x = torch.tensor([[2]])\n",
    "print(x)\n",
    "print(x.item())\n",
    "print(x[0])\n",
    "print(x[0].item())\n",
    "print(x[0][0])\n",
    "print(x[0][0].item())"
   ]
  },
  {
   "cell_type": "markdown",
   "metadata": {},
   "source": [
    "<h2>Numpy Bridge</h2>"
   ]
  },
  {
   "cell_type": "code",
   "execution_count": 70,
   "metadata": {},
   "outputs": [],
   "source": [
    "# The Torch Tensor and NumPy array will share their underlying memory \n",
    "# locations (if the Torch Tensor is on CPU), and changing one will\n",
    "# change the other."
   ]
  },
  {
   "cell_type": "markdown",
   "metadata": {},
   "source": [
    "<h3>Converting a Torch Tensor to a NumPy Array</h3>"
   ]
  },
  {
   "cell_type": "code",
   "execution_count": 35,
   "metadata": {},
   "outputs": [
    {
     "name": "stdout",
     "output_type": "stream",
     "text": [
      "tensor([1., 1., 1., 1., 1.])\n",
      "[1. 1. 1. 1. 1.]\n"
     ]
    }
   ],
   "source": [
    "a_torch = torch.ones(5)\n",
    "print(a_torch)\n",
    "\n",
    "a_numpy = a_torch.numpy()\n",
    "print(a_numpy)"
   ]
  },
  {
   "cell_type": "code",
   "execution_count": 36,
   "metadata": {},
   "outputs": [
    {
     "name": "stdout",
     "output_type": "stream",
     "text": [
      "[1. 1. 1. 1. 1.]\n",
      "tensor([1., 1., 1., 1., 1.])\n",
      "\n",
      "[2. 2. 2. 2. 2.]\n",
      "tensor([2., 2., 2., 2., 2.])\n"
     ]
    }
   ],
   "source": [
    "print(a_numpy)\n",
    "print(a_torch)\n",
    "\n",
    "print()\n",
    "\n",
    "a_torch.add_(1)\n",
    "\n",
    "print(a_numpy)  # a_numpy also changed!\n",
    "print(a_torch)  "
   ]
  },
  {
   "cell_type": "markdown",
   "metadata": {},
   "source": [
    "<h3>Converting NumPy Array to Torch Tensor</h3>"
   ]
  },
  {
   "cell_type": "code",
   "execution_count": 37,
   "metadata": {},
   "outputs": [
    {
     "name": "stdout",
     "output_type": "stream",
     "text": [
      "[1. 1. 1. 1. 1.]\n",
      "tensor([1., 1., 1., 1., 1.], dtype=torch.float64)\n"
     ]
    }
   ],
   "source": [
    "a_numpy = np.ones(5)\n",
    "print(a_numpy)\n",
    "\n",
    "a_torch = torch.from_numpy(a_numpy)\n",
    "print(a_torch)"
   ]
  },
  {
   "cell_type": "code",
   "execution_count": 38,
   "metadata": {},
   "outputs": [
    {
     "name": "stdout",
     "output_type": "stream",
     "text": [
      "tensor([1., 1., 1., 1., 1.], dtype=torch.float64)\n",
      "[1. 1. 1. 1. 1.]\n",
      "\n",
      "tensor([2., 2., 2., 2., 2.], dtype=torch.float64)\n",
      "[2. 2. 2. 2. 2.]\n"
     ]
    }
   ],
   "source": [
    "print(a_torch)\n",
    "print(a_numpy)\n",
    "\n",
    "print()\n",
    "\n",
    "np.add(a_numpy, 1, out=a_numpy)\n",
    "\n",
    "print(a_torch)\n",
    "print(a_numpy)  # a_torch also changed!"
   ]
  },
  {
   "cell_type": "code",
   "execution_count": null,
   "metadata": {},
   "outputs": [],
   "source": []
  },
  {
   "cell_type": "code",
   "execution_count": 39,
   "metadata": {},
   "outputs": [
    {
     "name": "stdout",
     "output_type": "stream",
     "text": [
      "[1. 1. 1. 1. 1.]\n",
      "tensor([1., 1., 1., 1., 1.], dtype=torch.float64)\n"
     ]
    }
   ],
   "source": [
    "# torch.from_numpy(numpy_array) is different from \n",
    "# torch.tensor(numpy_array). the latter won't share memory with the \n",
    "# original numpy array\n",
    "a_numpy = np.ones(5)\n",
    "print(a_numpy)\n",
    "\n",
    "a_torch = torch.tensor(a_numpy)\n",
    "print(a_torch)"
   ]
  },
  {
   "cell_type": "code",
   "execution_count": 40,
   "metadata": {},
   "outputs": [
    {
     "name": "stdout",
     "output_type": "stream",
     "text": [
      "tensor([1., 1., 1., 1., 1.], dtype=torch.float64)\n",
      "[1. 1. 1. 1. 1.]\n",
      "\n",
      "tensor([1., 1., 1., 1., 1.], dtype=torch.float64)\n",
      "[2. 2. 2. 2. 2.]\n"
     ]
    }
   ],
   "source": [
    "print(a_torch)\n",
    "print(a_numpy)\n",
    "\n",
    "print()\n",
    "\n",
    "np.add(a_numpy, 1, out=a_numpy)\n",
    "\n",
    "print(a_torch)\n",
    "print(a_numpy)"
   ]
  },
  {
   "cell_type": "markdown",
   "metadata": {},
   "source": [
    "<h2>CUDA Tensors</h2>"
   ]
  },
  {
   "cell_type": "code",
   "execution_count": 41,
   "metadata": {},
   "outputs": [],
   "source": [
    "# Tensors can be moved onto any device using the .to method."
   ]
  },
  {
   "cell_type": "code",
   "execution_count": 42,
   "metadata": {},
   "outputs": [
    {
     "name": "stdout",
     "output_type": "stream",
     "text": [
      "cuda\n"
     ]
    }
   ],
   "source": [
    "device = None\n",
    "if torch.cuda.is_available():\n",
    "    device = torch.device(\"cuda\")\n",
    "else:\n",
    "    device = torch.device(\"cpu\")\n",
    "    \n",
    "print(device)"
   ]
  },
  {
   "cell_type": "code",
   "execution_count": 43,
   "metadata": {},
   "outputs": [
    {
     "name": "stdout",
     "output_type": "stream",
     "text": [
      "tensor([[2]]) torch.int64 cpu\n",
      "\n",
      "tensor([[1.]], device='cuda:0', dtype=torch.float64) torch.float64 cuda:0\n",
      "\n",
      "tensor([[1.]]) torch.float32 cpu\n"
     ]
    }
   ],
   "source": [
    "print(x, x.dtype, x.device)\n",
    "\n",
    "print()\n",
    "\n",
    "x = torch.ones_like(x, dtype=torch.double, device=device)\n",
    "print(x, x.dtype, x.device)\n",
    "\n",
    "print()\n",
    "\n",
    "x = x.to(dtype=torch.float, device=\"cpu\")\n",
    "print(x, x.dtype, x.device)"
   ]
  }
 ],
 "metadata": {
  "kernelspec": {
   "display_name": "Python 3",
   "language": "python",
   "name": "python3"
  },
  "language_info": {
   "codemirror_mode": {
    "name": "ipython",
    "version": 3
   },
   "file_extension": ".py",
   "mimetype": "text/x-python",
   "name": "python",
   "nbconvert_exporter": "python",
   "pygments_lexer": "ipython3",
   "version": "3.7.5"
  }
 },
 "nbformat": 4,
 "nbformat_minor": 4
}
