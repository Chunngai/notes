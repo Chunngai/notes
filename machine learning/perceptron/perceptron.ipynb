{
 "cells": [
  {
   "cell_type": "markdown",
   "metadata": {},
   "source": [
    "# 感知機"
   ]
  },
  {
   "cell_type": "markdown",
   "metadata": {},
   "source": [
    "&emsp;&emsp;感知機的模型結構來源於生物神經網絡，是多層神經網絡的基礎。"
   ]
  },
  {
   "cell_type": "markdown",
   "metadata": {},
   "source": [
    " "
   ]
  },
  {
   "cell_type": "markdown",
   "metadata": {},
   "source": [
    "## 感知機模型"
   ]
  },
  {
   "cell_type": "markdown",
   "metadata": {},
   "source": [
    "&emsp;&emsp;感知機模型如下："
   ]
  },
  {
   "cell_type": "markdown",
   "metadata": {},
   "source": [
    "$$\n",
    "{\\boldsymbol x}^{(i)} \\xrightarrow[z^{(i)} = {\\boldsymbol w}^T \\cdot {\\boldsymbol x}^{(i)} + b]{\\boldsymbol w，b} z^{(i)} \\xrightarrow{g(z^{(i)})} {\\hat y}^{(i)}\n",
    "$$"
   ]
  },
  {
   "cell_type": "markdown",
   "metadata": {},
   "source": [
    "&emsp;&emsp;給定輸入${\\boldsymbol x}^{(i)}$，${\\boldsymbol x}^{(i)}$和感知機的權重$\\boldsymbol w$，偏差$b$執行線性運算：\n",
    "$$\n",
    "z^{(i)} = {\\boldsymbol w}^T \\cdot {\\boldsymbol x}^{(i)} + b \\tag{1}\n",
    "$$\n",
    "得到線性運算的結果$z^{(i)}$。$z^{(i)}$作為激活函數$g(\\cdot)$的輸入：\n",
    "$$\n",
    "{\\hat y}^{(i)} = g(z^{(i)}) \\tag{2}\n",
    "$$\n",
    "最後得到感知機的輸出${\\hat y}^{(i)}$。"
   ]
  },
  {
   "cell_type": "markdown",
   "metadata": {},
   "source": [
    " "
   ]
  },
  {
   "cell_type": "markdown",
   "metadata": {},
   "source": [
    "## 感知機用於二分類"
   ]
  },
  {
   "cell_type": "markdown",
   "metadata": {},
   "source": [
    "&emsp;&emsp;感知機可用於二分類。感知機二分類的過程見例1。"
   ]
  },
  {
   "cell_type": "markdown",
   "metadata": {},
   "source": [
    "「例1」根據感知機模型，描述感知機二分類的過程。  \n",
    "解：  \n",
    "&emsp;&emsp;&emsp;&emsp;給定輸入${\\boldsymbol x}^{(i)}$，${\\boldsymbol x}^{(i)}$和感知機的權重$\\boldsymbol w$，偏差$b$執行線性運算：\n",
    "$$\n",
    "z^{(i)} = {\\boldsymbol w}^T \\cdot {\\boldsymbol x}^{(i)} + b \\tag{3}\n",
    "$$\n",
    "&emsp;&emsp;得到線性運算的結果$z^{(i)}$。$z^{(i)}$作為激活函數$g(\\cdot)$的輸入：\n",
    "$$\n",
    "{\\hat y}^{(i)} = g(z^{(i)}) \\tag{4}\n",
    "$$\n",
    "&emsp;&emsp;最後得到感知機對输入的类别预测值${\\hat y}^{(i)}$。"
   ]
  },
  {
   "cell_type": "markdown",
   "metadata": {},
   "source": [
    " "
   ]
  },
  {
   "cell_type": "markdown",
   "metadata": {},
   "source": [
    "&emsp;&emsp;線性模型的輸出$z^{(i)} \\in R$，但是二分類的輸出結果只可能有兩種。因此激活函數$g(\\cdot)$需要對線性模型的輸出$z^{(i)}$作進一步處理，使感知機的最終輸出${\\hat y}^{(i)}$只有兩個可能。  \n",
    "&emsp;&emsp;假設正例為+1，負例為-1，那麼我們需要一個激活函數$g(\\cdot)$，使線性模型的輸出結果${\\hat y}^{(i)} \\in \\{-1, 1\\}$。"
   ]
  },
  {
   "cell_type": "markdown",
   "metadata": {},
   "source": [
    " "
   ]
  },
  {
   "cell_type": "markdown",
   "metadata": {},
   "source": [
    "### 符號函數sign"
   ]
  },
  {
   "cell_type": "markdown",
   "metadata": {},
   "source": [
    "&emsp;&emsp;符號函數$sign(\\cdot)$的性質能很好地滿足上述需求。其表達式如下：\n",
    "$$\n",
    "sign(x) = \\left\\{\n",
    "\\begin{align}\n",
    "+1 & \\ \\ (x \\ge 0) \\\\\n",
    "-1 & \\ \\ (x < 0)\n",
    "\\end{align}\n",
    "\\tag{5}\n",
    "\\right.\n",
    "$$"
   ]
  },
  {
   "cell_type": "markdown",
   "metadata": {},
   "source": [
    "&emsp;&emsp;其函數圖像如下："
   ]
  },
  {
   "cell_type": "code",
   "execution_count": 1,
   "metadata": {},
   "outputs": [
    {
     "data": {
      "image/png": "[encoded data removed]",
      "text/plain": [
       "<Figure size 432x288 with 1 Axes>"
      ]
     },
     "metadata": {
      "needs_background": "light"
     },
     "output_type": "display_data"
    }
   ],
   "source": [
    "import matplotlib.pyplot as plt\n",
    "\n",
    "plt.plot([i for i in range(-100, 0)], [-1 for i in range(-100, 0)])\n",
    "plt.plot([i for i in range(0, 100)], [1 for i in range(0, 100)])\n",
    "plt.show()"
   ]
  },
  {
   "cell_type": "markdown",
   "metadata": {},
   "source": [
    "&emsp;&emsp;感知機用$sign(\\cdot)$作為激活函數的二分類過程如例2。"
   ]
  },
  {
   "cell_type": "markdown",
   "metadata": {},
   "source": [
    "「例2」根據感知機模型，描述感知機二分類的過程。激活函數使用符號函數$sign(\\cdot)$。  \n",
    "解：  \n",
    "&emsp;&emsp;&emsp;&emsp;給定輸入${\\boldsymbol x}^{(i)}$，${\\boldsymbol x}^{(i)}$和感知機的權重$\\boldsymbol w$，偏差$b$執行線性運算：\n",
    "$$\n",
    "z^{(i)} = {\\boldsymbol w}^T \\cdot {\\boldsymbol x}^{(i)} + b \\tag{6}\n",
    "$$\n",
    "&emsp;&emsp;得到線性運算的結果$z^{(i)}$。$z^{(i)}$作為激活函數$sign(\\cdot)$的輸入：\n",
    "$$\n",
    "{\\hat y}^{(i)} = g(z^{(i)}) \\tag{7}\n",
    "$$\n",
    "&emsp;&emsp;最後得到感知機的輸出${\\hat y}^{(i)} \\in \\{-1, 1\\}$。"
   ]
  },
  {
   "cell_type": "markdown",
   "metadata": {},
   "source": [
    "「例3」假設有兩個輸入：${\\boldsymbol x}^{(1)} = [0, 0]^T$，${\\boldsymbol x}^{(2)} = [1, 1]^T$，而感知機模型的線性模型部分$z^{(i)} = {\\boldsymbol w}^T \\cdot {\\boldsymbol x}^{(i)} + b$的參數經訓練後得到$\\boldsymbol w = [4.63, 4.63]^T$，$b = -7.05$。判斷兩個輸入的類別。  \n",
    "解：  \n",
    "&emsp;&emsp;&emsp;&emsp;根據題目，感知機的線性模型為：\n",
    "$$\n",
    "\\begin{align}\n",
    "z^{(i)} &= {\\boldsymbol w}^T \\cdot {\\boldsymbol x}^{(i)} + b \\tag{8.1} \\\\\n",
    "&= ([4.63, 4.63]^T)^T \\cdot {\\boldsymbol x}^{(i)} - 7.05 \\tag{8.2} \\\\\n",
    "&= [4.63, 4.63] \\cdot {\\boldsymbol x}^{(i)} - 7.05 \\tag{8.3}\n",
    "\\end{align}\n",
    "$$\n",
    "\n",
    "&emsp;&emsp;&emsp;&emsp;對${\\boldsymbol x}^{(1)}$：\n",
    "$$\n",
    "\\begin{align}\n",
    "z^{(1)} &= [4.63, 4.63] \\cdot [0, 0]^T - 7.05 \\tag{8.4} \\\\\n",
    "&= -0.75 \\tag{8.5} \\\\\n",
    "{\\hat y}^{(1)} &= sign(-0.75) \\tag{8.6} \\\\\n",
    "&= -1 \\tag{8.7}\n",
    "\\end{align}\n",
    "$$\n",
    "\n",
    "&emsp;&emsp;&emsp;&emsp; 對${\\boldsymbol x}^{(2)}$：\n",
    "$$\n",
    "\\begin{align}\n",
    "z^{(2)} &= [4.63, 4.63] \\cdot [1, 1]^T - 7.05 \\tag{8.8} \\\\\n",
    "&= 2.21 \\tag{8.9} \\\\\n",
    "{\\hat y}^{(1)} &= sign(2.21) \\tag{8.10} \\\\\n",
    "&= +1 \\tag{8.11}\n",
    "\\end{align}\n",
    "$$\n",
    "\n",
    "&emsp;&emsp;&emsp;&emsp;因此${\\boldsymbol x}^{(1)}$屬於負例，${\\boldsymbol x}^{(2)}$屬於正例。"
   ]
  },
  {
   "cell_type": "markdown",
   "metadata": {},
   "source": [
    " "
   ]
  },
  {
   "cell_type": "markdown",
   "metadata": {},
   "source": [
    "### 幾何解釋"
   ]
  },
  {
   "cell_type": "markdown",
   "metadata": {},
   "source": [
    "&emsp;&emsp;對於感知機的線性模型$z^{(i)} = {\\boldsymbol w}^T \\cdot {\\boldsymbol x}^{(i)} + b$，使$z^{(i)} = 0$，得到一個超平面：\n",
    "$$\n",
    "{\\boldsymbol w}^T \\cdot {\\boldsymbol x}+ b = 0 \\tag{9}\n",
    "$$\n",
    "&emsp;&emsp;這是輸入的特徵空間中的一個超平面，它把特徵空間分成兩部分。這個超平面的法向量是${\\boldsymbol w}$、位移是$b$。一個輸入$\\boldsymbol x^{(i)}$相當於特徵空間上的一個點。不同的輸入對應特徵空間上的不同的點。  \n",
    "&emsp;&emsp;這些點經過線性運算$z^{(i)} = {\\boldsymbol w}^T \\cdot {\\boldsymbol x}^{(i)} + b$得到的結果不一樣，有的大於等於0，有的小於0。  \n",
    "&emsp;&emsp;而激活函數$sign$的作用，就是把這些大小不同的點經過線性運算$z^{(i)} = {\\boldsymbol w}^T \\cdot {\\boldsymbol x}^{(i)} + b$之後的結果以超平面為界分成兩類。線性運算後結果大於等於0的點歸為一類，為正例；線性運算後結果小於0的點歸為另一類，為負例。這就起到了分類的作用。"
   ]
  },
  {
   "cell_type": "markdown",
   "metadata": {},
   "source": [
    "「例4」描述例3在幾何上的過程。  \n",
    "解：  \n",
    "&emsp;&emsp;使公式(8.3)的$z^{(i)}$為0，得到一個超平面：\n",
    "$$\n",
    "[4.63, 4.63] \\cdot {\\boldsymbol x} - 7.05 = 0 \\tag{10.1}\n",
    "$$\n",
    "&emsp;&emsp;由於輸入只有兩個特徵，故特徵空間是二維的，這個超平面就是一條直線："
   ]
  },
  {
   "cell_type": "code",
   "execution_count": 2,
   "metadata": {},
   "outputs": [
    {
     "data": {
      "image/png": "[encoded data removed]",
      "text/plain": [
       "<Figure size 432x288 with 1 Axes>"
      ]
     },
     "metadata": {
      "needs_background": "light"
     },
     "output_type": "display_data"
    }
   ],
   "source": [
    "x = [i for i in range(3)]\n",
    "y = [(-4.63 * i + 7.05) / 4.63 for i in range(3)]\n",
    "\n",
    "# plt.scatter(x=[0, 0, 1], y=[0, 1, 0], s=60, marker='.', c='r')\n",
    "# plt.scatter(x=[1], y=[1], s=60, marker='+', c='b')\n",
    "plt.plot(x, y)\n",
    "plt.axis([-0.05, 1.5, -0.05, 1.5])\n",
    "plt.xlabel(\"x_1\")\n",
    "plt.ylabel(\"x_2\")\n",
    "plt.show()"
   ]
  },
  {
   "cell_type": "markdown",
   "metadata": {},
   "source": [
    "${\\boldsymbol x}^{(1)} = [0, 0]^T$，${\\boldsymbol x}^{(2)} = [1, 1]^T$在特徵空間中位置如圖"
   ]
  },
  {
   "cell_type": "code",
   "execution_count": 3,
   "metadata": {},
   "outputs": [
    {
     "data": {
      "image/png": "[encoded data removed]",
      "text/plain": [
       "<Figure size 432x288 with 1 Axes>"
      ]
     },
     "metadata": {
      "needs_background": "light"
     },
     "output_type": "display_data"
    }
   ],
   "source": [
    "plt.scatter([0, 1], [0, 1])\n",
    "plt.plot(x, y)\n",
    "plt.axis([-0.05, 1.5, -0.05, 1.5])\n",
    "plt.xlabel(\"x_1\")\n",
    "plt.ylabel(\"x_2\")\n",
    "plt.show()"
   ]
  },
  {
   "cell_type": "markdown",
   "metadata": {},
   "source": [
    "&emsp;&emsp;點${\\boldsymbol x}^{(1)} = [0, 0]^T$經過線性運算$z^{(1)} = [4.63, 4.63] \\cdot [0, 0]^T - 7.05$後得到的結果$z^{(1)} = -0.75 < 0$，因此被激活函數歸為負例；點${\\boldsymbol x}^{(2)} = [1, 1]^T$經過線性運算後得到的結果$z^{(2)} = 2.21 > 0$，被激活函數歸為正例。"
   ]
  }
 ],
 "metadata": {
  "kernelspec": {
   "display_name": "Python 3",
   "language": "python",
   "name": "python3"
  },
  "language_info": {
   "codemirror_mode": {
    "name": "ipython",
    "version": 3
   },
   "file_extension": ".py",
   "mimetype": "text/x-python",
   "name": "python",
   "nbconvert_exporter": "python",
   "pygments_lexer": "ipython3",
   "version": "3.7.5"
  }
 },
 "nbformat": 4,
 "nbformat_minor": 4
}
