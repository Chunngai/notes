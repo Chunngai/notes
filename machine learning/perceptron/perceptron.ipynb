{
 "cells": [
  {
   "cell_type": "markdown",
   "metadata": {},
   "source": [
    "# 感知機"
   ]
  },
  {
   "cell_type": "markdown",
   "metadata": {},
   "source": [
    "&emsp;&emsp;感知機的模型結構來源於生物神經網絡。考慮生物神經網絡神經元工作的過程:  \n",
    "&emsp;&emsp;某神經元接受來自其他神經元送來的多種化學物質（神經遞質），每種化學物質產生了大大小小的作用，使電位產生了變化。如果電位變化超過了一個閾值，該神經元便被激活，從而興奮或者抑制。"
   ]
  },
  {
   "cell_type": "markdown",
   "metadata": {},
   "source": [
    "$$\n",
    "化學物質 \\xrightarrow[產生電位變化，並超過了閾值]{每種化學物質對電位變化影響程度、閾值} 電位變化後狀態 \\xrightarrow{激活} 激活後狀態（興奮/抑制）\n",
    "$$"
   ]
  },
  {
   "cell_type": "markdown",
   "metadata": {},
   "source": [
    " "
   ]
  },
  {
   "cell_type": "markdown",
   "metadata": {},
   "source": [
    "## 感知機模型"
   ]
  },
  {
   "cell_type": "markdown",
   "metadata": {},
   "source": [
    "&emsp;&emsp;感知機便是由神經元抽象而來，而感知機的工作過程模仿了神經元的工作過程。對應關係如下：\n",
    "+ 輸入${\\boldsymbol x}^{(i)}$：其他神經元送來的化學物質（神經變化）  ；\n",
    "+ 權重$\\boldsymbol w$：每種化學物質對電位變化的影響程度；\n",
    "+ 偏差$b$：閾值；\n",
    "+ 線性運算$z^{(i)} = {\\boldsymbol w}^T \\cdot {\\boldsymbol x}^{(i)} + b$：各種化學物質產生作用，使電位變化的過程；\n",
    "+ 線性運算後的結果$z^{(i)}$：電位變化後的狀態；\n",
    "+ 激活函數$g(\\cdot)$：神經元被激活的過程；\n",
    "+ 輸出${\\hat y}^{(i)}$：激活後狀態（興奮/抑制)。"
   ]
  },
  {
   "cell_type": "markdown",
   "metadata": {},
   "source": [
    "$$\n",
    "{\\boldsymbol x}^{(i)} \\xrightarrow[z^{(i)} = {\\boldsymbol w}^T \\cdot {\\boldsymbol x}^{(i)} + b]{\\boldsymbol w，b} z^{(i)} \\xrightarrow{g(z^{(i)})} {\\hat y}^{(i)}\n",
    "$$"
   ]
  },
  {
   "cell_type": "markdown",
   "metadata": {},
   "source": [
    "&emsp;&emsp;感知機工作過程類似神經元被激活過程。  \n",
    "&emsp;&emsp;給定輸入${\\boldsymbol x}^{(i)}$，${\\boldsymbol x}^{(i)}$和感知機的權重$\\boldsymbol w$，偏差$b$執行線性運算：\n",
    "$$\n",
    "z^{(i)} = {\\boldsymbol w}^T \\cdot {\\boldsymbol x}^{(i)} + b \\tag{1}\n",
    "$$\n",
    "得到線性運算的結果$z^{(i)}$。$z^{(i)}$作為激活函數$g(\\cdot)$的輸入：\n",
    "$$\n",
    "{\\hat y}^{(i)} = g(z^{(i)}) \\tag{2}\n",
    "$$\n",
    "最後得到感知機的輸出${\\hat y}^{(i)}$。"
   ]
  },
  {
   "cell_type": "markdown",
   "metadata": {},
   "source": [
    " "
   ]
  },
  {
   "cell_type": "markdown",
   "metadata": {},
   "source": [
    "## 感知機用於二分類 | Model"
   ]
  },
  {
   "cell_type": "markdown",
   "metadata": {},
   "source": [
    "&emsp;&emsp;感知機可用於二分類。感知機二分類的過程見例1。"
   ]
  },
  {
   "cell_type": "markdown",
   "metadata": {},
   "source": [
    "「例1」根據感知機模型，描述感知機二分類的過程。  \n",
    "解：  \n",
    "&emsp;&emsp;&emsp;&emsp;給定輸入${\\boldsymbol x}^{(i)}$，${\\boldsymbol x}^{(i)}$和感知機的權重$\\boldsymbol w$，偏差$b$執行線性運算：\n",
    "$$\n",
    "z^{(i)} = {\\boldsymbol w}^T \\cdot {\\boldsymbol x}^{(i)} + b \\tag{3}\n",
    "$$\n",
    "&emsp;&emsp;得到線性運算的結果$z^{(i)}$。$z^{(i)}$作為激活函數$g(\\cdot)$的輸入：\n",
    "$$\n",
    "{\\hat y}^{(i)} = g(z^{(i)}) \\tag{4}\n",
    "$$\n",
    "&emsp;&emsp;最後得到感知機對输入的类别预测值${\\hat y}^{(i)}$。"
   ]
  },
  {
   "cell_type": "markdown",
   "metadata": {},
   "source": [
    " "
   ]
  },
  {
   "cell_type": "markdown",
   "metadata": {},
   "source": [
    "&emsp;&emsp;線性模型的輸出$z^{(i)} \\in R$，但是二分類的輸出結果只可能有兩種。因此激活函數$g(\\cdot)$需要對線性模型的輸出$z^{(i)}$作進一步處理，使感知機的最終輸出${\\hat y}^{(i)}$只有兩個可能。  \n",
    "&emsp;&emsp;假設正例為+1，負例為-1，那麼我們需要一個激活函數$g(\\cdot)$，使線性模型的輸出結果${\\hat y}^{(i)} \\in \\{-1, 1\\}$。"
   ]
  },
  {
   "cell_type": "markdown",
   "metadata": {},
   "source": [
    " "
   ]
  },
  {
   "cell_type": "markdown",
   "metadata": {},
   "source": [
    "### 符號函數sign"
   ]
  },
  {
   "cell_type": "markdown",
   "metadata": {},
   "source": [
    "&emsp;&emsp;符號函數$sign(\\cdot)$的性質能很好地滿足上述需求。其表達式如下：\n",
    "$$\n",
    "sign(x) = \\left\\{\n",
    "\\begin{align}\n",
    "+1 & \\ \\ (x \\ge 0) \\\\\n",
    "-1 & \\ \\ (x < 0)\n",
    "\\end{align}\n",
    "\\tag{5}\n",
    "\\right.\n",
    "$$"
   ]
  },
  {
   "cell_type": "markdown",
   "metadata": {},
   "source": [
    "&emsp;&emsp;其函數圖像如下："
   ]
  },
  {
   "cell_type": "code",
   "execution_count": 1,
   "metadata": {},
   "outputs": [
    {
     "data": {
      "image/png": "[encoded data removed]",
      "text/plain": [
       "<Figure size 432x288 with 1 Axes>"
      ]
     },
     "metadata": {
      "needs_background": "light"
     },
     "output_type": "display_data"
    }
   ],
   "source": [
    "import matplotlib.pyplot as plt\n",
    "\n",
    "# 圖1\n",
    "plt.plot([i for i in range(-100, 0)], [-1 for i in range(-100, 0)])\n",
    "plt.plot([i for i in range(0, 100)], [1 for i in range(0, 100)])\n",
    "plt.show()"
   ]
  },
  {
   "cell_type": "markdown",
   "metadata": {},
   "source": [
    "&emsp;&emsp;感知機用$sign(\\cdot)$作為激活函數的二分類過程如例2。"
   ]
  },
  {
   "cell_type": "markdown",
   "metadata": {},
   "source": [
    "「例2」根據感知機模型，描述感知機二分類的過程。激活函數使用符號函數$sign(\\cdot)$。  \n",
    "解：  \n",
    "&emsp;&emsp;&emsp;&emsp;給定輸入${\\boldsymbol x}^{(i)}$，${\\boldsymbol x}^{(i)}$和感知機的權重$\\boldsymbol w$，偏差$b$執行線性運算：\n",
    "$$\n",
    "z^{(i)} = {\\boldsymbol w}^T \\cdot {\\boldsymbol x}^{(i)} + b \\tag{6}\n",
    "$$\n",
    "&emsp;&emsp;得到線性運算的結果$z^{(i)}$。$z^{(i)}$作為激活函數$sign(\\cdot)$的輸入：\n",
    "$$\n",
    "{\\hat y}^{(i)} = g(z^{(i)}) \\tag{7}\n",
    "$$\n",
    "&emsp;&emsp;最後得到感知機的輸出${\\hat y}^{(i)} \\in \\{-1, 1\\}$。"
   ]
  },
  {
   "cell_type": "markdown",
   "metadata": {},
   "source": [
    " "
   ]
  },
  {
   "cell_type": "markdown",
   "metadata": {},
   "source": [
    "「例3」假設有兩個輸入：${\\boldsymbol x}^{(1)} = [0, 0]^T$，${\\boldsymbol x}^{(2)} = [1, 1]^T$，而感知機模型的線性模型部分$z^{(i)} = {\\boldsymbol w}^T \\cdot {\\boldsymbol x}^{(i)} + b$的參數經訓練後得到$\\boldsymbol w = [4.63, 4.63]^T$，$b = -7.05$。判斷兩個輸入的類別。  \n",
    "解：  \n",
    "&emsp;&emsp;&emsp;&emsp;根據題目，感知機的線性模型為：\n",
    "$$\n",
    "\\begin{align}\n",
    "z^{(i)} &= {\\boldsymbol w}^T \\cdot {\\boldsymbol x}^{(i)} + b \\tag{8.11} \\\\\n",
    "&= ([4.63, 4.63]^T)^T \\cdot {\\boldsymbol x}^{(i)} - 7.05 \\tag{8.12} \\\\\n",
    "&= [4.63, 4.63] \\cdot {\\boldsymbol x}^{(i)} - 7.05 \\tag{8.13}\n",
    "\\end{align}\n",
    "$$\n",
    "\n",
    "&emsp;&emsp;&emsp;&emsp;對${\\boldsymbol x}^{(1)}$：\n",
    "$$\n",
    "\\begin{align}\n",
    "z^{(1)} &= [4.63, 4.63] \\cdot [0, 0]^T - 7.05 \\tag{8.21} \\\\\n",
    "&= -0.75 \\tag{8.22} \\\\\n",
    "{\\hat y}^{(1)} &= sign(-0.75) \\tag{8.23} \\\\\n",
    "&= -1 \\tag{8.24}\n",
    "\\end{align}\n",
    "$$\n",
    "\n",
    "&emsp;&emsp;&emsp;&emsp; 對${\\boldsymbol x}^{(2)}$：\n",
    "$$\n",
    "\\begin{align}\n",
    "z^{(2)} &= [4.63, 4.63] \\cdot [1, 1]^T - 7.05 \\tag{8.31} \\\\\n",
    "&= 2.21 \\tag{8.32} \\\\\n",
    "{\\hat y}^{(1)} &= sign(2.21) \\tag{8.33} \\\\\n",
    "&= +1 \\tag{8.34}\n",
    "\\end{align}\n",
    "$$\n",
    "\n",
    "&emsp;&emsp;&emsp;&emsp;因此${\\boldsymbol x}^{(1)}$屬於負例，${\\boldsymbol x}^{(2)}$屬於正例。"
   ]
  },
  {
   "cell_type": "markdown",
   "metadata": {},
   "source": [
    " "
   ]
  },
  {
   "cell_type": "markdown",
   "metadata": {},
   "source": [
    "### 幾何解釋"
   ]
  },
  {
   "cell_type": "markdown",
   "metadata": {},
   "source": [
    "&emsp;&emsp;對於感知機的線性模型$z^{(i)} = {\\boldsymbol w}^T \\cdot {\\boldsymbol x}^{(i)} + b$，使$z^{(i)} = 0$，得到一個超平面：\n",
    "$$\n",
    "{\\boldsymbol w}^T \\cdot {\\boldsymbol x}+ b = 0 \\tag{9}\n",
    "$$\n",
    "&emsp;&emsp;這是輸入的特徵空間中的一個超平面，它把特徵空間分成兩部分。這個超平面的法向量是${\\boldsymbol w}$，位移是$b$。一個輸入$\\boldsymbol x^{(i)}$相當於特徵空間上的一個點。不同的輸入對應特徵空間上的不同的點。  \n",
    "&emsp;&emsp;這些點經過線性運算$z^{(i)} = {\\boldsymbol w}^T \\cdot {\\boldsymbol x}^{(i)} + b$得到的結果不一樣，有的大於等於0，有的小於0。  \n",
    "&emsp;&emsp;而激活函數$sign$的作用，就是把這些大小不同的點經過線性運算$z^{(i)} = {\\boldsymbol w}^T \\cdot {\\boldsymbol x}^{(i)} + b$之後的結果以超平面為界分成兩類。線性運算後結果大於等於0的點歸為一類，為正例；線性運算後結果小於0的點歸為另一類，為負例。這就起到了分類的作用。"
   ]
  },
  {
   "cell_type": "markdown",
   "metadata": {},
   "source": [
    "「例4」描述例3在幾何上的過程。  \n",
    "解：  \n",
    "&emsp;&emsp;使公式(8.3)的$z^{(i)}$為0，得到一個超平面：\n",
    "$$\n",
    "[4.63, 4.63] \\cdot {\\boldsymbol x} - 7.05 = 0 \\tag{10}\n",
    "$$\n",
    "&emsp;&emsp;由於輸入只有兩個特徵，故特徵空間是二維的，這個超平面就是一條直線："
   ]
  },
  {
   "cell_type": "code",
   "execution_count": 2,
   "metadata": {},
   "outputs": [
    {
     "data": {
      "image/png": "[encoded data removed]",
      "text/plain": [
       "<Figure size 432x288 with 1 Axes>"
      ]
     },
     "metadata": {
      "needs_background": "light"
     },
     "output_type": "display_data"
    }
   ],
   "source": [
    "x = [i for i in range(3)]\n",
    "y = [(-4.63 * i + 7.05) / 4.63 for i in range(3)]\n",
    "\n",
    "# 圖2\n",
    "# plt.scatter(x=[0, 0, 1], y=[0, 1, 0], s=60, marker='.', c='r')\n",
    "# plt.scatter(x=[1], y=[1], s=60, marker='+', c='b')\n",
    "plt.plot(x, y)\n",
    "plt.axis([-0.05, 1.5, -0.05, 1.5])\n",
    "plt.xlabel(\"x_1\")\n",
    "plt.ylabel(\"x_2\")\n",
    "plt.show()"
   ]
  },
  {
   "cell_type": "markdown",
   "metadata": {},
   "source": [
    "&emsp;&emsp;${\\boldsymbol x}^{(1)} = [0, 0]^T$，${\\boldsymbol x}^{(2)} = [1, 1]^T$在特徵空間中位置如圖"
   ]
  },
  {
   "cell_type": "code",
   "execution_count": 3,
   "metadata": {},
   "outputs": [
    {
     "data": {
      "image/png": "[encoded data removed]",
      "text/plain": [
       "<Figure size 432x288 with 1 Axes>"
      ]
     },
     "metadata": {
      "needs_background": "light"
     },
     "output_type": "display_data"
    }
   ],
   "source": [
    "# 圖3\n",
    "plt.scatter([0], [0], c='r', marker='x')\n",
    "plt.scatter([1], [1], c='b', marker='+')\n",
    "plt.plot(x, y)\n",
    "plt.axis([-0.05, 1.5, -0.05, 1.5])\n",
    "plt.xlabel(\"x_1\")\n",
    "plt.ylabel(\"x_2\")\n",
    "plt.show()"
   ]
  },
  {
   "cell_type": "markdown",
   "metadata": {},
   "source": [
    "&emsp;&emsp;點${\\boldsymbol x}^{(1)} = [0, 0]^T$經過線性運算$z^{(1)} = [4.63, 4.63] \\cdot [0, 0]^T - 7.05$後得到的結果$z^{(1)} = -0.75 < 0$，因此被激活函數歸為負例；點${\\boldsymbol x}^{(2)} = [1, 1]^T$經過線性運算後得到的結果$z^{(2)} = 2.21 > 0$，被激活函數歸為正例。"
   ]
  },
  {
   "cell_type": "markdown",
   "metadata": {},
   "source": [
    " "
   ]
  },
  {
   "cell_type": "markdown",
   "metadata": {},
   "source": [
    "## 評判標準 | Loss Function & Cost Function"
   ]
  },
  {
   "cell_type": "markdown",
   "metadata": {},
   "source": [
    "&emsp;&emsp;感知機分類性能的優劣可以通過誤分類樣本的數量進行判斷.誤分類樣本的數量越多,感知機分類性能越差,否則越好。下圖中，超平面左下為負例（紅色叉叉），右上為正例（藍色加號）。圖4的誤分類樣本數量多，因此其對應的感知機分類性能差；圖5誤分類樣本數量少，因此其對應的感知機分類性能好。"
   ]
  },
  {
   "cell_type": "code",
   "execution_count": 16,
   "metadata": {},
   "outputs": [
    {
     "data": {
      "image/png": "[encoded data removed]",
      "text/plain": [
       "<Figure size 432x288 with 1 Axes>"
      ]
     },
     "metadata": {
      "needs_background": "light"
     },
     "output_type": "display_data"
    },
    {
     "data": {
      "image/png": "[encoded data removed]",
      "text/plain": [
       "<Figure size 432x288 with 1 Axes>"
      ]
     },
     "metadata": {
      "needs_background": "light"
     },
     "output_type": "display_data"
    }
   ],
   "source": [
    "# 圖4\n",
    "plt.scatter([0, 0.15, 0.43, 0.64, 1.15, 1.36, 0.13, 1.17, 0.63], [0, 0.41, 0.37, 0.03, 0.12, 0.18, 0.04, 0.08, 1.13], c='r', marker='x')\n",
    "plt.scatter([1, 0.35, 0.82, 0.26, 0.64, 0.15, 1.23, 1.21, 1.03], [1, 1.36, 1.35, 1.36, 1.29, 1.12, 1.09, 1.13, 1.32], c='b', marker='+')\n",
    "plt.plot([i for i in range(3)], [-6 * i + 5 for i in range(3)])\n",
    "plt.axis([-0.05, 1.5, -0.05, 1.5])\n",
    "plt.xlabel(\"x_1\")\n",
    "plt.ylabel(\"x_2\")\n",
    "plt.show()\n",
    "\n",
    "# 圖5\n",
    "plt.scatter([0, 0.15, 0.43, 0.64, 1.15, 1.36, 0.13, 1.17, 0.63], [0, 0.41, 0.37, 0.03, 0.12, 0.18, 0.04, 0.08, 1.13], c='r', marker='x')\n",
    "plt.scatter([1, 0.35, 0.82, 0.26, 0.64, 0.15, 1.23, 1.21, 1.03], [1, 1.36, 1.35, 1.36, 1.29, 1.12, 1.09, 1.13, 1.32], c='b', marker='+')\n",
    "plt.plot(x, y)\n",
    "plt.axis([-0.05, 1.5, -0.05, 1.5])\n",
    "plt.xlabel(\"x_1\")\n",
    "plt.ylabel(\"x_2\")\n",
    "plt.show()"
   ]
  },
  {
   "cell_type": "markdown",
   "metadata": {},
   "source": [
    "&emsp;&emsp;但是，若以誤分類樣本的數量作為評判標準，其對應的損失函數難以優化。因此，感知機採用的是以誤分類的樣本點到超平面的距離作為損失。對於一個樣本，若其被分類正確，則規定損失為0；若其被分類錯誤，則損失為該誤分類樣本到超平面的距離為損失。\n",
    "$$\n",
    "L^{(i)} = \\left\\{\n",
    "\\begin{align}\n",
    "& 0 & \\mbox{${\\boldsymbol x}^{(i)}$被分類正確}  \\\\\n",
    "& d({\\boldsymbol x}^{(i)}到超平面) & \\mbox{${\\boldsymbol x}^{(i)}$被分類錯誤}\n",
    "\\end{align}\n",
    "\\tag{11}\n",
    "\\right.\n",
    "$$\n",
    "&emsp;&emsp;因為樣本點${\\boldsymbol x}^{(i)}$到超平面的距離（推導見例5）為\n",
    "$$\n",
    "d^{(i)} = \\frac{|{\\boldsymbol w}^T \\cdot {{\\boldsymbol x}^{(i)}} + b|}{||{\\boldsymbol w}||} \\tag{12}\n",
    "$$\n",
    "&emsp;&emsp;所以公式(11)也可寫成：\n",
    "$$\n",
    "L^{(i)} = \\left\\{\n",
    "\\begin{align}\n",
    "& 0 & \\mbox{${\\boldsymbol x}^{(i)}$被分類正確}  \\\\\n",
    "& \\frac{|{\\boldsymbol w}^T \\cdot {\\boldsymbol x}^{(i)} + b|}{||{\\boldsymbol w}||} & \\mbox{${\\boldsymbol x}^{(i)}$被分類錯誤}\n",
    "\\end{align}\n",
    "\\tag{13}\n",
    "\\right.\n",
    "$$"
   ]
  },
  {
   "cell_type": "markdown",
   "metadata": {},
   "source": [
    "「例5」證明超平面${\\boldsymbol w}^T \\cdot \\boldsymbol x + b = 0$外一點${\\boldsymbol x}^{(i)}$到超平面${\\boldsymbol w}^T \\cdot {{\\boldsymbol x}} + b$的距離為$\\frac{|{\\boldsymbol w}^T \\cdot {\\boldsymbol x}^{(i)} + b|}{||{\\boldsymbol w}||}$。  \n",
    "證：  \n",
    "&emsp;&emsp;當${\\boldsymbol w}^T \\cdot {\\boldsymbol x}^{(i)} + b > 0$：  \n",
    "&emsp;&emsp;&emsp;&emsp;由${\\boldsymbol x}^{(i)}$向超平面${\\boldsymbol w}^T \\cdot \\boldsymbol x + b = 0$作垂線交於${\\boldsymbol x}^{\\prime}$。\n",
    "$$\n",
    "\\begin{align}\n",
    "&\\therefore\\ \\vec {x^{\\prime}x^{(i)}} \\perp 超平面: \\ {\\boldsymbol w}^T \\cdot \\boldsymbol x + b = 0 \\tag{14.1} \\\\\n",
    "&\\therefore\\ {\\boldsymbol x}^{(i)} 到超平面距離\\ d = |\\vec {x^{\\prime}x^{(i)}}| \\tag{14.2} \\\\\n",
    "\\\\\n",
    "&\\because\\ 超平面法向量\\boldsymbol w \\perp 超平面 \\tag{14.3} \\\\\n",
    "&\\therefore\\ \\vec {x^{\\prime}x^{(i)}} \\parallel \\boldsymbol w \\tag{14.4} \\\\\n",
    "&\\because\\ \\vec {x^{\\prime}x^{(i)}}和\\boldsymbol w朝向相同 \\tag{14.5} \\\\\n",
    "&\\therefore \\cos<\\vec {x^{\\prime}x^{(i)}}, \\boldsymbol w> = \\cos 0 = 1 \\tag{14.6} \\\\\n",
    "&\\therefore\\ \\boldsymbol w \\cdot \\vec {x^{\\prime}x^{(i)}} \\tag{14.7} \\\\\n",
    "&= ||\\boldsymbol w|| \\cdot ||\\vec {x^{\\prime}x^{(i)}}|| \\cdot \\cos<\\vec {x^{\\prime}x^{(i)}}, \\boldsymbol w> \\tag{14.8} \\\\\n",
    "&= ||\\boldsymbol w|| \\cdot d \\cdot 1 \\tag{14.9} \\\\\n",
    "&\\therefore\\ d = \\frac{\\boldsymbol w \\cdot \\vec {x^{\\prime}x^{(i)}}}{||\\boldsymbol w||} \\tag{14.10} \\\\\n",
    "\\\\\n",
    "&\\ \\ \\ \\ \\ \\boldsymbol w \\cdot \\vec {x^{\\prime}x^{(i)}} \\tag{14.11} \\\\\n",
    "&= \\boldsymbol w \\cdot ({\\boldsymbol x}^{(i)} - {\\boldsymbol x}^{\\prime}) \\tag{14.12} \\\\\n",
    "&= \\boldsymbol w {\\boldsymbol x}^{(i)} - \\boldsymbol w {\\boldsymbol x}^{\\prime} \\tag{14.13} \\\\\n",
    "&= {\\boldsymbol w}^T {\\boldsymbol x}^{(i)} - \\boldsymbol w {\\boldsymbol x}^{\\prime} \\tag{14.14} \\\\\n",
    "&\\because\\ {\\boldsymbol x}^{\\prime}在超平面{\\boldsymbol w}^T \\cdot \\boldsymbol x + b = 0上 \\tag{14.15} \\\\\n",
    "&\\therefore\\ {\\boldsymbol w}^T \\cdot {\\boldsymbol x}^{\\prime} + b = 0 \\tag{14.16} \\\\\n",
    "&\\therefore\\ {\\boldsymbol w}^T \\cdot {\\boldsymbol x}^{\\prime} = -b \\tag{14.17} \\\\\n",
    "&\\therefore\\ \\boldsymbol w \\cdot \\vec {x^{\\prime}x^{(i)}} = {\\boldsymbol w}^T {\\boldsymbol x}^{(i)} + b \\tag{14.18} \\\\\n",
    "&\\because\\  \\boldsymbol w \\cdot \\vec {x^{\\prime}x^{(i)}} = ||\\boldsymbol w|| \\cdot d \\ge 0 \\tag{14.19} \\\\\n",
    "&\\therefore\\ {\\boldsymbol w}^T {\\boldsymbol x}^{(i)} + b \\ge 0 \\tag{14.20} \\\\\n",
    "&\\therefore\\ {\\boldsymbol w}^T {\\boldsymbol x}^{(i)} + b = |{\\boldsymbol w}^T {\\boldsymbol x}^{(i)} + b| \\tag{14.21} \\\\\n",
    "&\\therefore\\  \\boldsymbol w \\cdot \\vec {x^{\\prime}x^{(i)}} = |{\\boldsymbol w}^T {\\boldsymbol x}^{(i)} + b| \\tag{14.22} \\\\\n",
    "&\\therefore\\ d = \\frac{|{\\boldsymbol w}^T {\\boldsymbol x}^{(i)} + b|}{||\\boldsymbol w||} \\tag{14.23}\n",
    "\\end{align}\n",
    "$$\n",
    "&emsp;&emsp;${\\boldsymbol w}^T \\cdot {\\boldsymbol x}^{(i)} + b < 0$推導類似，結果相同。"
   ]
  },
  {
   "cell_type": "markdown",
   "metadata": {},
   "source": [
    " "
   ]
  },
  {
   "cell_type": "markdown",
   "metadata": {},
   "source": [
    "&emsp;&emsp;公式(12)中樣本${\\boldsymbol x}^{(i)}$被分類錯誤時的損失函數$\\frac{|{\\boldsymbol w}^T \\cdot {\\boldsymbol x}^{(i)} + b|}{||{\\boldsymbol w}||}$帶有絕對值，會給優化步驟的求導過程帶來不便，因此需要將絕對值符號去掉。  \n",
    "&emsp;&emsp;對錯誤分類的樣本${\\boldsymbol x}^{(i)}$而言，若樣本真實標記$y^{(i)} = -1$，其被誤分類為+1，即${\\boldsymbol w}^T \\cdot {\\boldsymbol x}^{(i)} + b \\ge 0$；若樣本真實標記$y^{(i)} = +1$，其被誤分類為-1，即${\\boldsymbol w}^T \\cdot {\\boldsymbol x}^{(i)} + b < 0$。因此，對誤分類樣本有：\n",
    "$$\n",
    "y^{(i)} ({\\boldsymbol w}^T \\cdot {\\boldsymbol x}^{(i)} + b) \\le 0 \\tag{15}\n",
    "$$\n",
    "&emsp;&emsp;即\n",
    "$$\n",
    "-y^{(i)} ({\\boldsymbol w}^T \\cdot {\\boldsymbol x}^{(i)} + b) \\ge 0 \\tag{16}\n",
    "$$\n",
    "&emsp;&emsp;因此公式(13)可以改寫成：\n",
    "$$\n",
    "L^{(i)} = \\left\\{\n",
    "\\begin{align}\n",
    "& 0 & \\mbox{${\\boldsymbol x}^{(i)}$被分類正確}  \\\\\n",
    "& \\frac{-y^{(i)} ({\\boldsymbol w}^T \\cdot {\\boldsymbol x}^{(i)} + b)}{||{\\boldsymbol w}||} & \\mbox{${\\boldsymbol x}^{(i)}$被分類錯誤}\n",
    "\\end{align}\n",
    "\\tag{17}\n",
    "\\right.\n",
    "$$"
   ]
  },
  {
   "cell_type": "markdown",
   "metadata": {},
   "source": [
    "&emsp;&emsp;根據上面討論，公式(15)能表示誤分類樣本，而正確分類的樣本可表示為：\n",
    "$$\n",
    "y^{(i)} ({\\boldsymbol w}^T \\cdot {\\boldsymbol x}^{(i)} + b) > 0 \\tag{18}\n",
    "$$\n",
    "因此，${\\boldsymbol x}^{(i)}$被正確、錯誤分類分別可以用公式(18)和公式(15)表示。因此公式(17)可以改寫成：\n",
    "  \n",
    "$$\n",
    "L^{(i)} = \\left\\{\n",
    "\\begin{align}\n",
    "& 0 & \\mbox{$y^{(i)} ({\\boldsymbol w}^T \\cdot {\\boldsymbol x}^{(i)} + b) > 0$}  \\\\\n",
    "& \\frac{-y^{(i)} ({\\boldsymbol w}^T \\cdot {\\boldsymbol x}^{(i)} + b)}{||{\\boldsymbol w}||} & \\mbox{$y^{(i)} ({\\boldsymbol w}^T \\cdot {\\boldsymbol x}^{(i)} + b) \\le 0$}\n",
    "\\end{align}\n",
    "\\tag{19}\n",
    "\\right.\n",
    "$$"
   ]
  },
  {
   "cell_type": "markdown",
   "metadata": {},
   "source": [
    "&emsp;&emsp;誤分類樣本的損失函數$\\frac{-y^{(i)} ({\\boldsymbol w}^T \\cdot {\\boldsymbol x}^{(i)} + b)}{||{\\boldsymbol w}||}$中的$\\frac{1}{||\\boldsymbol w||}$是一個實數，並不影響優化結果，因此可省略。因此公式(17)可寫成：\n",
    "$$\n",
    "L^{(i)} = \\left\\{\n",
    "\\begin{align}\n",
    "& 0 & \\mbox{$y^{(i)} ({\\boldsymbol w}^T \\cdot {\\boldsymbol x}^{(i)} + b) > 0$}  \\\\\n",
    "& {-y^{(i)} ({\\boldsymbol w}^T \\cdot {\\boldsymbol x}^{(i)} + b)} & \\mbox{$y^{(i)} ({\\boldsymbol w}^T \\cdot {\\boldsymbol x}^{(i)} + b) \\le 0$}\n",
    "\\end{align}\n",
    "\\tag{20}\n",
    "\\right.\n",
    "$$"
   ]
  },
  {
   "cell_type": "markdown",
   "metadata": {},
   "source": [
    "「例6」設某感知機超平面為 $2 \\cdot x + 3 = 0$，有兩個樣本點$x^{(1)} = 1, y^{(1)} = +1$、$x^{(2)} = 3, y^{(2)} = -1$。計算其損失。  \n",
    "解：  \n",
    "&emsp;&emsp;根據公式(20):\n",
    "$$\n",
    "\\begin{align}\n",
    "y^{(1)}(2 \\cdot x^{(1)} + 3) &= 5 > 0 \\tag{21.1} \\\\\n",
    "\\therefore L^{(1)} &= 0 \\tag{21.2} \\\\\n",
    "y^{(2)}(2 \\cdot x^{(2)} + 3) &= -9 \\le 0 \\tag{21.3} \\\\\n",
    "\\therefore L^{(2)} &= -9 \\tag{21.4}\n",
    "\\end{align}\n",
    "$$"
   ]
  },
  {
   "cell_type": "markdown",
   "metadata": {},
   "source": [
    " "
   ]
  },
  {
   "cell_type": "markdown",
   "metadata": {},
   "source": [
    "&emsp;&emsp;將損失函數求和可得代價函數：\n",
    "$$\n",
    "J = \\sum^m_{i=1} L^{(i)} \\tag{22}\n",
    "$$"
   ]
  },
  {
   "cell_type": "markdown",
   "metadata": {},
   "source": [
    " "
   ]
  },
  {
   "cell_type": "markdown",
   "metadata": {},
   "source": [
    "## 優化 | Optimization"
   ]
  },
  {
   "cell_type": "markdown",
   "metadata": {},
   "source": [
    "&emsp;&emsp;感知機採用的優化方法是隨機梯度下降。對於隨機抽取的一個樣本：\n",
    "$$\n",
    "\\boldsymbol w := \\boldsymbol w + \\eta \\nabla_{\\boldsymbol w} L^{(i)} \\\\\n",
    "b := b + \\eta \\nabla_{\\boldsymbol b} L^{(i)}\n",
    "$$\n",
    "&emsp;&emsp;其中，\n",
    "$$\n",
    "\\nabla_{\\boldsymbol w} L^{(i)} = \\left \\{\n",
    "\\begin{align}\n",
    "& 0 & \\mbox{${\\boldsymbol x}^{(i)}$被正確分類} \\\\\n",
    "&  -y^{(i)}{\\boldsymbol x}^{(i)} & \\mbox{${\\boldsymbol x}^{(i)}$被錯誤分類} \\\\\n",
    "\\end{align}\n",
    "\\tag{23}\n",
    "\\right.\n",
    "$$\n",
    "<br/>\n",
    "<br/>\n",
    "<br/>\n",
    "$$\n",
    "\\nabla_{\\boldsymbol b} L^{(i)} = \\left \\{\n",
    "\\begin{align}\n",
    "& 0 & \\mbox{${\\boldsymbol x}^{(i)}$被正確分類} \\\\\n",
    "&  -y^{(i)} & \\mbox{${\\boldsymbol x}^{(i)}$被錯誤分類} \\\\\n",
    "\\end{align}\n",
    "\\tag{24}\n",
    "\\right.\n",
    "$$\n",
    "&emsp;&emsp;當損失函數$J$為0時，全部樣本點被分類正確，優化完成。"
   ]
  }
 ],
 "metadata": {
  "kernelspec": {
   "display_name": "Python 3",
   "language": "python",
   "name": "python3"
  },
  "language_info": {
   "codemirror_mode": {
    "name": "ipython",
    "version": 3
   },
   "file_extension": ".py",
   "mimetype": "text/x-python",
   "name": "python",
   "nbconvert_exporter": "python",
   "pygments_lexer": "ipython3",
   "version": "3.7.5"
  }
 },
 "nbformat": 4,
 "nbformat_minor": 4
}
