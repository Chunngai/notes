{
 "cells": [
  {
   "cell_type": "markdown",
   "metadata": {},
   "source": [
    "# 線性回歸"
   ]
  },
  {
   "cell_type": "markdown",
   "metadata": {},
   "source": [
    "&emsp;&emsp;線性回歸用於擬合線性數據，並對新數據的標記作出預測。"
   ]
  },
  {
   "cell_type": "markdown",
   "metadata": {},
   "source": [
    " "
   ]
  },
  {
   "cell_type": "markdown",
   "metadata": {},
   "source": [
    "## 找一個超平面 | 模型"
   ]
  },
  {
   "cell_type": "markdown",
   "metadata": {},
   "source": [
    "&emsp;&emsp;假設有某個數據集$\\boldsymbol D_1 = \\{(x^{(i)}, y^{(i)})\\}^m_{i=1}$，其中$x^{(i)}$只有一個屬性，是一個實數。以$x^{(i)}$為橫軸，$y^{(i)}$為縱軸可視化如圖"
   ]
  },
  {
   "cell_type": "code",
   "execution_count": 21,
   "metadata": {},
   "outputs": [
    {
     "data": {
      "image/png": "[encoded data removed]",
      "text/plain": [
       "<Figure size 432x288 with 1 Axes>"
      ]
     },
     "metadata": {
      "needs_background": "light"
     },
     "output_type": "display_data"
    }
   ],
   "source": [
    "import matplotlib.pyplot as plt\n",
    "import random\n",
    "\n",
    "plt.scatter([i for i in range(-30, 30)], [2 * i + 33 + random.random() * 30 for i in range(-30, 30)])\n",
    "plt.xlabel(\"x\")\n",
    "plt.ylabel(\"y\")\n",
    "plt.show()"
   ]
  },
  {
   "cell_type": "markdown",
   "metadata": {},
   "source": [
    "&emsp;&emsp;可以看出，數據集$\\boldsymbol D_1$的數據樣本$x^{(i)}$可視化之後分布在一條直線附近，即線性分布的。因此，可用一條直線擬合數據\n",
    "$$\n",
    "{\\hat y}^{(i)} = w \\cdot x^{(i)} + b \\tag{1}\n",
    "$$"
   ]
  },
  {
   "cell_type": "markdown",
   "metadata": {},
   "source": [
    "&emsp;&emsp;這就是樣例$x^{(i)}$只有一個屬性時的數據集的線性回歸模型。"
   ]
  },
  {
   "cell_type": "markdown",
   "metadata": {},
   "source": [
    "&emsp;&emsp;假設有另一個數據集$\\boldsymbol D_2 = \\{({\\boldsymbol x}^{(i)}, y^{(i)})\\}^m_{i=1}$，其中${\\boldsymbol x}^{(i)} = \\{x^{(i)}_1, x^{(i)}_2, \\cdots, x^{(i)}_n\\}$有多個屬性，是一個向量。以${\\boldsymbol x}^{(i)}$為橫軸，$y^{(i)}$為縱軸可視化如圖"
   ]
  },
  {
   "cell_type": "code",
   "execution_count": 34,
   "metadata": {},
   "outputs": [
    {
     "data": {
      "image/png": "[encoded data removed]",
      "text/plain": [
       "<Figure size 432x288 with 1 Axes>"
      ]
     },
     "metadata": {
      "needs_background": "light"
     },
     "output_type": "display_data"
    }
   ],
   "source": [
    "plt.scatter([i for i in range(-30, 30)], [6 * i + 66 + random.random() * 30 for i in range(-30, 30)])\n",
    "plt.xlabel(r\"$\\vec x$\")\n",
    "plt.ylabel(\"y\")\n",
    "plt.show()"
   ]
  },
  {
   "cell_type": "markdown",
   "metadata": {},
   "source": [
    "&emsp;&emsp;可以看出，數據集$\\boldsymbol D_2$的數據樣本${\\boldsymbol x}^{(i)}$可視化之後分布在一條直線附近，即線性分布的。因此，可用一條“直線”擬合數據\n",
    "$$\n",
    "{\\hat y}^{(i)} = {\\boldsymbol w}^T \\cdot {\\boldsymbol x}^{(i)} + b \\tag{2}\n",
    "$$"
   ]
  },
  {
   "cell_type": "markdown",
   "metadata": {},
   "source": [
    "&emsp;&emsp;這就是樣例${\\boldsymbol x}^{(i)}$有多個屬性時的數據集的線性回歸模型。圖2是以向量${\\boldsymbol x}^{(i)}$為橫軸可視化的。嚴格來說，公式(2)代表一個超平面，這個超平面的法向量是$\\boldsymbol w$。實際上，公式(1)是公式(2)在${\\boldsymbol x}^{(i)}$只有一個屬性時的情形。公式(2)是線性回歸模型的一般形式。"
   ]
  },
  {
   "cell_type": "markdown",
   "metadata": {},
   "source": [
    " "
   ]
  },
  {
   "cell_type": "markdown",
   "metadata": {},
   "source": [
    "## 評判標準 | Loss Function & Cost Function"
   ]
  },
  {
   "cell_type": "markdown",
   "metadata": {},
   "source": [
    "&emsp;&emsp;線性回歸常以平方差作為損失函數\n",
    "$$\n",
    "L^{(i)} = ({\\hat y}^{(i)} - y^{(i)})^2 \\tag{3}\n",
    "$$"
   ]
  },
  {
   "cell_type": "markdown",
   "metadata": {},
   "source": [
    "&emsp;&emsp;因此代價函數為\n",
    "$$\n",
    "\\begin{align}\n",
    "J \n",
    "&= \\sum^m_{i=1} L^{(i)} \\tag{4.1} \\\\\n",
    "&= \\sum^m_{i=1} ({\\hat y}^{(i)} - y^{(i)})^2 \\tag{4.2}\n",
    "\\end{align}\n",
    "$$"
   ]
  },
  {
   "cell_type": "markdown",
   "metadata": {},
   "source": [
    " "
   ]
  },
  {
   "cell_type": "markdown",
   "metadata": {},
   "source": [
    "## &emsp;&emsp;優化 | Optimization"
   ]
  },
  {
   "cell_type": "markdown",
   "metadata": {},
   "source": [
    "&emsp;&emsp;可用批梯度下降優化線性回歸模型。\n",
    "$$\n",
    "\\begin{align}\n",
    "\\boldsymbol w &:= \\boldsymbol w - \\nabla_{\\boldsymbol w} J \\tag{5.1} \\\\\n",
    "b &:= b - \\nabla_b J \\tag{5.2}\n",
    "\\end{align}\n",
    "$$"
   ]
  },
  {
   "cell_type": "markdown",
   "metadata": {},
   "source": [
    "&emsp;&emsp;$\\nabla_{\\boldsymbol w} J$，$\\nabla_b J$計算見例1。"
   ]
  },
  {
   "cell_type": "markdown",
   "metadata": {},
   "source": [
    "「例1」求$\\nabla_{\\boldsymbol w} J$，$\\nabla_b J$  \n",
    "解：  \n",
    "$$\n",
    "\\begin{align}\n",
    "\\nabla_{\\boldsymbol w} J\n",
    "&= \\frac{\\partial J}{\\partial \\boldsymbol w} \\\\\n",
    "&= \\frac{\\partial \\sum^m_{i=1} ({\\hat y}^{(i)} - y^{(i)})^2}{\\partial \\boldsymbol w} \\\\\n",
    "&= \\frac{\\partial \\sum^m_{i=1} ({\\boldsymbol w}^T \\cdot {\\boldsymbol x}^{(i)} + b - y^{(i)})^2}{\\partial \\boldsymbol w} \\\\\n",
    "&= \\sum^m_{i=1} 2({\\boldsymbol w}^T \\cdot {\\boldsymbol x}^{(i)} + b - y^{(i)}) {\\boldsymbol x}^{(i)} \\\\\n",
    "&= \\sum^m_{i=1} 2({\\hat y}^{(i)} - y^{(i)}) {\\boldsymbol x}^{(i)} \\\\\n",
    "&= 2 \\sum^m_{i=1} ({\\hat y}^{(i)} - y^{(i)}) {\\boldsymbol x}^{(i)} \\\\\n",
    "\\\\\n",
    "\\nabla_{\\boldsymbol b} J\n",
    "&= \\frac{\\partial J}{\\partial \\boldsymbol b} \\\\\n",
    "&= \\frac{\\partial \\sum^m_{i=1} ({\\hat y}^{(i)} - y^{(i)})^2}{\\partial \\boldsymbol b} \\\\\n",
    "&= \\frac{\\partial \\sum^m_{i=1} ({\\boldsymbol w}^T \\cdot {\\boldsymbol x}^{(i)} + b - y^{(i)})^2}{\\partial \\boldsymbol b} \\\\\n",
    "&= \\sum^m_{i=1} 2({\\boldsymbol w}^T \\cdot {\\boldsymbol x}^{(i)} + b - y^{(i)}) \\\\\n",
    "&= \\sum^m_{i=1} 2({\\hat y}^{(i)} - y^{(i)}) \\\\\n",
    "&= 2 \\sum^m_{i=1} ({\\hat y}^{(i)} - y^{(i)}) \\\\\n",
    "\\end{align}\n",
    "$$"
   ]
  }
 ],
 "metadata": {
  "kernelspec": {
   "display_name": "Python 3",
   "language": "python",
   "name": "python3"
  },
  "language_info": {
   "codemirror_mode": {
    "name": "ipython",
    "version": 3
   },
   "file_extension": ".py",
   "mimetype": "text/x-python",
   "name": "python",
   "nbconvert_exporter": "python",
   "pygments_lexer": "ipython3",
   "version": "3.7.5"
  }
 },
 "nbformat": 4,
 "nbformat_minor": 4
}
